{
 "cells": [
  {
   "cell_type": "code",
   "execution_count": 1,
   "id": "dc05eb0a",
   "metadata": {},
   "outputs": [],
   "source": [
    "import numpy as np\n",
    "import pandas as pd\n",
    "import matplotlib.pyplot as plt"
   ]
  },
  {
   "cell_type": "markdown",
   "id": "78ca2ca1",
   "metadata": {},
   "source": [
    "# 评价指标"
   ]
  },
  {
   "cell_type": "code",
   "execution_count": 2,
   "id": "ff283d1e",
   "metadata": {},
   "outputs": [],
   "source": [
    "from sklearn.metrics import mean_squared_error\n",
    "from sklearn.metrics import mean_absolute_error\n",
    "from sklearn.metrics import r2_score"
   ]
  },
  {
   "cell_type": "code",
   "execution_count": 3,
   "id": "7e9410d5",
   "metadata": {},
   "outputs": [
    {
     "data": {
      "text/plain": [
       "(0.375, 0.5)"
      ]
     },
     "execution_count": 3,
     "metadata": {},
     "output_type": "execute_result"
    }
   ],
   "source": [
    "y_true = [3, -0.5, 2, 7]\n",
    "y_pred = [2.5, 0.0, 2, 8]\n",
    "mean_squared_error(y_true, y_pred), mean_absolute_error(y_true, y_pred)"
   ]
  },
  {
   "cell_type": "code",
   "execution_count": 4,
   "id": "1d6ef4c5",
   "metadata": {},
   "outputs": [
    {
     "data": {
      "text/plain": [
       "(0.375, 0.5)"
      ]
     },
     "execution_count": 4,
     "metadata": {},
     "output_type": "execute_result"
    }
   ],
   "source": [
    "np.mean((np.array(y_true) - np.array(y_pred))**2), np.mean(np.abs((np.array(y_true) - np.array(y_pred))))"
   ]
  },
  {
   "cell_type": "code",
   "execution_count": 5,
   "id": "5035a45a",
   "metadata": {},
   "outputs": [
    {
     "data": {
      "text/plain": [
       "0.9486081370449679"
      ]
     },
     "execution_count": 5,
     "metadata": {},
     "output_type": "execute_result"
    }
   ],
   "source": [
    "# R方评价，越接近1越好\n",
    "r2_score(y_true, y_pred)"
   ]
  },
  {
   "cell_type": "markdown",
   "id": "0fe0ea8a",
   "metadata": {},
   "source": [
    "$R^2(y, \\hat{y}) = 1 - \\frac{\\sum_{i=1}^{n} (y_i - \\hat{y}_i)^2}{\\sum_{i=1}^{n} (y_i - \\bar{y})^2}$"
   ]
  },
  {
   "cell_type": "code",
   "execution_count": 6,
   "id": "e99b723c",
   "metadata": {},
   "outputs": [
    {
     "data": {
      "text/plain": [
       "0.9486081370449679"
      ]
     },
     "execution_count": 6,
     "metadata": {},
     "output_type": "execute_result"
    }
   ],
   "source": [
    "1- np.sum((np.array(y_true) - np.array(y_pred))**2) / np.sum((np.array(y_true) - np.mean(y_true))**2)"
   ]
  },
  {
   "cell_type": "markdown",
   "id": "a1c5aa86",
   "metadata": {},
   "source": [
    "# 准备数据"
   ]
  },
  {
   "cell_type": "code",
   "execution_count": 7,
   "id": "e1c66dcb",
   "metadata": {},
   "outputs": [],
   "source": [
    "from sklearn import datasets"
   ]
  },
  {
   "cell_type": "code",
   "execution_count": 11,
   "id": "3548ed14",
   "metadata": {},
   "outputs": [],
   "source": [
    "#data = datasets.make_regression(n_samples=1000, n_features=5, n_informative=5, n_targets=1, bias=10, noise=20)"
   ]
  },
  {
   "cell_type": "markdown",
   "id": "a1e1b2e0",
   "metadata": {},
   "source": [
    "+ n_samples：样本数  \n",
    "+ n_features：特征数(自变量个数)  \n",
    "+ n_informative：相关特征(相关自变量个数)即参与了建模型的特征数  \n",
    "+ n_targets：因变量个数  \n",
    "+ bias：偏差(截距)  \n",
    "+ coef：是否输出coef标识  "
   ]
  },
  {
   "cell_type": "code",
   "execution_count": 14,
   "id": "8a16d0cb",
   "metadata": {},
   "outputs": [],
   "source": [
    "data = datasets.load_boston()"
   ]
  },
  {
   "cell_type": "markdown",
   "id": "3f0a0c5d",
   "metadata": {},
   "source": [
    "# 机器学习方法"
   ]
  },
  {
   "cell_type": "code",
   "execution_count": 15,
   "id": "a0f6df6e",
   "metadata": {},
   "outputs": [
    {
     "data": {
      "text/plain": [
       "((506, 13), (506,))"
      ]
     },
     "execution_count": 15,
     "metadata": {},
     "output_type": "execute_result"
    }
   ],
   "source": [
    "X = data['data']\n",
    "Y = data['target']\n",
    "X.shape,Y.shape"
   ]
  },
  {
   "cell_type": "code",
   "execution_count": 16,
   "id": "63ae82a5",
   "metadata": {},
   "outputs": [],
   "source": [
    "from sklearn.linear_model import LinearRegression\n",
    "from sklearn.linear_model import RidgeCV\n",
    "from sklearn.linear_model import LassoCV"
   ]
  },
  {
   "cell_type": "code",
   "execution_count": 17,
   "id": "3292d94e",
   "metadata": {},
   "outputs": [],
   "source": [
    "reg1 = LinearRegression()\n",
    "reg2 = RidgeCV(alphas=[1, 0.2, 10])\n",
    "reg3 = LassoCV(alphas=[0.1, 1, 10])"
   ]
  },
  {
   "cell_type": "code",
   "execution_count": 18,
   "id": "b0fcf40f",
   "metadata": {},
   "outputs": [
    {
     "data": {
      "text/plain": [
       "LassoCV(alphas=[0.1, 1, 10])"
      ]
     },
     "execution_count": 18,
     "metadata": {},
     "output_type": "execute_result"
    }
   ],
   "source": [
    "reg1.fit(X,Y)\n",
    "reg2.fit(X,Y)\n",
    "reg3.fit(X,Y)"
   ]
  },
  {
   "cell_type": "code",
   "execution_count": 19,
   "id": "c0cf8d23",
   "metadata": {},
   "outputs": [
    {
     "data": {
      "text/plain": [
       "(0.7406426641094094, 0.7404920401548895, 0.7269834862602695)"
      ]
     },
     "execution_count": 19,
     "metadata": {},
     "output_type": "execute_result"
    }
   ],
   "source": [
    "reg1.score(X,Y), reg2.score(X,Y),reg3.score(X,Y)"
   ]
  },
  {
   "cell_type": "code",
   "execution_count": 20,
   "id": "2a58404d",
   "metadata": {},
   "outputs": [
    {
     "data": {
      "text/plain": [
       "({'copy_X': True,\n",
       "  'fit_intercept': True,\n",
       "  'n_jobs': None,\n",
       "  'normalize': False,\n",
       "  'positive': False},\n",
       " array([-1.08011358e-01,  4.64204584e-02,  2.05586264e-02,  2.68673382e+00,\n",
       "        -1.77666112e+01,  3.80986521e+00,  6.92224640e-04, -1.47556685e+00,\n",
       "         3.06049479e-01, -1.23345939e-02, -9.52747232e-01,  9.31168327e-03,\n",
       "        -5.24758378e-01]),\n",
       " 36.45948838509008)"
      ]
     },
     "execution_count": 20,
     "metadata": {},
     "output_type": "execute_result"
    }
   ],
   "source": [
    "reg1.get_params(), reg1.coef_,  reg1.intercept_"
   ]
  },
  {
   "cell_type": "code",
   "execution_count": 21,
   "id": "a88c1b94",
   "metadata": {},
   "outputs": [
    {
     "data": {
      "text/plain": [
       "(0.2, 0.1)"
      ]
     },
     "execution_count": 21,
     "metadata": {},
     "output_type": "execute_result"
    }
   ],
   "source": [
    "reg2.alpha_,reg3.alpha_"
   ]
  },
  {
   "cell_type": "code",
   "execution_count": 22,
   "id": "6a4e1f27",
   "metadata": {},
   "outputs": [],
   "source": [
    "predict = reg2.predict(X)"
   ]
  },
  {
   "cell_type": "code",
   "execution_count": 23,
   "id": "6cc79c53",
   "metadata": {},
   "outputs": [
    {
     "data": {
      "text/plain": [
       "<matplotlib.collections.PathCollection at 0x1d4f83ccb20>"
      ]
     },
     "execution_count": 23,
     "metadata": {},
     "output_type": "execute_result"
    },
    {
     "data": {
      "image/png": "[encoded data removed]",
      "text/plain": [
       "<Figure size 432x288 with 1 Axes>"
      ]
     },
     "metadata": {
      "needs_background": "light"
     },
     "output_type": "display_data"
    }
   ],
   "source": [
    "plt.scatter(range(len(Y)), Y)\n",
    "plt.scatter(range(len(Y)), predict)"
   ]
  },
  {
   "cell_type": "code",
   "execution_count": 24,
   "id": "5749f245",
   "metadata": {},
   "outputs": [
    {
     "data": {
      "text/plain": [
       "21.907546789116264"
      ]
     },
     "execution_count": 24,
     "metadata": {},
     "output_type": "execute_result"
    }
   ],
   "source": [
    "mean_squared_error(Y,predict)"
   ]
  },
  {
   "cell_type": "markdown",
   "id": "d6877a0d",
   "metadata": {},
   "source": [
    "# 深度学习方法"
   ]
  },
  {
   "cell_type": "code",
   "execution_count": 49,
   "id": "c13dc53f",
   "metadata": {},
   "outputs": [
    {
     "data": {
      "text/plain": [
       "((506, 13), (506, 1))"
      ]
     },
     "execution_count": 49,
     "metadata": {},
     "output_type": "execute_result"
    }
   ],
   "source": [
    "X = data['data']\n",
    "Y = data['target'].reshape(-1,1)\n",
    "X.shape,Y.shape"
   ]
  },
  {
   "cell_type": "code",
   "execution_count": 50,
   "id": "6f07298d",
   "metadata": {},
   "outputs": [],
   "source": [
    "import torch\n",
    "from torch.utils.data import Dataset\n",
    "from torch.utils.data import DataLoader\n",
    "from torch import nn\n",
    "from torch.nn import functional as F\n",
    "from torch import optim"
   ]
  },
  {
   "cell_type": "code",
   "execution_count": 51,
   "id": "d5899cd7",
   "metadata": {},
   "outputs": [],
   "source": [
    "# 数据随机batch模块\n",
    "class DiabetesDataset(Dataset):\n",
    "    def __init__(self, x_, y_):\n",
    "        self.len = x_.shape[0]\n",
    "        self.x_data = torch.from_numpy(x_)\n",
    "        # 这部很关键， 特征类型要求float类型\n",
    "        self.x_data = self.x_data.float()\n",
    "\n",
    "        self.y_data = torch.from_numpy(y_)\n",
    "        self.y_data = self.y_data.float()\n",
    "\n",
    "    def __getitem__(self, item):\n",
    "        return self.x_data[item], self.y_data[item]\n",
    "\n",
    "    def __len__(self):\n",
    "        return self.len"
   ]
  },
  {
   "cell_type": "code",
   "execution_count": 52,
   "id": "ff75a6b8",
   "metadata": {},
   "outputs": [],
   "source": [
    "dataset = DiabetesDataset(X, Y)\n",
    "train_loader = DataLoader(dataset=dataset, batch_size=100, shuffle=True)"
   ]
  },
  {
   "cell_type": "code",
   "execution_count": 54,
   "id": "7c58119a",
   "metadata": {},
   "outputs": [],
   "source": [
    "#网络结构\n",
    "class NeuralNet(nn.Module):\n",
    "    def __init__(self, input_size_, hidden_size_1, hidden_size_2, num_classes_):\n",
    "        super().__init__()\n",
    "        self.fc1 = nn.Linear(input_size_, hidden_size_1) \n",
    "        self.fc2 = nn.Linear(hidden_size_1, hidden_size_2) \n",
    "        self.fc3 = nn.Linear(hidden_size_2, num_classes_)\n",
    "    \n",
    "    def forward(self, x):\n",
    "        out = self.fc1(x)\n",
    "        out = F.relu(out)\n",
    "        out = self.fc2(out)\n",
    "        out = F.relu(out)\n",
    "        out = self.fc3(out)\n",
    "        return out"
   ]
  },
  {
   "cell_type": "code",
   "execution_count": 55,
   "id": "fdeffc53",
   "metadata": {},
   "outputs": [
    {
     "name": "stdout",
     "output_type": "stream",
     "text": [
      "Epoch [1/2000], Step [1/6], Loss: 491.0155\n",
      "Epoch [1/2000], Step [6/6], Loss: 230.4301\n",
      "Epoch [501/2000], Step [1/6], Loss: 14.7903\n",
      "Epoch [501/2000], Step [6/6], Loss: 1.4991\n",
      "Epoch [1001/2000], Step [1/6], Loss: 15.8262\n",
      "Epoch [1001/2000], Step [6/6], Loss: 22.8745\n",
      "Epoch [1501/2000], Step [1/6], Loss: 20.6052\n",
      "Epoch [1501/2000], Step [6/6], Loss: 4.9151\n"
     ]
    }
   ],
   "source": [
    "model = NeuralNet(13, 7, 3, 1)\n",
    "#损失函数\n",
    "criterion = nn.MSELoss(reduction='mean')\n",
    "#优化算法\n",
    "optimizer = optim.Adam(model.parameters(), lr=0.01)\n",
    "\n",
    "total_step = len(train_loader)\n",
    "num_epochs = 2000\n",
    "for epoch in range(num_epochs):\n",
    "    for i, (x, y) in enumerate(train_loader):\n",
    "        # Reshape images to (batch_size, input_size)\n",
    "        x = x.reshape(-1, 13)\n",
    "        # Forward pass\n",
    "        outputs = model(x)\n",
    "        loss = criterion(outputs, y)\n",
    "\n",
    "        # Backward and optimize\n",
    "        optimizer.zero_grad()\n",
    "        loss.backward()\n",
    "        optimizer.step()\n",
    "        #输出中间信息\n",
    "        if i % 5 == 0 and epoch%500==0:\n",
    "            print('Epoch [{}/{}], Step [{}/{}], Loss: {:.4f}'\n",
    "                  .format(epoch + 1, num_epochs, i + 1, total_step, loss.item()))"
   ]
  },
  {
   "cell_type": "code",
   "execution_count": 56,
   "id": "28854476",
   "metadata": {},
   "outputs": [],
   "source": [
    "predict_deep = model(torch.from_numpy(X).float())"
   ]
  },
  {
   "cell_type": "code",
   "execution_count": 57,
   "id": "ee457c87",
   "metadata": {},
   "outputs": [
    {
     "data": {
      "text/plain": [
       "13.133901028613408"
      ]
     },
     "execution_count": 57,
     "metadata": {},
     "output_type": "execute_result"
    }
   ],
   "source": [
    "mean_squared_error(Y,predict_deep.detach().numpy())"
   ]
  },
  {
   "cell_type": "code",
   "execution_count": 58,
   "id": "3a6bc50c",
   "metadata": {},
   "outputs": [],
   "source": [
    "# 保存模型\n",
    "path = './reg.pth'\n",
    "torch.save(model.state_dict(), path)"
   ]
  },
  {
   "cell_type": "code",
   "execution_count": 59,
   "id": "c76bb66d",
   "metadata": {},
   "outputs": [
    {
     "data": {
      "text/plain": [
       "OrderedDict([('fc1.weight',\n",
       "              tensor([[-3.0034e-01,  1.5725e-01, -2.6802e-01, -2.1267e-01, -2.4143e-01,\n",
       "                       -1.6959e-01, -2.7405e-01,  1.6033e-01,  1.9239e-01, -1.6463e-01,\n",
       "                       -5.5064e-02, -3.4731e-02,  1.7480e-01],\n",
       "                      [ 8.8046e-01,  1.1913e+00,  1.3887e+00, -4.4085e+00, -2.8481e+00,\n",
       "                        2.5663e-01,  9.5329e-01, -5.8643e+00, -4.6895e-01,  8.0245e-02,\n",
       "                       -2.0716e+00, -1.2444e-01, -4.3277e+00],\n",
       "                      [-1.3782e-01,  1.2946e-01,  8.4082e-03,  2.4420e-01,  1.4433e-01,\n",
       "                       -1.0596e-01,  2.3029e-01,  4.1246e-02, -7.7285e-02, -2.7710e-01,\n",
       "                       -1.1892e-01,  8.5188e-02,  4.9427e-03],\n",
       "                      [ 3.3132e+00, -2.5339e-02, -5.2003e-01, -4.2025e+00, -3.2981e-01,\n",
       "                       -3.9137e+00, -1.7737e-01,  6.6557e-01, -6.9052e-01,  2.4531e-02,\n",
       "                        1.4616e-01, -1.8305e-01, -1.2489e+00],\n",
       "                      [-2.2989e-01, -9.5176e-02,  3.0190e-02,  1.3382e-02,  1.1301e-01,\n",
       "                       -9.6975e-02,  6.3519e-02, -2.7369e-01,  1.4313e-01, -8.1339e-02,\n",
       "                       -1.1163e-01, -2.0268e-01, -8.4600e-02],\n",
       "                      [-1.5742e+00,  5.9340e-02,  3.1328e-02,  4.6818e+00,  2.0674e-01,\n",
       "                        8.4516e+00, -1.9412e-01, -9.3611e-01,  8.8059e-01, -4.5565e-02,\n",
       "                       -3.5855e-01,  1.0311e-01, -7.9691e-01],\n",
       "                      [ 7.0569e-01, -6.6363e-02, -1.4271e+00,  2.5688e+00, -1.1030e+00,\n",
       "                        5.8862e+00,  6.5263e-02, -3.9598e+00,  1.4812e+00, -1.2002e-02,\n",
       "                       -1.7906e+00,  1.3699e-01, -4.7637e+00]])),\n",
       "             ('fc1.bias',\n",
       "              tensor([-0.1187,  1.7050,  0.1144, -2.6517,  0.0058,  4.9058,  1.5427])),\n",
       "             ('fc2.weight',\n",
       "              tensor([[-0.1037, -0.1424, -0.3486, -0.6412,  0.0882, -0.5470, -0.1043],\n",
       "                      [-0.0395,  0.4402, -0.3447, -0.3692, -0.0271,  0.4680,  0.6849],\n",
       "                      [ 0.2988, -0.1857, -0.3449, -0.3295,  0.3204, -0.2079,  0.2462]])),\n",
       "             ('fc2.bias', tensor([-0.5453,  4.9579, -0.0725])),\n",
       "             ('fc3.weight', tensor([[ 0.0188,  0.5027, -0.3049]])),\n",
       "             ('fc3.bias', tensor([6.4069]))])"
      ]
     },
     "execution_count": 59,
     "metadata": {},
     "output_type": "execute_result"
    }
   ],
   "source": [
    "# 查看参数,保存模型时候保存的就是这些参数\n",
    "pargram = model.state_dict()\n",
    "pargram"
   ]
  },
  {
   "cell_type": "markdown",
   "id": "ef6bf757",
   "metadata": {},
   "source": [
    "下面是整个神经网络结构图，第一层输入层13个特征，中间层分别是7个神经元和3个神经元，最后的输出层是1"
   ]
  },
  {
   "cell_type": "markdown",
   "id": "0f48c18b",
   "metadata": {},
   "source": [
    "![](.\\img\\img1.png)"
   ]
  },
  {
   "cell_type": "code",
   "execution_count": 64,
   "id": "b40123be",
   "metadata": {},
   "outputs": [
    {
     "data": {
      "text/plain": [
       "torch.Size([7, 13])"
      ]
     },
     "execution_count": 64,
     "metadata": {},
     "output_type": "execute_result"
    }
   ],
   "source": [
    "pargram['fc1.weight'].shape"
   ]
  },
  {
   "cell_type": "code",
   "execution_count": 61,
   "id": "6afa7849",
   "metadata": {},
   "outputs": [
    {
     "data": {
      "text/plain": [
       "NeuralNet(\n",
       "  (fc1): Linear(in_features=13, out_features=7, bias=True)\n",
       "  (fc2): Linear(in_features=7, out_features=3, bias=True)\n",
       "  (fc3): Linear(in_features=3, out_features=1, bias=True)\n",
       ")"
      ]
     },
     "execution_count": 61,
     "metadata": {},
     "output_type": "execute_result"
    }
   ],
   "source": [
    "# 加载模型\n",
    "model = NeuralNet(13, 7, 3, 1)\n",
    "model.load_state_dict(torch.load('./reg.pth'))\n",
    "#必须调用model.eval()将dropout和batch normalization层设置为测试模式，不然会导致不一致的结果。\n",
    "model.eval()"
   ]
  },
  {
   "cell_type": "code",
   "execution_count": 62,
   "id": "531a18ac",
   "metadata": {},
   "outputs": [
    {
     "data": {
      "text/plain": [
       "13.133901028613408"
      ]
     },
     "execution_count": 62,
     "metadata": {},
     "output_type": "execute_result"
    }
   ],
   "source": [
    "#预测\n",
    "predict_deep2 = model(torch.from_numpy(X).float())\n",
    "mean_squared_error(Y,predict_deep2.detach().numpy())"
   ]
  },
  {
   "cell_type": "markdown",
   "id": "271b6e32",
   "metadata": {},
   "source": [
    "# XGBOOST方法"
   ]
  },
  {
   "cell_type": "code",
   "execution_count": 1,
   "id": "ed3e6266",
   "metadata": {},
   "outputs": [
    {
     "ename": "ModuleNotFoundError",
     "evalue": "No module named 'xgboost'",
     "output_type": "error",
     "traceback": [
      "\u001b[1;31m---------------------------------------------------------------------------\u001b[0m",
      "\u001b[1;31mModuleNotFoundError\u001b[0m                       Traceback (most recent call last)",
      "\u001b[1;32m<ipython-input-1-5943d1bfe3f1>\u001b[0m in \u001b[0;36m<module>\u001b[1;34m\u001b[0m\n\u001b[1;32m----> 1\u001b[1;33m \u001b[1;32mimport\u001b[0m \u001b[0mxgboost\u001b[0m \u001b[1;32mas\u001b[0m \u001b[0mxgb\u001b[0m\u001b[1;33m\u001b[0m\u001b[1;33m\u001b[0m\u001b[0m\n\u001b[0m",
      "\u001b[1;31mModuleNotFoundError\u001b[0m: No module named 'xgboost'"
     ]
    }
   ],
   "source": [
    "import xgboost as xgb"
   ]
  },
  {
   "cell_type": "code",
   "execution_count": 68,
   "id": "810c320d",
   "metadata": {},
   "outputs": [
    {
     "data": {
      "text/plain": [
       "((506, 13), (506, 1))"
      ]
     },
     "execution_count": 68,
     "metadata": {},
     "output_type": "execute_result"
    }
   ],
   "source": [
    "X = data['data']\n",
    "Y = data['target'].reshape(-1,1)\n",
    "X.shape,Y.shape"
   ]
  },
  {
   "cell_type": "code",
   "execution_count": 71,
   "id": "cef91946",
   "metadata": {},
   "outputs": [],
   "source": [
    "#数据转换成Dmatrix格式，xgboost必须\n",
    "xgtrain = xgb.DMatrix(X, Y)"
   ]
  },
  {
   "cell_type": "markdown",
   "id": "d7061b7b",
   "metadata": {},
   "source": [
    "1 101:1.2 102:0.03  \n",
    "0 1:2.1 10001:300 10002:400  \n",
    "0 0:1.3 1:0.3  \n",
    "1 0:0.01 1:0.3  \n",
    "0 0:0.2 1:0.3  \n",
    "每行代表一个实例，第一行'1'是实例标签，'101'和'102'是特征索引，'1.2'和'0.03'是特征值。  \n",
    "这种方式只记录有数值的特征的索引号，其他的都不记录达到节省内存效果，稀疏矩阵。  "
   ]
  },
  {
   "cell_type": "code",
   "execution_count": 88,
   "id": "7c84a25b",
   "metadata": {},
   "outputs": [],
   "source": [
    "#参数设置\n",
    "params = {\n",
    "    'booster': 'gbtree',\n",
    "    'objective': 'reg:squarederror',  # 均分误差\n",
    "    'gamma': 0.1,                  # 用于控制是否后剪枝的参数,越大越保守，一般0.1、0.2这样子。\n",
    "    'max_depth': 50,               # 构建树的深度，越大越容易过拟合\n",
    "    'lambda': 1,                   # 控制模型复杂度的权重值的L2正则化项参数，参数越大，模型越不容易过拟合。\n",
    "    'subsample': 0.7,              # 随机采样训练样本\n",
    "    'colsample_bytree': 0.7,       # 生成树时进行的列采样\n",
    "    'min_child_weight': 3,\n",
    "    'silent': 0,                   # 设置成1则没有运行信息输出，最好是设置为0.\n",
    "    'eta': 0.02,                  # 如同学习率\n",
    "    'seed': 1000,\n",
    "    'nthread': 4,                  # cpu 线程数\n",
    "}"
   ]
  },
  {
   "cell_type": "code",
   "execution_count": 89,
   "id": "267c326a",
   "metadata": {},
   "outputs": [
    {
     "name": "stdout",
     "output_type": "stream",
     "text": [
      "[13:38:20] WARNING: C:/Users/Administrator/workspace/xgboost-win64_release_1.4.0/src/learner.cc:573: \n",
      "Parameters: { \"silent\" } might not be used.\n",
      "\n",
      "  This may not be accurate due to some parameters are only used in language bindings but\n",
      "  passed down to XGBoost core.  Or some parameters are not used but slip through this\n",
      "  verification. Please open an issue if you find above cases.\n",
      "\n",
      "\n",
      "[0]\ttranin-rmse:23.42431\n",
      "[1]\ttranin-rmse:22.99451\n",
      "[2]\ttranin-rmse:22.56057\n",
      "[3]\ttranin-rmse:22.14789\n",
      "[4]\ttranin-rmse:21.73189\n",
      "[5]\ttranin-rmse:21.32071\n",
      "[6]\ttranin-rmse:20.92844\n",
      "[7]\ttranin-rmse:20.55426\n",
      "[8]\ttranin-rmse:20.17270\n",
      "[9]\ttranin-rmse:19.79539\n",
      "[10]\ttranin-rmse:19.42514\n",
      "[11]\ttranin-rmse:19.07285\n",
      "[12]\ttranin-rmse:18.71902\n",
      "[13]\ttranin-rmse:18.36912\n",
      "[14]\ttranin-rmse:18.02548\n",
      "[15]\ttranin-rmse:17.69291\n",
      "[16]\ttranin-rmse:17.36348\n",
      "[17]\ttranin-rmse:17.03935\n",
      "[18]\ttranin-rmse:16.72038\n",
      "[19]\ttranin-rmse:16.41365\n",
      "[20]\ttranin-rmse:16.11544\n",
      "[21]\ttranin-rmse:15.82127\n",
      "[22]\ttranin-rmse:15.53478\n",
      "[23]\ttranin-rmse:15.24597\n",
      "[24]\ttranin-rmse:14.96444\n",
      "[25]\ttranin-rmse:14.68998\n",
      "[26]\ttranin-rmse:14.41819\n",
      "[27]\ttranin-rmse:14.15598\n",
      "[28]\ttranin-rmse:13.89465\n",
      "[29]\ttranin-rmse:13.63990\n",
      "[30]\ttranin-rmse:13.38861\n",
      "[31]\ttranin-rmse:13.14556\n",
      "[32]\ttranin-rmse:12.90594\n",
      "[33]\ttranin-rmse:12.67502\n",
      "[34]\ttranin-rmse:12.44407\n",
      "[35]\ttranin-rmse:12.22092\n",
      "[36]\ttranin-rmse:12.00252\n",
      "[37]\ttranin-rmse:11.80061\n",
      "[38]\ttranin-rmse:11.58938\n",
      "[39]\ttranin-rmse:11.38327\n",
      "[40]\ttranin-rmse:11.17966\n",
      "[41]\ttranin-rmse:10.97923\n",
      "[42]\ttranin-rmse:10.78692\n",
      "[43]\ttranin-rmse:10.59154\n",
      "[44]\ttranin-rmse:10.40786\n",
      "[45]\ttranin-rmse:10.22885\n",
      "[46]\ttranin-rmse:10.05039\n",
      "[47]\ttranin-rmse:9.87872\n",
      "[48]\ttranin-rmse:9.70801\n",
      "[49]\ttranin-rmse:9.54466\n",
      "[50]\ttranin-rmse:9.37819\n",
      "[51]\ttranin-rmse:9.20947\n",
      "[52]\ttranin-rmse:9.04810\n",
      "[53]\ttranin-rmse:8.89145\n",
      "[54]\ttranin-rmse:8.73956\n",
      "[55]\ttranin-rmse:8.59193\n",
      "[56]\ttranin-rmse:8.44279\n",
      "[57]\ttranin-rmse:8.29927\n",
      "[58]\ttranin-rmse:8.15909\n",
      "[59]\ttranin-rmse:8.01913\n",
      "[60]\ttranin-rmse:7.87782\n",
      "[61]\ttranin-rmse:7.74108\n",
      "[62]\ttranin-rmse:7.61288\n",
      "[63]\ttranin-rmse:7.47869\n",
      "[64]\ttranin-rmse:7.35853\n",
      "[65]\ttranin-rmse:7.23514\n",
      "[66]\ttranin-rmse:7.11567\n",
      "[67]\ttranin-rmse:6.99730\n",
      "[68]\ttranin-rmse:6.87938\n",
      "[69]\ttranin-rmse:6.76835\n",
      "[70]\ttranin-rmse:6.65756\n",
      "[71]\ttranin-rmse:6.55105\n",
      "[72]\ttranin-rmse:6.44055\n",
      "[73]\ttranin-rmse:6.33613\n",
      "[74]\ttranin-rmse:6.23959\n",
      "[75]\ttranin-rmse:6.13758\n",
      "[76]\ttranin-rmse:6.04356\n",
      "[77]\ttranin-rmse:5.94555\n",
      "[78]\ttranin-rmse:5.84870\n",
      "[79]\ttranin-rmse:5.75287\n",
      "[80]\ttranin-rmse:5.66003\n",
      "[81]\ttranin-rmse:5.57022\n",
      "[82]\ttranin-rmse:5.48170\n",
      "[83]\ttranin-rmse:5.39556\n",
      "[84]\ttranin-rmse:5.30942\n",
      "[85]\ttranin-rmse:5.22662\n",
      "[86]\ttranin-rmse:5.14537\n",
      "[87]\ttranin-rmse:5.06405\n",
      "[88]\ttranin-rmse:4.98670\n",
      "[89]\ttranin-rmse:4.90964\n",
      "[90]\ttranin-rmse:4.83296\n",
      "[91]\ttranin-rmse:4.75582\n",
      "[92]\ttranin-rmse:4.68458\n",
      "[93]\ttranin-rmse:4.61569\n",
      "[94]\ttranin-rmse:4.54606\n",
      "[95]\ttranin-rmse:4.47541\n",
      "[96]\ttranin-rmse:4.41119\n",
      "[97]\ttranin-rmse:4.34672\n",
      "[98]\ttranin-rmse:4.28436\n",
      "[99]\ttranin-rmse:4.22122\n",
      "[100]\ttranin-rmse:4.16101\n",
      "[101]\ttranin-rmse:4.09731\n",
      "[102]\ttranin-rmse:4.03561\n",
      "[103]\ttranin-rmse:3.97670\n",
      "[104]\ttranin-rmse:3.91657\n",
      "[105]\ttranin-rmse:3.86111\n",
      "[106]\ttranin-rmse:3.80262\n",
      "[107]\ttranin-rmse:3.74518\n",
      "[108]\ttranin-rmse:3.69432\n",
      "[109]\ttranin-rmse:3.64057\n",
      "[110]\ttranin-rmse:3.59167\n",
      "[111]\ttranin-rmse:3.54368\n",
      "[112]\ttranin-rmse:3.49196\n",
      "[113]\ttranin-rmse:3.44736\n",
      "[114]\ttranin-rmse:3.39793\n",
      "[115]\ttranin-rmse:3.35038\n",
      "[116]\ttranin-rmse:3.30207\n",
      "[117]\ttranin-rmse:3.25667\n",
      "[118]\ttranin-rmse:3.20956\n",
      "[119]\ttranin-rmse:3.16243\n",
      "[120]\ttranin-rmse:3.11989\n",
      "[121]\ttranin-rmse:3.07976\n",
      "[122]\ttranin-rmse:3.04059\n",
      "[123]\ttranin-rmse:3.00219\n",
      "[124]\ttranin-rmse:2.95861\n",
      "[125]\ttranin-rmse:2.91643\n",
      "[126]\ttranin-rmse:2.87769\n",
      "[127]\ttranin-rmse:2.83954\n",
      "[128]\ttranin-rmse:2.80647\n",
      "[129]\ttranin-rmse:2.77287\n",
      "[130]\ttranin-rmse:2.73341\n",
      "[131]\ttranin-rmse:2.69984\n",
      "[132]\ttranin-rmse:2.66451\n",
      "[133]\ttranin-rmse:2.63046\n",
      "[134]\ttranin-rmse:2.59628\n",
      "[135]\ttranin-rmse:2.56306\n",
      "[136]\ttranin-rmse:2.53267\n",
      "[137]\ttranin-rmse:2.50247\n",
      "[138]\ttranin-rmse:2.47453\n",
      "[139]\ttranin-rmse:2.44458\n",
      "[140]\ttranin-rmse:2.41318\n",
      "[141]\ttranin-rmse:2.38400\n",
      "[142]\ttranin-rmse:2.35597\n",
      "[143]\ttranin-rmse:2.32760\n",
      "[144]\ttranin-rmse:2.30046\n",
      "[145]\ttranin-rmse:2.27401\n",
      "[146]\ttranin-rmse:2.24894\n",
      "[147]\ttranin-rmse:2.22189\n",
      "[148]\ttranin-rmse:2.19610\n",
      "[149]\ttranin-rmse:2.16665\n",
      "[150]\ttranin-rmse:2.13933\n",
      "[151]\ttranin-rmse:2.11563\n",
      "[152]\ttranin-rmse:2.09322\n",
      "[153]\ttranin-rmse:2.06645\n",
      "[154]\ttranin-rmse:2.04177\n",
      "[155]\ttranin-rmse:2.02093\n",
      "[156]\ttranin-rmse:1.99779\n",
      "[157]\ttranin-rmse:1.97667\n",
      "[158]\ttranin-rmse:1.95488\n",
      "[159]\ttranin-rmse:1.93478\n",
      "[160]\ttranin-rmse:1.91410\n",
      "[161]\ttranin-rmse:1.89514\n",
      "[162]\ttranin-rmse:1.87464\n",
      "[163]\ttranin-rmse:1.85333\n",
      "[164]\ttranin-rmse:1.83278\n",
      "[165]\ttranin-rmse:1.81216\n",
      "[166]\ttranin-rmse:1.79499\n",
      "[167]\ttranin-rmse:1.77726\n",
      "[168]\ttranin-rmse:1.75877\n",
      "[169]\ttranin-rmse:1.73928\n",
      "[170]\ttranin-rmse:1.72234\n",
      "[171]\ttranin-rmse:1.70598\n",
      "[172]\ttranin-rmse:1.68765\n",
      "[173]\ttranin-rmse:1.67145\n",
      "[174]\ttranin-rmse:1.65528\n",
      "[175]\ttranin-rmse:1.63900\n",
      "[176]\ttranin-rmse:1.62374\n",
      "[177]\ttranin-rmse:1.60470\n",
      "[178]\ttranin-rmse:1.58722\n",
      "[179]\ttranin-rmse:1.57019\n",
      "[180]\ttranin-rmse:1.55547\n",
      "[181]\ttranin-rmse:1.54110\n",
      "[182]\ttranin-rmse:1.52657\n",
      "[183]\ttranin-rmse:1.51467\n",
      "[184]\ttranin-rmse:1.50103\n",
      "[185]\ttranin-rmse:1.48477\n",
      "[186]\ttranin-rmse:1.46888\n",
      "[187]\ttranin-rmse:1.45379\n",
      "[188]\ttranin-rmse:1.44124\n",
      "[189]\ttranin-rmse:1.42692\n",
      "[190]\ttranin-rmse:1.41389\n",
      "[191]\ttranin-rmse:1.40098\n",
      "[192]\ttranin-rmse:1.38756\n",
      "[193]\ttranin-rmse:1.37565\n",
      "[194]\ttranin-rmse:1.36443\n",
      "[195]\ttranin-rmse:1.35205\n",
      "[196]\ttranin-rmse:1.33879\n",
      "[197]\ttranin-rmse:1.32774\n",
      "[198]\ttranin-rmse:1.31496\n",
      "[199]\ttranin-rmse:1.30312\n"
     ]
    }
   ],
   "source": [
    "#设定需要查看模型训练时的输出\n",
    "watchlist = [(xgtrain,'tranin')]\n",
    "num_round = 200\n",
    "bst = xgb.train(params, xgtrain, num_round, watchlist)\n",
    "#使用模型预测\n",
    "preds = bst.predict(xgtrain)"
   ]
  },
  {
   "cell_type": "code",
   "execution_count": 91,
   "id": "02500e33",
   "metadata": {},
   "outputs": [
    {
     "data": {
      "text/plain": [
       "1.6981245335226238"
      ]
     },
     "execution_count": 91,
     "metadata": {},
     "output_type": "execute_result"
    }
   ],
   "source": [
    "#模型评估\n",
    "mean_squared_error(Y, preds)"
   ]
  },
  {
   "cell_type": "code",
   "execution_count": null,
   "id": "7ba0d150",
   "metadata": {},
   "outputs": [],
   "source": []
  }
 ],
 "metadata": {
  "kernelspec": {
   "display_name": "Python 3",
   "language": "python",
   "name": "python3"
  },
  "language_info": {
   "codemirror_mode": {
    "name": "ipython",
    "version": 3
   },
   "file_extension": ".py",
   "mimetype": "text/x-python",
   "name": "python",
   "nbconvert_exporter": "python",
   "pygments_lexer": "ipython3",
   "version": "3.8.8"
  }
 },
 "nbformat": 4,
 "nbformat_minor": 5
}
