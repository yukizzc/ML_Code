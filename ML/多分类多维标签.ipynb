{
 "cells": [
  {
   "cell_type": "code",
   "execution_count": 1,
   "id": "d35c4432",
   "metadata": {},
   "outputs": [],
   "source": [
    "import numpy as np\n",
    "import pandas as pd\n",
    "import matplotlib.pyplot as plt"
   ]
  },
  {
   "cell_type": "markdown",
   "id": "b9fdfb9e",
   "metadata": {},
   "source": [
    "# 评价指标"
   ]
  },
  {
   "cell_type": "code",
   "execution_count": 2,
   "id": "45f67bbf",
   "metadata": {},
   "outputs": [],
   "source": [
    "from sklearn.metrics import accuracy_score\n",
    "from sklearn import metrics"
   ]
  },
  {
   "cell_type": "code",
   "execution_count": 3,
   "id": "bba3d105",
   "metadata": {},
   "outputs": [
    {
     "data": {
      "text/plain": [
       "0.5"
      ]
     },
     "execution_count": 3,
     "metadata": {},
     "output_type": "execute_result"
    }
   ],
   "source": [
    "# 准确率\n",
    "y_pred = [0, 2, 1, 3]\n",
    "y_true = [0, 1, 2, 3]\n",
    "accuracy_score(y_true, y_pred)"
   ]
  },
  {
   "cell_type": "code",
   "execution_count": 4,
   "id": "906642f7",
   "metadata": {},
   "outputs": [
    {
     "data": {
      "text/plain": [
       "array([[2, 0, 0],\n",
       "       [0, 1, 0],\n",
       "       [1, 0, 2]], dtype=int64)"
      ]
     },
     "execution_count": 4,
     "metadata": {},
     "output_type": "execute_result"
    }
   ],
   "source": [
    "y_true = [\"cat\", \"ant\", \"cat\", \"cat\", \"ant\", \"bird\"]\n",
    "y_pred = [\"ant\", \"ant\", \"cat\", \"cat\", \"ant\", \"bird\"]\n",
    "metrics.confusion_matrix(y_true, y_pred, labels=[\"ant\", \"bird\", \"cat\"])"
   ]
  },
  {
   "cell_type": "code",
   "execution_count": 5,
   "id": "381a39df",
   "metadata": {},
   "outputs": [
    {
     "data": {
      "text/plain": [
       "(0.8333333333333334, 0.8333333333333334)"
      ]
     },
     "execution_count": 5,
     "metadata": {},
     "output_type": "execute_result"
    }
   ],
   "source": [
    "metrics.precision_score(y_true, y_pred,average='micro'), metrics.recall_score(y_true, y_pred,average='micro')"
   ]
  },
  {
   "cell_type": "markdown",
   "id": "f8dda688",
   "metadata": {},
   "source": [
    "# 准备数据"
   ]
  },
  {
   "cell_type": "code",
   "execution_count": 6,
   "id": "ea61f4db",
   "metadata": {},
   "outputs": [],
   "source": [
    "from sklearn import datasets"
   ]
  },
  {
   "cell_type": "code",
   "execution_count": 7,
   "id": "974738e7",
   "metadata": {},
   "outputs": [],
   "source": [
    "data = datasets.load_iris()"
   ]
  },
  {
   "cell_type": "code",
   "execution_count": 8,
   "id": "7a4007c0",
   "metadata": {},
   "outputs": [
    {
     "data": {
      "text/plain": [
       "array([0, 0, 0, 0, 0, 0, 0, 0, 0, 0, 0, 0, 0, 0, 0, 0, 0, 0, 0, 0, 0, 0,\n",
       "       0, 0, 0, 0, 0, 0, 0, 0, 0, 0, 0, 0, 0, 0, 0, 0, 0, 0, 0, 0, 0, 0,\n",
       "       0, 0, 0, 0, 0, 0, 1, 1, 1, 1, 1, 1, 1, 1, 1, 1, 1, 1, 1, 1, 1, 1,\n",
       "       1, 1, 1, 1, 1, 1, 1, 1, 1, 1, 1, 1, 1, 1, 1, 1, 1, 1, 1, 1, 1, 1,\n",
       "       1, 1, 1, 1, 1, 1, 1, 1, 1, 1, 1, 1, 2, 2, 2, 2, 2, 2, 2, 2, 2, 2,\n",
       "       2, 2, 2, 2, 2, 2, 2, 2, 2, 2, 2, 2, 2, 2, 2, 2, 2, 2, 2, 2, 2, 2,\n",
       "       2, 2, 2, 2, 2, 2, 2, 2, 2, 2, 2, 2, 2, 2, 2, 2, 2, 2])"
      ]
     },
     "execution_count": 8,
     "metadata": {},
     "output_type": "execute_result"
    }
   ],
   "source": [
    "data['target'].T"
   ]
  },
  {
   "cell_type": "markdown",
   "id": "514cbcfd",
   "metadata": {},
   "source": [
    "# sklearn的数据标签貌似都是一维，这里手工整理下"
   ]
  },
  {
   "cell_type": "code",
   "execution_count": 9,
   "id": "068ddffd",
   "metadata": {},
   "outputs": [],
   "source": [
    "from sklearn import preprocessing\n",
    "enc = preprocessing.OneHotEncoder()"
   ]
  },
  {
   "cell_type": "code",
   "execution_count": 10,
   "id": "bb19728a",
   "metadata": {},
   "outputs": [
    {
     "data": {
      "text/plain": [
       "OneHotEncoder()"
      ]
     },
     "execution_count": 10,
     "metadata": {},
     "output_type": "execute_result"
    }
   ],
   "source": [
    "enc.fit(data['target'].reshape(-1,1))"
   ]
  },
  {
   "cell_type": "code",
   "execution_count": 11,
   "id": "11b8ed03",
   "metadata": {},
   "outputs": [],
   "source": [
    "multi_label = enc.transform(data['target'].reshape(-1,1)).toarray()"
   ]
  },
  {
   "cell_type": "code",
   "execution_count": 12,
   "id": "a3812323",
   "metadata": {},
   "outputs": [
    {
     "data": {
      "text/plain": [
       "array([[1., 0., 0.],\n",
       "       [1., 0., 0.],\n",
       "       [1., 0., 0.],\n",
       "       [1., 0., 0.],\n",
       "       [1., 0., 0.],\n",
       "       [1., 0., 0.],\n",
       "       [1., 0., 0.],\n",
       "       [1., 0., 0.],\n",
       "       [1., 0., 0.],\n",
       "       [1., 0., 0.]])"
      ]
     },
     "execution_count": 12,
     "metadata": {},
     "output_type": "execute_result"
    }
   ],
   "source": [
    "multi_label[:10]"
   ]
  },
  {
   "cell_type": "markdown",
   "id": "356e6f14",
   "metadata": {},
   "source": [
    "# 机器学习方法"
   ]
  },
  {
   "cell_type": "code",
   "execution_count": 13,
   "id": "f4d5f414",
   "metadata": {},
   "outputs": [
    {
     "data": {
      "text/plain": [
       "((150, 4), (150, 3))"
      ]
     },
     "execution_count": 13,
     "metadata": {},
     "output_type": "execute_result"
    }
   ],
   "source": [
    "X = data['data']\n",
    "Y = multi_label\n",
    "X.shape,Y.shape"
   ]
  },
  {
   "cell_type": "code",
   "execution_count": 14,
   "id": "d89e39df",
   "metadata": {},
   "outputs": [],
   "source": [
    "from sklearn import tree\n",
    "from sklearn.linear_model import SGDClassifier"
   ]
  },
  {
   "cell_type": "code",
   "execution_count": 15,
   "id": "6cdd2dd2",
   "metadata": {},
   "outputs": [],
   "source": [
    "tr1 = tree.DecisionTreeClassifier()\n",
    "clf2 = SGDClassifier()"
   ]
  },
  {
   "cell_type": "code",
   "execution_count": 16,
   "id": "70cd5758",
   "metadata": {},
   "outputs": [
    {
     "data": {
      "text/plain": [
       "DecisionTreeClassifier()"
      ]
     },
     "execution_count": 16,
     "metadata": {},
     "output_type": "execute_result"
    }
   ],
   "source": [
    "tr1.fit(X,Y)\n",
    "# clf2.fit(X,Y)\n",
    "# 逻辑回归不支持多维的y"
   ]
  },
  {
   "cell_type": "code",
   "execution_count": 17,
   "id": "d45376ff",
   "metadata": {},
   "outputs": [
    {
     "data": {
      "text/plain": [
       "1.0"
      ]
     },
     "execution_count": 17,
     "metadata": {},
     "output_type": "execute_result"
    }
   ],
   "source": [
    "tr1.score(X,Y)"
   ]
  },
  {
   "cell_type": "code",
   "execution_count": 18,
   "id": "eb004d77",
   "metadata": {},
   "outputs": [],
   "source": [
    "predict = tr1.predict(X)"
   ]
  },
  {
   "cell_type": "code",
   "execution_count": 19,
   "id": "5a35adc2",
   "metadata": {},
   "outputs": [
    {
     "data": {
      "text/plain": [
       "1.0"
      ]
     },
     "execution_count": 19,
     "metadata": {},
     "output_type": "execute_result"
    }
   ],
   "source": [
    "accuracy_score(Y,predict)"
   ]
  },
  {
   "cell_type": "code",
   "execution_count": 20,
   "id": "6c438281",
   "metadata": {},
   "outputs": [
    {
     "data": {
      "text/plain": [
       "array([[1., 0., 0.],\n",
       "       [1., 0., 0.],\n",
       "       [1., 0., 0.],\n",
       "       [1., 0., 0.],\n",
       "       [1., 0., 0.],\n",
       "       [1., 0., 0.],\n",
       "       [1., 0., 0.],\n",
       "       [1., 0., 0.],\n",
       "       [1., 0., 0.],\n",
       "       [1., 0., 0.]])"
      ]
     },
     "execution_count": 20,
     "metadata": {},
     "output_type": "execute_result"
    }
   ],
   "source": [
    "predict[:10]"
   ]
  },
  {
   "cell_type": "markdown",
   "id": "87b99e8a",
   "metadata": {},
   "source": [
    "# 深度学习方法"
   ]
  },
  {
   "cell_type": "code",
   "execution_count": 21,
   "id": "5d9fabea",
   "metadata": {},
   "outputs": [
    {
     "data": {
      "text/plain": [
       "((150, 4), (150, 3))"
      ]
     },
     "execution_count": 21,
     "metadata": {},
     "output_type": "execute_result"
    }
   ],
   "source": [
    "X = data['data']\n",
    "Y = multi_label\n",
    "X.shape,Y.shape"
   ]
  },
  {
   "cell_type": "code",
   "execution_count": 22,
   "id": "8f41f1da",
   "metadata": {},
   "outputs": [],
   "source": [
    "import torch\n",
    "from torch.utils.data import Dataset\n",
    "from torch.utils.data import DataLoader\n",
    "from torch import nn\n",
    "from torch.nn import functional as F\n",
    "from torch import optim"
   ]
  },
  {
   "cell_type": "code",
   "execution_count": 23,
   "id": "b73487be",
   "metadata": {},
   "outputs": [],
   "source": [
    "# 数据随机batch模块\n",
    "class DiabetesDataset(Dataset):\n",
    "    def __init__(self, x_, y_):\n",
    "        self.len = x_.shape[0]\n",
    "        self.x_data = torch.from_numpy(x_)\n",
    "        # 这部很关键， 特征类型要求float类型\n",
    "        self.x_data = self.x_data.float()\n",
    "        # 多分类的标签必须要用LongTensor类型\n",
    "        self.y_data = torch.LongTensor(y_)\n",
    "        \n",
    "\n",
    "    def __getitem__(self, item):\n",
    "        return self.x_data[item], self.y_data[item]\n",
    "\n",
    "    def __len__(self):\n",
    "        return self.len"
   ]
  },
  {
   "cell_type": "code",
   "execution_count": 24,
   "id": "813713d2",
   "metadata": {},
   "outputs": [],
   "source": [
    "dataset = DiabetesDataset(X, Y)\n",
    "train_loader = DataLoader(dataset=dataset, batch_size=50, shuffle=True)"
   ]
  },
  {
   "cell_type": "code",
   "execution_count": 25,
   "id": "112deeaa",
   "metadata": {},
   "outputs": [],
   "source": [
    "#网络结构\n",
    "class NeuralNet(nn.Module):\n",
    "    def __init__(self, input_size_, hidden_size_1, num_classes_):\n",
    "        super().__init__()\n",
    "        self.fc1 = nn.Linear(input_size_, hidden_size_1) \n",
    "        self.fc2 = nn.Linear(hidden_size_1, num_classes_)\n",
    "    \n",
    "    def forward(self, x):\n",
    "        out = self.fc1(x)\n",
    "        out = F.relu(out)\n",
    "        out = self.fc2(out)\n",
    "        return out"
   ]
  },
  {
   "cell_type": "code",
   "execution_count": 26,
   "id": "dfc93577",
   "metadata": {},
   "outputs": [
    {
     "name": "stdout",
     "output_type": "stream",
     "text": [
      "torch.Size([50, 3]) torch.Size([50, 3])\n"
     ]
    },
    {
     "ename": "RuntimeError",
     "evalue": "1D target tensor expected, multi-target not supported",
     "output_type": "error",
     "traceback": [
      "\u001b[1;31m---------------------------------------------------------------------------\u001b[0m",
      "\u001b[1;31mRuntimeError\u001b[0m                              Traceback (most recent call last)",
      "\u001b[1;32m<ipython-input-26-142958b01aa2>\u001b[0m in \u001b[0;36m<module>\u001b[1;34m\u001b[0m\n\u001b[0;32m     17\u001b[0m         \u001b[0my\u001b[0m \u001b[1;33m=\u001b[0m \u001b[0my\u001b[0m\u001b[1;33m.\u001b[0m\u001b[0msqueeze\u001b[0m\u001b[1;33m(\u001b[0m\u001b[1;33m)\u001b[0m\u001b[1;33m\u001b[0m\u001b[1;33m\u001b[0m\u001b[0m\n\u001b[0;32m     18\u001b[0m         \u001b[0mprint\u001b[0m\u001b[1;33m(\u001b[0m\u001b[0my\u001b[0m\u001b[1;33m.\u001b[0m\u001b[0mshape\u001b[0m\u001b[1;33m,\u001b[0m\u001b[0moutputs\u001b[0m\u001b[1;33m.\u001b[0m\u001b[0mshape\u001b[0m\u001b[1;33m)\u001b[0m\u001b[1;33m\u001b[0m\u001b[1;33m\u001b[0m\u001b[0m\n\u001b[1;32m---> 19\u001b[1;33m         \u001b[0mloss\u001b[0m \u001b[1;33m=\u001b[0m \u001b[0mF\u001b[0m\u001b[1;33m.\u001b[0m\u001b[0mnll_loss\u001b[0m\u001b[1;33m(\u001b[0m\u001b[0moutputs\u001b[0m\u001b[1;33m,\u001b[0m \u001b[0my\u001b[0m\u001b[1;33m)\u001b[0m\u001b[1;33m\u001b[0m\u001b[1;33m\u001b[0m\u001b[0m\n\u001b[0m\u001b[0;32m     20\u001b[0m \u001b[1;33m\u001b[0m\u001b[0m\n\u001b[0;32m     21\u001b[0m         \u001b[1;31m# Backward and optimize\u001b[0m\u001b[1;33m\u001b[0m\u001b[1;33m\u001b[0m\u001b[1;33m\u001b[0m\u001b[0m\n",
      "\u001b[1;32md:\\python\\python38\\lib\\site-packages\\torch\\nn\\functional.py\u001b[0m in \u001b[0;36mnll_loss\u001b[1;34m(input, target, weight, size_average, ignore_index, reduce, reduction)\u001b[0m\n\u001b[0;32m   2386\u001b[0m         )\n\u001b[0;32m   2387\u001b[0m     \u001b[1;32mif\u001b[0m \u001b[0mdim\u001b[0m \u001b[1;33m==\u001b[0m \u001b[1;36m2\u001b[0m\u001b[1;33m:\u001b[0m\u001b[1;33m\u001b[0m\u001b[1;33m\u001b[0m\u001b[0m\n\u001b[1;32m-> 2388\u001b[1;33m         \u001b[0mret\u001b[0m \u001b[1;33m=\u001b[0m \u001b[0mtorch\u001b[0m\u001b[1;33m.\u001b[0m\u001b[0m_C\u001b[0m\u001b[1;33m.\u001b[0m\u001b[0m_nn\u001b[0m\u001b[1;33m.\u001b[0m\u001b[0mnll_loss\u001b[0m\u001b[1;33m(\u001b[0m\u001b[0minput\u001b[0m\u001b[1;33m,\u001b[0m \u001b[0mtarget\u001b[0m\u001b[1;33m,\u001b[0m \u001b[0mweight\u001b[0m\u001b[1;33m,\u001b[0m \u001b[0m_Reduction\u001b[0m\u001b[1;33m.\u001b[0m\u001b[0mget_enum\u001b[0m\u001b[1;33m(\u001b[0m\u001b[0mreduction\u001b[0m\u001b[1;33m)\u001b[0m\u001b[1;33m,\u001b[0m \u001b[0mignore_index\u001b[0m\u001b[1;33m)\u001b[0m\u001b[1;33m\u001b[0m\u001b[1;33m\u001b[0m\u001b[0m\n\u001b[0m\u001b[0;32m   2389\u001b[0m     \u001b[1;32melif\u001b[0m \u001b[0mdim\u001b[0m \u001b[1;33m==\u001b[0m \u001b[1;36m4\u001b[0m\u001b[1;33m:\u001b[0m\u001b[1;33m\u001b[0m\u001b[1;33m\u001b[0m\u001b[0m\n\u001b[0;32m   2390\u001b[0m         \u001b[0mret\u001b[0m \u001b[1;33m=\u001b[0m \u001b[0mtorch\u001b[0m\u001b[1;33m.\u001b[0m\u001b[0m_C\u001b[0m\u001b[1;33m.\u001b[0m\u001b[0m_nn\u001b[0m\u001b[1;33m.\u001b[0m\u001b[0mnll_loss2d\u001b[0m\u001b[1;33m(\u001b[0m\u001b[0minput\u001b[0m\u001b[1;33m,\u001b[0m \u001b[0mtarget\u001b[0m\u001b[1;33m,\u001b[0m \u001b[0mweight\u001b[0m\u001b[1;33m,\u001b[0m \u001b[0m_Reduction\u001b[0m\u001b[1;33m.\u001b[0m\u001b[0mget_enum\u001b[0m\u001b[1;33m(\u001b[0m\u001b[0mreduction\u001b[0m\u001b[1;33m)\u001b[0m\u001b[1;33m,\u001b[0m \u001b[0mignore_index\u001b[0m\u001b[1;33m)\u001b[0m\u001b[1;33m\u001b[0m\u001b[1;33m\u001b[0m\u001b[0m\n",
      "\u001b[1;31mRuntimeError\u001b[0m: 1D target tensor expected, multi-target not supported"
     ]
    }
   ],
   "source": [
    "# 对于多分类，最后输出的维度是标签数量，而不是一维\n",
    "model = NeuralNet(4,2,3)\n",
    "#损失函数\n",
    "criterion = nn.CrossEntropyLoss(reduction='mean')\n",
    "#优化算法\n",
    "optimizer = optim.Adam(model.parameters(), lr=0.001)\n",
    "\n",
    "total_step = len(train_loader)\n",
    "num_epochs = 6000\n",
    "for epoch in range(num_epochs):\n",
    "    for i, (x, y) in enumerate(train_loader):\n",
    "        # Reshape images to (batch_size, input_size)\n",
    "        x = x.reshape(-1, 4)\n",
    "        # Forward pass\n",
    "        outputs = model(x)\n",
    "        # 扁平化成一维\n",
    "        y = y.squeeze()\n",
    "        print(y.shape,outputs.shape)\n",
    "        loss = F.nll_loss(outputs, y)\n",
    "\n",
    "        # Backward and optimize\n",
    "        optimizer.zero_grad()\n",
    "        loss.backward()\n",
    "        optimizer.step()\n",
    "        #输出中间信息\n",
    "        if i % 5 == 0 and epoch%500==0:\n",
    "            print('Epoch [{}/{}], Step [{}/{}], Loss: {:.4f}'\n",
    "                  .format(epoch + 1, num_epochs, i + 1, total_step, loss.item()))"
   ]
  },
  {
   "cell_type": "code",
   "execution_count": 75,
   "id": "4211dbf9",
   "metadata": {},
   "outputs": [],
   "source": [
    "predict_deep = model(torch.from_numpy(X).float())"
   ]
  },
  {
   "cell_type": "code",
   "execution_count": 77,
   "id": "80ef7912",
   "metadata": {},
   "outputs": [],
   "source": [
    "# 预测出来的结果要转换取每个数据最大值所在索引\n",
    "predicted_class = predict_deep.argmax(dim=1)"
   ]
  },
  {
   "cell_type": "code",
   "execution_count": 78,
   "id": "d1e877bb",
   "metadata": {},
   "outputs": [
    {
     "data": {
      "text/plain": [
       "0.98"
      ]
     },
     "execution_count": 78,
     "metadata": {},
     "output_type": "execute_result"
    }
   ],
   "source": [
    "accuracy_score(Y,predicted_class)"
   ]
  },
  {
   "cell_type": "code",
   "execution_count": 79,
   "id": "428a5e9a",
   "metadata": {},
   "outputs": [
    {
     "data": {
      "text/plain": [
       "tensor([0, 0, 0, 0, 0, 0, 0, 0, 0, 0, 0, 0, 0, 0, 0, 0, 0, 0, 0, 0, 0, 0, 0, 0,\n",
       "        0, 0, 0, 0, 0, 0, 0, 0, 0, 0, 0, 0, 0, 0, 0, 0, 0, 0, 0, 0, 0, 0, 0, 0,\n",
       "        0, 0, 1, 1, 1, 1, 1, 1, 1, 1, 1, 1, 1, 1, 1, 1, 1, 1, 1, 1, 1, 1, 2, 1,\n",
       "        1, 1, 1, 1, 1, 1, 1, 1, 1, 1, 1, 2, 1, 1, 1, 1, 1, 1, 1, 1, 1, 1, 1, 1,\n",
       "        1, 1, 1, 1, 2, 2, 2, 2, 2, 2, 2, 2, 2, 2, 2, 2, 2, 2, 2, 2, 2, 2, 2, 2,\n",
       "        2, 2, 2, 2, 2, 2, 2, 2, 2, 2, 2, 2, 2, 1, 2, 2, 2, 2, 2, 2, 2, 2, 2, 2,\n",
       "        2, 2, 2, 2, 2, 2])"
      ]
     },
     "execution_count": 79,
     "metadata": {},
     "output_type": "execute_result"
    }
   ],
   "source": [
    "predicted_class"
   ]
  },
  {
   "cell_type": "markdown",
   "id": "a6302dd9",
   "metadata": {},
   "source": [
    "# 集成方法"
   ]
  },
  {
   "cell_type": "code",
   "execution_count": 80,
   "id": "5e015339",
   "metadata": {},
   "outputs": [],
   "source": [
    "import xgboost as xgb"
   ]
  },
  {
   "cell_type": "code",
   "execution_count": 89,
   "id": "fe6d3dc4",
   "metadata": {},
   "outputs": [
    {
     "data": {
      "text/plain": [
       "((150, 4), (150, 1))"
      ]
     },
     "execution_count": 89,
     "metadata": {},
     "output_type": "execute_result"
    }
   ],
   "source": [
    "X = data['data']\n",
    "Y = data['target'].reshape(-1,1)\n",
    "X.shape,Y.shape"
   ]
  },
  {
   "cell_type": "code",
   "execution_count": 90,
   "id": "642791f3",
   "metadata": {},
   "outputs": [],
   "source": [
    "#数据转换成Dmatrix格式，xgboost必须\n",
    "xgtrain = xgb.DMatrix(X, Y)"
   ]
  },
  {
   "cell_type": "code",
   "execution_count": 99,
   "id": "dddf32cf",
   "metadata": {},
   "outputs": [],
   "source": [
    "#参数设置\n",
    "params = {\n",
    "    'booster': 'gbtree',\n",
    "    'objective': 'multi:softmax',  # softmax交叉熵\n",
    "    'num_class': 3,                # 多分类的类别个数要自己设置\n",
    "    'gamma': 0.1,                  # 用于控制是否后剪枝的参数,越大越保守，一般0.1、0.2这样子。\n",
    "    'max_depth': 50,               # 构建树的深度，越大越容易过拟合\n",
    "    'lambda': 1,                   # 控制模型复杂度的权重值的L2正则化项参数，参数越大，模型越不容易过拟合。\n",
    "    'subsample': 0.7,              # 随机采样训练样本\n",
    "    'colsample_bytree': 0.7,       # 生成树时进行的列采样\n",
    "    'min_child_weight': 3,\n",
    "    'silent': 0,                   # 设置成1则没有运行信息输出，最好是设置为0.\n",
    "    'eta': 0.02,                  # 如同学习率\n",
    "    'seed': 1000,\n",
    "    'nthread': 4,                  # cpu 线程数\n",
    "}"
   ]
  },
  {
   "cell_type": "code",
   "execution_count": 100,
   "id": "8debc3f1",
   "metadata": {},
   "outputs": [
    {
     "name": "stdout",
     "output_type": "stream",
     "text": [
      "[16:02:05] WARNING: C:/Users/Administrator/workspace/xgboost-win64_release_1.4.0/src/learner.cc:573: \n",
      "Parameters: { \"silent\" } might not be used.\n",
      "\n",
      "  This may not be accurate due to some parameters are only used in language bindings but\n",
      "  passed down to XGBoost core.  Or some parameters are not used but slip through this\n",
      "  verification. Please open an issue if you find above cases.\n",
      "\n",
      "\n",
      "[16:02:05] WARNING: C:/Users/Administrator/workspace/xgboost-win64_release_1.4.0/src/learner.cc:1095: Starting in XGBoost 1.3.0, the default evaluation metric used with the objective 'multi:softmax' was changed from 'merror' to 'mlogloss'. Explicitly set eval_metric if you'd like to restore the old behavior.\n",
      "[0]\ttranin-mlogloss:1.07402\n",
      "[1]\ttranin-mlogloss:1.05032\n",
      "[2]\ttranin-mlogloss:1.03005\n",
      "[3]\ttranin-mlogloss:1.01047\n",
      "[4]\ttranin-mlogloss:0.98796\n",
      "[5]\ttranin-mlogloss:0.96810\n",
      "[6]\ttranin-mlogloss:0.94700\n",
      "[7]\ttranin-mlogloss:0.93027\n",
      "[8]\ttranin-mlogloss:0.91555\n",
      "[9]\ttranin-mlogloss:0.89548\n",
      "[10]\ttranin-mlogloss:0.87657\n",
      "[11]\ttranin-mlogloss:0.85806\n",
      "[12]\ttranin-mlogloss:0.84010\n",
      "[13]\ttranin-mlogloss:0.82229\n",
      "[14]\ttranin-mlogloss:0.80581\n",
      "[15]\ttranin-mlogloss:0.78922\n",
      "[16]\ttranin-mlogloss:0.77317\n",
      "[17]\ttranin-mlogloss:0.75762\n",
      "[18]\ttranin-mlogloss:0.74248\n",
      "[19]\ttranin-mlogloss:0.73027\n",
      "[20]\ttranin-mlogloss:0.71827\n",
      "[21]\ttranin-mlogloss:0.70435\n",
      "[22]\ttranin-mlogloss:0.69438\n",
      "[23]\ttranin-mlogloss:0.68408\n",
      "[24]\ttranin-mlogloss:0.67094\n",
      "[25]\ttranin-mlogloss:0.65806\n",
      "[26]\ttranin-mlogloss:0.64694\n",
      "[27]\ttranin-mlogloss:0.63470\n",
      "[28]\ttranin-mlogloss:0.62281\n",
      "[29]\ttranin-mlogloss:0.61141\n",
      "[30]\ttranin-mlogloss:0.60017\n",
      "[31]\ttranin-mlogloss:0.58884\n",
      "[32]\ttranin-mlogloss:0.57808\n",
      "[33]\ttranin-mlogloss:0.56756\n",
      "[34]\ttranin-mlogloss:0.55931\n",
      "[35]\ttranin-mlogloss:0.55009\n",
      "[36]\ttranin-mlogloss:0.54039\n",
      "[37]\ttranin-mlogloss:0.53243\n",
      "[38]\ttranin-mlogloss:0.52302\n",
      "[39]\ttranin-mlogloss:0.51405\n",
      "[40]\ttranin-mlogloss:0.50627\n",
      "[41]\ttranin-mlogloss:0.49728\n",
      "[42]\ttranin-mlogloss:0.49090\n",
      "[43]\ttranin-mlogloss:0.48246\n",
      "[44]\ttranin-mlogloss:0.47419\n",
      "[45]\ttranin-mlogloss:0.46593\n",
      "[46]\ttranin-mlogloss:0.45804\n",
      "[47]\ttranin-mlogloss:0.45026\n",
      "[48]\ttranin-mlogloss:0.44281\n",
      "[49]\ttranin-mlogloss:0.43552\n",
      "[50]\ttranin-mlogloss:0.42962\n",
      "[51]\ttranin-mlogloss:0.42255\n",
      "[52]\ttranin-mlogloss:0.41569\n",
      "[53]\ttranin-mlogloss:0.40908\n",
      "[54]\ttranin-mlogloss:0.40254\n",
      "[55]\ttranin-mlogloss:0.39615\n",
      "[56]\ttranin-mlogloss:0.38988\n",
      "[57]\ttranin-mlogloss:0.38359\n",
      "[58]\ttranin-mlogloss:0.37864\n",
      "[59]\ttranin-mlogloss:0.37250\n",
      "[60]\ttranin-mlogloss:0.36679\n",
      "[61]\ttranin-mlogloss:0.36216\n",
      "[62]\ttranin-mlogloss:0.35611\n",
      "[63]\ttranin-mlogloss:0.35159\n",
      "[64]\ttranin-mlogloss:0.34628\n",
      "[65]\ttranin-mlogloss:0.34122\n",
      "[66]\ttranin-mlogloss:0.33582\n",
      "[67]\ttranin-mlogloss:0.33081\n",
      "[68]\ttranin-mlogloss:0.32717\n",
      "[69]\ttranin-mlogloss:0.32432\n",
      "[70]\ttranin-mlogloss:0.31950\n",
      "[71]\ttranin-mlogloss:0.31475\n",
      "[72]\ttranin-mlogloss:0.31016\n",
      "[73]\ttranin-mlogloss:0.30706\n",
      "[74]\ttranin-mlogloss:0.30251\n",
      "[75]\ttranin-mlogloss:0.29914\n",
      "[76]\ttranin-mlogloss:0.29483\n",
      "[77]\ttranin-mlogloss:0.29125\n",
      "[78]\ttranin-mlogloss:0.28810\n",
      "[79]\ttranin-mlogloss:0.28398\n",
      "[80]\ttranin-mlogloss:0.28069\n",
      "[81]\ttranin-mlogloss:0.27668\n",
      "[82]\ttranin-mlogloss:0.27298\n",
      "[83]\ttranin-mlogloss:0.27005\n",
      "[84]\ttranin-mlogloss:0.26636\n",
      "[85]\ttranin-mlogloss:0.26263\n",
      "[86]\ttranin-mlogloss:0.25913\n",
      "[87]\ttranin-mlogloss:0.25575\n",
      "[88]\ttranin-mlogloss:0.25229\n",
      "[89]\ttranin-mlogloss:0.24890\n",
      "[90]\ttranin-mlogloss:0.24567\n",
      "[91]\ttranin-mlogloss:0.24234\n",
      "[92]\ttranin-mlogloss:0.23912\n",
      "[93]\ttranin-mlogloss:0.23708\n",
      "[94]\ttranin-mlogloss:0.23409\n",
      "[95]\ttranin-mlogloss:0.23191\n",
      "[96]\ttranin-mlogloss:0.22910\n",
      "[97]\ttranin-mlogloss:0.22620\n",
      "[98]\ttranin-mlogloss:0.22411\n",
      "[99]\ttranin-mlogloss:0.22199\n",
      "[100]\ttranin-mlogloss:0.21935\n",
      "[101]\ttranin-mlogloss:0.21660\n",
      "[102]\ttranin-mlogloss:0.21458\n",
      "[103]\ttranin-mlogloss:0.21262\n",
      "[104]\ttranin-mlogloss:0.21062\n",
      "[105]\ttranin-mlogloss:0.20829\n",
      "[106]\ttranin-mlogloss:0.20683\n",
      "[107]\ttranin-mlogloss:0.20424\n",
      "[108]\ttranin-mlogloss:0.20297\n",
      "[109]\ttranin-mlogloss:0.20112\n",
      "[110]\ttranin-mlogloss:0.19862\n",
      "[111]\ttranin-mlogloss:0.19651\n",
      "[112]\ttranin-mlogloss:0.19450\n",
      "[113]\ttranin-mlogloss:0.19246\n",
      "[114]\ttranin-mlogloss:0.19066\n",
      "[115]\ttranin-mlogloss:0.18898\n",
      "[116]\ttranin-mlogloss:0.18744\n",
      "[117]\ttranin-mlogloss:0.18543\n",
      "[118]\ttranin-mlogloss:0.18349\n",
      "[119]\ttranin-mlogloss:0.18147\n",
      "[120]\ttranin-mlogloss:0.17981\n",
      "[121]\ttranin-mlogloss:0.17793\n",
      "[122]\ttranin-mlogloss:0.17652\n",
      "[123]\ttranin-mlogloss:0.17456\n",
      "[124]\ttranin-mlogloss:0.17368\n",
      "[125]\ttranin-mlogloss:0.17203\n",
      "[126]\ttranin-mlogloss:0.17057\n",
      "[127]\ttranin-mlogloss:0.16925\n",
      "[128]\ttranin-mlogloss:0.16795\n",
      "[129]\ttranin-mlogloss:0.16664\n",
      "[130]\ttranin-mlogloss:0.16528\n",
      "[131]\ttranin-mlogloss:0.16404\n",
      "[132]\ttranin-mlogloss:0.16281\n",
      "[133]\ttranin-mlogloss:0.16129\n",
      "[134]\ttranin-mlogloss:0.16000\n",
      "[135]\ttranin-mlogloss:0.15841\n",
      "[136]\ttranin-mlogloss:0.15693\n",
      "[137]\ttranin-mlogloss:0.15550\n",
      "[138]\ttranin-mlogloss:0.15406\n",
      "[139]\ttranin-mlogloss:0.15273\n",
      "[140]\ttranin-mlogloss:0.15168\n",
      "[141]\ttranin-mlogloss:0.15030\n",
      "[142]\ttranin-mlogloss:0.14905\n",
      "[143]\ttranin-mlogloss:0.14782\n",
      "[144]\ttranin-mlogloss:0.14693\n",
      "[145]\ttranin-mlogloss:0.14574\n",
      "[146]\ttranin-mlogloss:0.14453\n",
      "[147]\ttranin-mlogloss:0.14309\n",
      "[148]\ttranin-mlogloss:0.14198\n",
      "[149]\ttranin-mlogloss:0.14081\n",
      "[150]\ttranin-mlogloss:0.13953\n",
      "[151]\ttranin-mlogloss:0.13901\n",
      "[152]\ttranin-mlogloss:0.13785\n",
      "[153]\ttranin-mlogloss:0.13672\n",
      "[154]\ttranin-mlogloss:0.13577\n",
      "[155]\ttranin-mlogloss:0.13467\n",
      "[156]\ttranin-mlogloss:0.13357\n",
      "[157]\ttranin-mlogloss:0.13278\n",
      "[158]\ttranin-mlogloss:0.13188\n",
      "[159]\ttranin-mlogloss:0.13087\n",
      "[160]\ttranin-mlogloss:0.12996\n",
      "[161]\ttranin-mlogloss:0.12913\n",
      "[162]\ttranin-mlogloss:0.12839\n",
      "[163]\ttranin-mlogloss:0.12781\n",
      "[164]\ttranin-mlogloss:0.12697\n",
      "[165]\ttranin-mlogloss:0.12640\n",
      "[166]\ttranin-mlogloss:0.12574\n",
      "[167]\ttranin-mlogloss:0.12479\n",
      "[168]\ttranin-mlogloss:0.12430\n",
      "[169]\ttranin-mlogloss:0.12343\n",
      "[170]\ttranin-mlogloss:0.12292\n",
      "[171]\ttranin-mlogloss:0.12223\n",
      "[172]\ttranin-mlogloss:0.12154\n",
      "[173]\ttranin-mlogloss:0.12078\n",
      "[174]\ttranin-mlogloss:0.12005\n",
      "[175]\ttranin-mlogloss:0.11937\n",
      "[176]\ttranin-mlogloss:0.11885\n",
      "[177]\ttranin-mlogloss:0.11832\n",
      "[178]\ttranin-mlogloss:0.11769\n",
      "[179]\ttranin-mlogloss:0.11702\n",
      "[180]\ttranin-mlogloss:0.11646\n",
      "[181]\ttranin-mlogloss:0.11625\n",
      "[182]\ttranin-mlogloss:0.11557\n",
      "[183]\ttranin-mlogloss:0.11499\n",
      "[184]\ttranin-mlogloss:0.11441\n",
      "[185]\ttranin-mlogloss:0.11384\n",
      "[186]\ttranin-mlogloss:0.11328\n",
      "[187]\ttranin-mlogloss:0.11267\n",
      "[188]\ttranin-mlogloss:0.11223\n",
      "[189]\ttranin-mlogloss:0.11168\n",
      "[190]\ttranin-mlogloss:0.11133\n",
      "[191]\ttranin-mlogloss:0.11097\n",
      "[192]\ttranin-mlogloss:0.11042\n",
      "[193]\ttranin-mlogloss:0.11007\n",
      "[194]\ttranin-mlogloss:0.10976\n",
      "[195]\ttranin-mlogloss:0.10953\n",
      "[196]\ttranin-mlogloss:0.10924\n",
      "[197]\ttranin-mlogloss:0.10906\n",
      "[198]\ttranin-mlogloss:0.10884\n",
      "[199]\ttranin-mlogloss:0.10843\n"
     ]
    }
   ],
   "source": [
    "#设定需要查看模型训练时的输出\n",
    "watchlist = [(xgtrain,'tranin')]\n",
    "num_round = 200\n",
    "bst = xgb.train(params, xgtrain, num_round, watchlist)\n",
    "#使用模型预测\n",
    "preds = bst.predict(xgtrain)"
   ]
  },
  {
   "cell_type": "code",
   "execution_count": 101,
   "id": "d8fc58b3",
   "metadata": {},
   "outputs": [
    {
     "data": {
      "text/plain": [
       "array([0., 0., 0., 0., 0., 0., 0., 0., 0., 0., 0., 0., 0., 0., 0., 0., 0.,\n",
       "       0., 0., 0., 0., 0., 0., 0., 0., 0., 0., 0., 0., 0., 0., 0., 0., 0.,\n",
       "       0., 0., 0., 0., 0., 0., 0., 0., 0., 0., 0., 0., 0., 0., 0., 0., 1.,\n",
       "       1., 1., 1., 1., 1., 1., 1., 1., 1., 1., 1., 1., 1., 1., 1., 1., 1.,\n",
       "       1., 1., 2., 1., 1., 1., 1., 1., 1., 2., 1., 1., 1., 1., 1., 2., 1.,\n",
       "       1., 1., 1., 1., 1., 1., 1., 1., 1., 1., 1., 1., 1., 1., 1., 2., 2.,\n",
       "       2., 2., 2., 2., 1., 2., 2., 2., 2., 2., 2., 2., 2., 2., 2., 2., 2.,\n",
       "       1., 2., 2., 2., 2., 2., 2., 2., 2., 2., 2., 2., 2., 2., 2., 2., 2.,\n",
       "       2., 2., 2., 2., 2., 2., 2., 2., 2., 2., 2., 2., 2., 2.],\n",
       "      dtype=float32)"
      ]
     },
     "execution_count": 101,
     "metadata": {},
     "output_type": "execute_result"
    }
   ],
   "source": [
    "# 多分类输出的直接就是标签值了\n",
    "preds"
   ]
  },
  {
   "cell_type": "code",
   "execution_count": 102,
   "id": "e36453d1",
   "metadata": {},
   "outputs": [
    {
     "data": {
      "text/plain": [
       "0.9666666666666667"
      ]
     },
     "execution_count": 102,
     "metadata": {},
     "output_type": "execute_result"
    }
   ],
   "source": [
    "#模型评估\n",
    "accuracy_score(Y, preds)"
   ]
  },
  {
   "cell_type": "code",
   "execution_count": null,
   "id": "29c698ef",
   "metadata": {},
   "outputs": [],
   "source": []
  }
 ],
 "metadata": {
  "kernelspec": {
   "display_name": "Python 3",
   "language": "python",
   "name": "python3"
  },
  "language_info": {
   "codemirror_mode": {
    "name": "ipython",
    "version": 3
   },
   "file_extension": ".py",
   "mimetype": "text/x-python",
   "name": "python",
   "nbconvert_exporter": "python",
   "pygments_lexer": "ipython3",
   "version": "3.8.8"
  }
 },
 "nbformat": 4,
 "nbformat_minor": 5
}
