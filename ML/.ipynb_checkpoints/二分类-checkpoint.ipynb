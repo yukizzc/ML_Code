{
 "cells": [
  {
   "cell_type": "code",
   "execution_count": 1,
   "id": "6f16b155",
   "metadata": {},
   "outputs": [],
   "source": [
    "import numpy as np\n",
    "import pandas as pd\n",
    "import matplotlib.pyplot as plt"
   ]
  },
  {
   "cell_type": "markdown",
   "id": "72768ef4",
   "metadata": {},
   "source": [
    "# 评价指标"
   ]
  },
  {
   "cell_type": "code",
   "execution_count": 2,
   "id": "08330e42",
   "metadata": {},
   "outputs": [],
   "source": [
    "from sklearn.metrics import accuracy_score\n",
    "from sklearn import metrics"
   ]
  },
  {
   "cell_type": "code",
   "execution_count": 44,
   "id": "fc738525",
   "metadata": {},
   "outputs": [
    {
     "data": {
      "text/plain": [
       "0.5"
      ]
     },
     "execution_count": 44,
     "metadata": {},
     "output_type": "execute_result"
    }
   ],
   "source": [
    "# 准确率\n",
    "y_pred = [0, 2, 1, 3]\n",
    "y_true = [0, 1, 2, 3]\n",
    "accuracy_score(y_true, y_pred)"
   ]
  },
  {
   "cell_type": "code",
   "execution_count": 45,
   "id": "22ccc5a8",
   "metadata": {},
   "outputs": [
    {
     "data": {
      "text/plain": [
       "array([[2, 0, 0],\n",
       "       [0, 1, 0],\n",
       "       [1, 0, 2]], dtype=int64)"
      ]
     },
     "execution_count": 45,
     "metadata": {},
     "output_type": "execute_result"
    }
   ],
   "source": [
    "y_true = [\"cat\", \"ant\", \"cat\", \"cat\", \"ant\", \"bird\"]\n",
    "y_pred = [\"ant\", \"ant\", \"cat\", \"cat\", \"ant\", \"bird\"]\n",
    "metrics.confusion_matrix(y_true, y_pred, labels=[\"ant\", \"bird\", \"cat\"])"
   ]
  },
  {
   "cell_type": "code",
   "execution_count": 46,
   "id": "55bbe4eb",
   "metadata": {},
   "outputs": [
    {
     "data": {
      "text/plain": [
       "(0.8333333333333334, 0.8333333333333334)"
      ]
     },
     "execution_count": 46,
     "metadata": {},
     "output_type": "execute_result"
    }
   ],
   "source": [
    "metrics.precision_score(y_true, y_pred,average='micro'), metrics.recall_score(y_true, y_pred,average='micro')"
   ]
  },
  {
   "cell_type": "markdown",
   "id": "be7c18c0",
   "metadata": {},
   "source": [
    "# 准备数据"
   ]
  },
  {
   "cell_type": "code",
   "execution_count": 47,
   "id": "25a0e0b2",
   "metadata": {},
   "outputs": [],
   "source": [
    "from sklearn import datasets"
   ]
  },
  {
   "cell_type": "code",
   "execution_count": 87,
   "id": "910860e5",
   "metadata": {},
   "outputs": [],
   "source": [
    "data = datasets.load_breast_cancer()"
   ]
  },
  {
   "cell_type": "code",
   "execution_count": 91,
   "id": "b36fab11",
   "metadata": {},
   "outputs": [
    {
     "data": {
      "text/plain": [
       "array([0, 0, 0, 0, 0, 0, 0, 0, 0, 0, 0, 0, 0, 0, 0, 0, 0, 0, 0, 1, 1, 1,\n",
       "       0, 0, 0, 0, 0, 0, 0, 0, 0, 0, 0, 0, 0, 0, 0, 1, 0, 0, 0, 0, 0, 0,\n",
       "       0, 0, 1, 0, 1, 1, 1, 1, 1, 0, 0, 1, 0, 0, 1, 1, 1, 1, 0, 1, 0, 0,\n",
       "       1, 1, 1, 1, 0, 1, 0, 0, 1, 0, 1, 0, 0, 1, 1, 1, 0, 0, 1, 0, 0, 0,\n",
       "       1, 1, 1, 0, 1, 1, 0, 0, 1, 1, 1, 0, 0, 1, 1, 1, 1, 0, 1, 1, 0, 1,\n",
       "       1, 1, 1, 1, 1, 1, 1, 0, 0, 0, 1, 0, 0, 1, 1, 1, 0, 0, 1, 0, 1, 0,\n",
       "       0, 1, 0, 0, 1, 1, 0, 1, 1, 0, 1, 1, 1, 1, 0, 1, 1, 1, 1, 1, 1, 1,\n",
       "       1, 1, 0, 1, 1, 1, 1, 0, 0, 1, 0, 1, 1, 0, 0, 1, 1, 0, 0, 1, 1, 1,\n",
       "       1, 0, 1, 1, 0, 0, 0, 1, 0, 1, 0, 1, 1, 1, 0, 1, 1, 0, 0, 1, 0, 0,\n",
       "       0, 0, 1, 0, 0, 0, 1, 0, 1, 0, 1, 1, 0, 1, 0, 0, 0, 0, 1, 1, 0, 0,\n",
       "       1, 1, 1, 0, 1, 1, 1, 1, 1, 0, 0, 1, 1, 0, 1, 1, 0, 0, 1, 0, 1, 1,\n",
       "       1, 1, 0, 1, 1, 1, 1, 1, 0, 1, 0, 0, 0, 0, 0, 0, 0, 0, 0, 0, 0, 0,\n",
       "       0, 0, 1, 1, 1, 1, 1, 1, 0, 1, 0, 1, 1, 0, 1, 1, 0, 1, 0, 0, 1, 1,\n",
       "       1, 1, 1, 1, 1, 1, 1, 1, 1, 1, 1, 0, 1, 1, 0, 1, 0, 1, 1, 1, 1, 1,\n",
       "       1, 1, 1, 1, 1, 1, 1, 1, 1, 0, 1, 1, 1, 0, 1, 0, 1, 1, 1, 1, 0, 0,\n",
       "       0, 1, 1, 1, 1, 0, 1, 0, 1, 0, 1, 1, 1, 0, 1, 1, 1, 1, 1, 1, 1, 0,\n",
       "       0, 0, 1, 1, 1, 1, 1, 1, 1, 1, 1, 1, 1, 0, 0, 1, 0, 0, 0, 1, 0, 0,\n",
       "       1, 1, 1, 1, 1, 0, 1, 1, 1, 1, 1, 0, 1, 1, 1, 0, 1, 1, 0, 0, 1, 1,\n",
       "       1, 1, 1, 1, 0, 1, 1, 1, 1, 1, 1, 1, 0, 1, 1, 1, 1, 1, 0, 1, 1, 0,\n",
       "       1, 1, 1, 1, 1, 1, 1, 1, 1, 1, 1, 1, 0, 1, 0, 0, 1, 0, 1, 1, 1, 1,\n",
       "       1, 0, 1, 1, 0, 1, 0, 1, 1, 0, 1, 0, 1, 1, 1, 1, 1, 1, 1, 1, 0, 0,\n",
       "       1, 1, 1, 1, 1, 1, 0, 1, 1, 1, 1, 1, 1, 1, 1, 1, 1, 0, 1, 1, 1, 1,\n",
       "       1, 1, 1, 0, 1, 0, 1, 1, 0, 1, 1, 1, 1, 1, 0, 0, 1, 0, 1, 0, 1, 1,\n",
       "       1, 1, 1, 0, 1, 1, 0, 1, 0, 1, 0, 0, 1, 1, 1, 0, 1, 1, 1, 1, 1, 1,\n",
       "       1, 1, 1, 1, 1, 0, 1, 0, 0, 1, 1, 1, 1, 1, 1, 1, 1, 1, 1, 1, 1, 1,\n",
       "       1, 1, 1, 1, 1, 1, 1, 1, 1, 1, 1, 1, 0, 0, 0, 0, 0, 0, 1])"
      ]
     },
     "execution_count": 91,
     "metadata": {},
     "output_type": "execute_result"
    }
   ],
   "source": [
    "data['target'].T"
   ]
  },
  {
   "cell_type": "markdown",
   "id": "a5b7e102",
   "metadata": {},
   "source": [
    "# 机器学习方法"
   ]
  },
  {
   "cell_type": "code",
   "execution_count": 92,
   "id": "3ca2b2a8",
   "metadata": {},
   "outputs": [
    {
     "data": {
      "text/plain": [
       "((569, 30), (569,))"
      ]
     },
     "execution_count": 92,
     "metadata": {},
     "output_type": "execute_result"
    }
   ],
   "source": [
    "X = data['data']\n",
    "Y = data['target']\n",
    "X.shape,Y.shape"
   ]
  },
  {
   "cell_type": "code",
   "execution_count": 93,
   "id": "0aa9513e",
   "metadata": {},
   "outputs": [],
   "source": [
    "from sklearn.linear_model import LogisticRegressionCV\n",
    "from sklearn.linear_model import SGDClassifier"
   ]
  },
  {
   "cell_type": "code",
   "execution_count": 104,
   "id": "41923250",
   "metadata": {},
   "outputs": [],
   "source": [
    "clf1 = LogisticRegressionCV(penalty='l2', max_iter=50000)\n",
    "clf2 = SGDClassifier()"
   ]
  },
  {
   "cell_type": "code",
   "execution_count": 105,
   "id": "f5b8c603",
   "metadata": {},
   "outputs": [
    {
     "data": {
      "text/plain": [
       "SGDClassifier()"
      ]
     },
     "execution_count": 105,
     "metadata": {},
     "output_type": "execute_result"
    }
   ],
   "source": [
    "clf1.fit(X,Y)\n",
    "clf2.fit(X,Y)"
   ]
  },
  {
   "cell_type": "code",
   "execution_count": 106,
   "id": "c6a0cd79",
   "metadata": {},
   "outputs": [
    {
     "data": {
      "text/plain": [
       "(0.9859402460456942, 0.8787346221441125)"
      ]
     },
     "execution_count": 106,
     "metadata": {},
     "output_type": "execute_result"
    }
   ],
   "source": [
    "clf1.score(X,Y),clf2.score(X,Y)"
   ]
  },
  {
   "cell_type": "code",
   "execution_count": 107,
   "id": "aee70e7c",
   "metadata": {},
   "outputs": [],
   "source": [
    "predict = clf1.predict(X)"
   ]
  },
  {
   "cell_type": "code",
   "execution_count": 108,
   "id": "8787fa55",
   "metadata": {},
   "outputs": [
    {
     "data": {
      "text/plain": [
       "0.9859402460456942"
      ]
     },
     "execution_count": 108,
     "metadata": {},
     "output_type": "execute_result"
    }
   ],
   "source": [
    "accuracy_score(Y,predict)"
   ]
  },
  {
   "cell_type": "markdown",
   "id": "f9b414cc",
   "metadata": {},
   "source": [
    "# 深度学习方法"
   ]
  },
  {
   "cell_type": "code",
   "execution_count": 109,
   "id": "8791c3b0",
   "metadata": {},
   "outputs": [
    {
     "data": {
      "text/plain": [
       "((569, 30), (569, 1))"
      ]
     },
     "execution_count": 109,
     "metadata": {},
     "output_type": "execute_result"
    }
   ],
   "source": [
    "X = data['data']\n",
    "Y = data['target'].reshape(-1,1)\n",
    "X.shape,Y.shape"
   ]
  },
  {
   "cell_type": "code",
   "execution_count": 110,
   "id": "8b40ccb6",
   "metadata": {},
   "outputs": [],
   "source": [
    "import torch\n",
    "from torch.utils.data import Dataset\n",
    "from torch.utils.data import DataLoader\n",
    "from torch import nn\n",
    "from torch.nn import functional as F\n",
    "from torch import optim"
   ]
  },
  {
   "cell_type": "code",
   "execution_count": 111,
   "id": "11d6117b",
   "metadata": {},
   "outputs": [],
   "source": [
    "# 数据随机batch模块\n",
    "class DiabetesDataset(Dataset):\n",
    "    def __init__(self, x_, y_):\n",
    "        self.len = x_.shape[0]\n",
    "        self.x_data = torch.from_numpy(x_)\n",
    "        # 这部很关键， 特征类型要求float类型\n",
    "        self.x_data = self.x_data.float()\n",
    "\n",
    "        self.y_data = torch.from_numpy(y_)\n",
    "        self.y_data = self.y_data.float()\n",
    "\n",
    "    def __getitem__(self, item):\n",
    "        return self.x_data[item], self.y_data[item]\n",
    "\n",
    "    def __len__(self):\n",
    "        return self.len"
   ]
  },
  {
   "cell_type": "code",
   "execution_count": 112,
   "id": "c974a2c0",
   "metadata": {},
   "outputs": [],
   "source": [
    "dataset = DiabetesDataset(X, Y)\n",
    "train_loader = DataLoader(dataset=dataset, batch_size=50, shuffle=True)"
   ]
  },
  {
   "cell_type": "code",
   "execution_count": 116,
   "id": "516840db",
   "metadata": {},
   "outputs": [],
   "source": [
    "#网络结构\n",
    "class NeuralNet(nn.Module):\n",
    "    def __init__(self, input_size_, hidden_size_1, hidden_size_2, num_classes_):\n",
    "        super().__init__()\n",
    "        self.fc1 = nn.Linear(input_size_, hidden_size_1) \n",
    "        self.fc2 = nn.Linear(hidden_size_1, hidden_size_2)\n",
    "        self.fc3 = nn.Linear(hidden_size_2, num_classes_)\n",
    "    \n",
    "    def forward(self, x):\n",
    "        out = self.fc1(x)\n",
    "        out = F.relu(out)\n",
    "        out = self.fc2(out)\n",
    "        out = F.relu(out)\n",
    "        out = self.fc3(out)\n",
    "        #二分类最后一步进行sigmoid\n",
    "        out = torch.sigmoid(out)\n",
    "        return out"
   ]
  },
  {
   "cell_type": "code",
   "execution_count": 123,
   "id": "b2b6c6ed",
   "metadata": {},
   "outputs": [
    {
     "name": "stdout",
     "output_type": "stream",
     "text": [
      "Epoch [1/2000], Step [1/12], Loss: 30.2604\n",
      "Epoch [1/2000], Step [6/12], Loss: 14.8315\n",
      "Epoch [1/2000], Step [11/12], Loss: 3.9308\n",
      "Epoch [501/2000], Step [1/12], Loss: 0.0938\n",
      "Epoch [501/2000], Step [6/12], Loss: 0.0840\n",
      "Epoch [501/2000], Step [11/12], Loss: 0.1600\n",
      "Epoch [1001/2000], Step [1/12], Loss: 0.0573\n",
      "Epoch [1001/2000], Step [6/12], Loss: 0.0602\n",
      "Epoch [1001/2000], Step [11/12], Loss: 0.0455\n",
      "Epoch [1501/2000], Step [1/12], Loss: 0.1343\n",
      "Epoch [1501/2000], Step [6/12], Loss: 0.0965\n",
      "Epoch [1501/2000], Step [11/12], Loss: 0.0805\n"
     ]
    }
   ],
   "source": [
    "model = NeuralNet(30, 20, 10, 1)\n",
    "#损失函数\n",
    "criterion = nn.BCELoss(reduction='mean')\n",
    "#优化算法\n",
    "optimizer = optim.Adam(model.parameters(), lr=0.001)\n",
    "\n",
    "total_step = len(train_loader)\n",
    "num_epochs = 2000\n",
    "for epoch in range(num_epochs):\n",
    "    for i, (x, y) in enumerate(train_loader):\n",
    "        # Reshape images to (batch_size, input_size)\n",
    "        x = x.reshape(-1, 30)\n",
    "        # Forward pass\n",
    "        outputs = model(x)\n",
    "        loss = criterion(outputs, y)\n",
    "\n",
    "        # Backward and optimize\n",
    "        optimizer.zero_grad()\n",
    "        loss.backward()\n",
    "        optimizer.step()\n",
    "        #输出中间信息\n",
    "        if i % 5 == 0 and epoch%500==0:\n",
    "            print('Epoch [{}/{}], Step [{}/{}], Loss: {:.4f}'\n",
    "                  .format(epoch + 1, num_epochs, i + 1, total_step, loss.item()))"
   ]
  },
  {
   "cell_type": "code",
   "execution_count": 124,
   "id": "01a31721",
   "metadata": {},
   "outputs": [],
   "source": [
    "predict_deep = model(torch.from_numpy(X).float())"
   ]
  },
  {
   "cell_type": "code",
   "execution_count": 125,
   "id": "685d4923",
   "metadata": {},
   "outputs": [],
   "source": [
    "# 预测出来的结果要转换01分布\n",
    "predict_deep_01 = torch.where(predict_deep>0.5,torch.tensor(1),torch.tensor(0))"
   ]
  },
  {
   "cell_type": "code",
   "execution_count": 126,
   "id": "431e6d4f",
   "metadata": {},
   "outputs": [
    {
     "data": {
      "text/plain": [
       "0.9771528998242531"
      ]
     },
     "execution_count": 126,
     "metadata": {},
     "output_type": "execute_result"
    }
   ],
   "source": [
    "accuracy_score(Y,predict_deep_01.detach().numpy())"
   ]
  },
  {
   "cell_type": "markdown",
   "id": "77fd1ef7",
   "metadata": {},
   "source": [
    "# 集成方法"
   ]
  },
  {
   "cell_type": "code",
   "execution_count": 128,
   "id": "b4fe1f88",
   "metadata": {},
   "outputs": [],
   "source": [
    "import xgboost as xgb"
   ]
  },
  {
   "cell_type": "code",
   "execution_count": 129,
   "id": "0dcb1545",
   "metadata": {},
   "outputs": [
    {
     "data": {
      "text/plain": [
       "((569, 30), (569, 1))"
      ]
     },
     "execution_count": 129,
     "metadata": {},
     "output_type": "execute_result"
    }
   ],
   "source": [
    "X = data['data']\n",
    "Y = data['target'].reshape(-1,1)\n",
    "X.shape,Y.shape"
   ]
  },
  {
   "cell_type": "code",
   "execution_count": 130,
   "id": "3bc52f70",
   "metadata": {},
   "outputs": [],
   "source": [
    "#数据转换成Dmatrix格式，xgboost必须\n",
    "xgtrain = xgb.DMatrix(X, Y)"
   ]
  },
  {
   "cell_type": "code",
   "execution_count": 131,
   "id": "59e15ae2",
   "metadata": {},
   "outputs": [],
   "source": [
    "#参数设置\n",
    "params = {\n",
    "    'booster': 'gbtree',\n",
    "    'objective': 'binary:logistic',# 二分类交叉熵\n",
    "    'gamma': 0.1,                  # 用于控制是否后剪枝的参数,越大越保守，一般0.1、0.2这样子。\n",
    "    'max_depth': 50,               # 构建树的深度，越大越容易过拟合\n",
    "    'lambda': 1,                   # 控制模型复杂度的权重值的L2正则化项参数，参数越大，模型越不容易过拟合。\n",
    "    'subsample': 0.7,              # 随机采样训练样本\n",
    "    'colsample_bytree': 0.7,       # 生成树时进行的列采样\n",
    "    'min_child_weight': 3,\n",
    "    'silent': 0,                   # 设置成1则没有运行信息输出，最好是设置为0.\n",
    "    'eta': 0.02,                  # 如同学习率\n",
    "    'seed': 1000,\n",
    "    'nthread': 4,                  # cpu 线程数\n",
    "}"
   ]
  },
  {
   "cell_type": "code",
   "execution_count": 132,
   "id": "5f5e8075",
   "metadata": {},
   "outputs": [
    {
     "name": "stdout",
     "output_type": "stream",
     "text": [
      "[14:17:53] WARNING: C:/Users/Administrator/workspace/xgboost-win64_release_1.4.0/src/learner.cc:573: \n",
      "Parameters: { \"silent\" } might not be used.\n",
      "\n",
      "  This may not be accurate due to some parameters are only used in language bindings but\n",
      "  passed down to XGBoost core.  Or some parameters are not used but slip through this\n",
      "  verification. Please open an issue if you find above cases.\n",
      "\n",
      "\n",
      "[14:17:53] WARNING: C:/Users/Administrator/workspace/xgboost-win64_release_1.4.0/src/learner.cc:1095: Starting in XGBoost 1.3.0, the default evaluation metric used with the objective 'binary:logistic' was changed from 'error' to 'logloss'. Explicitly set eval_metric if you'd like to restore the old behavior.\n",
      "[0]\ttranin-logloss:0.67645\n",
      "[1]\ttranin-logloss:0.66049\n",
      "[2]\ttranin-logloss:0.64536\n",
      "[3]\ttranin-logloss:0.63027\n",
      "[4]\ttranin-logloss:0.61606\n",
      "[5]\ttranin-logloss:0.60260\n",
      "[6]\ttranin-logloss:0.58977\n",
      "[7]\ttranin-logloss:0.57637\n",
      "[8]\ttranin-logloss:0.56390\n",
      "[9]\ttranin-logloss:0.55171\n",
      "[10]\ttranin-logloss:0.54014\n",
      "[11]\ttranin-logloss:0.52845\n",
      "[12]\ttranin-logloss:0.51727\n",
      "[13]\ttranin-logloss:0.50682\n",
      "[14]\ttranin-logloss:0.49687\n",
      "[15]\ttranin-logloss:0.48711\n",
      "[16]\ttranin-logloss:0.47717\n",
      "[17]\ttranin-logloss:0.46780\n",
      "[18]\ttranin-logloss:0.45874\n",
      "[19]\ttranin-logloss:0.44969\n",
      "[20]\ttranin-logloss:0.44106\n",
      "[21]\ttranin-logloss:0.43253\n",
      "[22]\ttranin-logloss:0.42419\n",
      "[23]\ttranin-logloss:0.41617\n",
      "[24]\ttranin-logloss:0.40853\n",
      "[25]\ttranin-logloss:0.40112\n",
      "[26]\ttranin-logloss:0.39394\n",
      "[27]\ttranin-logloss:0.38693\n",
      "[28]\ttranin-logloss:0.37990\n",
      "[29]\ttranin-logloss:0.37307\n",
      "[30]\ttranin-logloss:0.36667\n",
      "[31]\ttranin-logloss:0.36051\n",
      "[32]\ttranin-logloss:0.35434\n",
      "[33]\ttranin-logloss:0.34824\n",
      "[34]\ttranin-logloss:0.34228\n",
      "[35]\ttranin-logloss:0.33643\n",
      "[36]\ttranin-logloss:0.33066\n",
      "[37]\ttranin-logloss:0.32503\n",
      "[38]\ttranin-logloss:0.31966\n",
      "[39]\ttranin-logloss:0.31442\n",
      "[40]\ttranin-logloss:0.30945\n",
      "[41]\ttranin-logloss:0.30448\n",
      "[42]\ttranin-logloss:0.29971\n",
      "[43]\ttranin-logloss:0.29511\n",
      "[44]\ttranin-logloss:0.29054\n",
      "[45]\ttranin-logloss:0.28586\n",
      "[46]\ttranin-logloss:0.28126\n",
      "[47]\ttranin-logloss:0.27675\n",
      "[48]\ttranin-logloss:0.27235\n",
      "[49]\ttranin-logloss:0.26812\n",
      "[50]\ttranin-logloss:0.26425\n",
      "[51]\ttranin-logloss:0.26000\n",
      "[52]\ttranin-logloss:0.25622\n",
      "[53]\ttranin-logloss:0.25241\n",
      "[54]\ttranin-logloss:0.24863\n",
      "[55]\ttranin-logloss:0.24509\n",
      "[56]\ttranin-logloss:0.24154\n",
      "[57]\ttranin-logloss:0.23820\n",
      "[58]\ttranin-logloss:0.23497\n",
      "[59]\ttranin-logloss:0.23155\n",
      "[60]\ttranin-logloss:0.22856\n",
      "[61]\ttranin-logloss:0.22530\n",
      "[62]\ttranin-logloss:0.22190\n",
      "[63]\ttranin-logloss:0.21896\n",
      "[64]\ttranin-logloss:0.21606\n",
      "[65]\ttranin-logloss:0.21333\n",
      "[66]\ttranin-logloss:0.21072\n",
      "[67]\ttranin-logloss:0.20806\n",
      "[68]\ttranin-logloss:0.20541\n",
      "[69]\ttranin-logloss:0.20269\n",
      "[70]\ttranin-logloss:0.20017\n",
      "[71]\ttranin-logloss:0.19770\n",
      "[72]\ttranin-logloss:0.19521\n",
      "[73]\ttranin-logloss:0.19272\n",
      "[74]\ttranin-logloss:0.19036\n",
      "[75]\ttranin-logloss:0.18797\n",
      "[76]\ttranin-logloss:0.18567\n",
      "[77]\ttranin-logloss:0.18337\n",
      "[78]\ttranin-logloss:0.18118\n",
      "[79]\ttranin-logloss:0.17870\n",
      "[80]\ttranin-logloss:0.17640\n",
      "[81]\ttranin-logloss:0.17436\n",
      "[82]\ttranin-logloss:0.17239\n",
      "[83]\ttranin-logloss:0.17045\n",
      "[84]\ttranin-logloss:0.16841\n",
      "[85]\ttranin-logloss:0.16653\n",
      "[86]\ttranin-logloss:0.16440\n",
      "[87]\ttranin-logloss:0.16256\n",
      "[88]\ttranin-logloss:0.16084\n",
      "[89]\ttranin-logloss:0.15925\n",
      "[90]\ttranin-logloss:0.15740\n",
      "[91]\ttranin-logloss:0.15571\n",
      "[92]\ttranin-logloss:0.15398\n",
      "[93]\ttranin-logloss:0.15235\n",
      "[94]\ttranin-logloss:0.15068\n",
      "[95]\ttranin-logloss:0.14888\n",
      "[96]\ttranin-logloss:0.14702\n",
      "[97]\ttranin-logloss:0.14554\n",
      "[98]\ttranin-logloss:0.14417\n",
      "[99]\ttranin-logloss:0.14251\n",
      "[100]\ttranin-logloss:0.14084\n",
      "[101]\ttranin-logloss:0.13947\n",
      "[102]\ttranin-logloss:0.13817\n",
      "[103]\ttranin-logloss:0.13678\n",
      "[104]\ttranin-logloss:0.13547\n",
      "[105]\ttranin-logloss:0.13421\n",
      "[106]\ttranin-logloss:0.13286\n",
      "[107]\ttranin-logloss:0.13146\n",
      "[108]\ttranin-logloss:0.13017\n",
      "[109]\ttranin-logloss:0.12893\n",
      "[110]\ttranin-logloss:0.12773\n",
      "[111]\ttranin-logloss:0.12659\n",
      "[112]\ttranin-logloss:0.12540\n",
      "[113]\ttranin-logloss:0.12409\n",
      "[114]\ttranin-logloss:0.12310\n",
      "[115]\ttranin-logloss:0.12196\n",
      "[116]\ttranin-logloss:0.12087\n",
      "[117]\ttranin-logloss:0.11984\n",
      "[118]\ttranin-logloss:0.11881\n",
      "[119]\ttranin-logloss:0.11776\n",
      "[120]\ttranin-logloss:0.11669\n",
      "[121]\ttranin-logloss:0.11561\n",
      "[122]\ttranin-logloss:0.11447\n",
      "[123]\ttranin-logloss:0.11347\n",
      "[124]\ttranin-logloss:0.11257\n",
      "[125]\ttranin-logloss:0.11160\n",
      "[126]\ttranin-logloss:0.11073\n",
      "[127]\ttranin-logloss:0.10962\n",
      "[128]\ttranin-logloss:0.10876\n",
      "[129]\ttranin-logloss:0.10792\n",
      "[130]\ttranin-logloss:0.10703\n",
      "[131]\ttranin-logloss:0.10616\n",
      "[132]\ttranin-logloss:0.10525\n",
      "[133]\ttranin-logloss:0.10433\n",
      "[134]\ttranin-logloss:0.10329\n",
      "[135]\ttranin-logloss:0.10254\n",
      "[136]\ttranin-logloss:0.10183\n",
      "[137]\ttranin-logloss:0.10109\n",
      "[138]\ttranin-logloss:0.10031\n",
      "[139]\ttranin-logloss:0.09952\n",
      "[140]\ttranin-logloss:0.09874\n",
      "[141]\ttranin-logloss:0.09791\n",
      "[142]\ttranin-logloss:0.09721\n",
      "[143]\ttranin-logloss:0.09655\n",
      "[144]\ttranin-logloss:0.09586\n",
      "[145]\ttranin-logloss:0.09510\n",
      "[146]\ttranin-logloss:0.09448\n",
      "[147]\ttranin-logloss:0.09379\n",
      "[148]\ttranin-logloss:0.09308\n",
      "[149]\ttranin-logloss:0.09234\n",
      "[150]\ttranin-logloss:0.09173\n",
      "[151]\ttranin-logloss:0.09112\n",
      "[152]\ttranin-logloss:0.09055\n",
      "[153]\ttranin-logloss:0.09000\n",
      "[154]\ttranin-logloss:0.08936\n",
      "[155]\ttranin-logloss:0.08870\n",
      "[156]\ttranin-logloss:0.08817\n",
      "[157]\ttranin-logloss:0.08760\n",
      "[158]\ttranin-logloss:0.08708\n",
      "[159]\ttranin-logloss:0.08656\n",
      "[160]\ttranin-logloss:0.08600\n",
      "[161]\ttranin-logloss:0.08553\n",
      "[162]\ttranin-logloss:0.08498\n",
      "[163]\ttranin-logloss:0.08441\n",
      "[164]\ttranin-logloss:0.08377\n",
      "[165]\ttranin-logloss:0.08329\n",
      "[166]\ttranin-logloss:0.08272\n",
      "[167]\ttranin-logloss:0.08217\n",
      "[168]\ttranin-logloss:0.08162\n",
      "[169]\ttranin-logloss:0.08104\n",
      "[170]\ttranin-logloss:0.08049\n",
      "[171]\ttranin-logloss:0.08003\n",
      "[172]\ttranin-logloss:0.07962\n",
      "[173]\ttranin-logloss:0.07921\n",
      "[174]\ttranin-logloss:0.07871\n",
      "[175]\ttranin-logloss:0.07837\n",
      "[176]\ttranin-logloss:0.07792\n",
      "[177]\ttranin-logloss:0.07745\n",
      "[178]\ttranin-logloss:0.07700\n",
      "[179]\ttranin-logloss:0.07648\n",
      "[180]\ttranin-logloss:0.07608\n",
      "[181]\ttranin-logloss:0.07561\n",
      "[182]\ttranin-logloss:0.07512\n",
      "[183]\ttranin-logloss:0.07475\n",
      "[184]\ttranin-logloss:0.07437\n",
      "[185]\ttranin-logloss:0.07404\n",
      "[186]\ttranin-logloss:0.07358\n",
      "[187]\ttranin-logloss:0.07327\n",
      "[188]\ttranin-logloss:0.07287\n",
      "[189]\ttranin-logloss:0.07249\n",
      "[190]\ttranin-logloss:0.07203\n",
      "[191]\ttranin-logloss:0.07168\n",
      "[192]\ttranin-logloss:0.07109\n",
      "[193]\ttranin-logloss:0.07072\n",
      "[194]\ttranin-logloss:0.07043\n",
      "[195]\ttranin-logloss:0.06994\n",
      "[196]\ttranin-logloss:0.06957\n",
      "[197]\ttranin-logloss:0.06926\n",
      "[198]\ttranin-logloss:0.06893\n",
      "[199]\ttranin-logloss:0.06849\n"
     ]
    }
   ],
   "source": [
    "#设定需要查看模型训练时的输出\n",
    "watchlist = [(xgtrain,'tranin')]\n",
    "num_round = 200\n",
    "bst = xgb.train(params, xgtrain, num_round, watchlist)\n",
    "#使用模型预测\n",
    "preds = bst.predict(xgtrain)"
   ]
  },
  {
   "cell_type": "code",
   "execution_count": 137,
   "id": "9fc59c95",
   "metadata": {},
   "outputs": [],
   "source": [
    "# 输出的是0-1的实数值，要转换成具体01标签\n",
    "preds_xg = np.where(preds>0.5,1,0)"
   ]
  },
  {
   "cell_type": "code",
   "execution_count": 136,
   "id": "42179336",
   "metadata": {},
   "outputs": [
    {
     "data": {
      "text/plain": [
       "0.9876977152899824"
      ]
     },
     "execution_count": 136,
     "metadata": {},
     "output_type": "execute_result"
    }
   ],
   "source": [
    "#模型评估\n",
    "accuracy_score(Y, preds_xg)"
   ]
  }
 ],
 "metadata": {
  "kernelspec": {
   "display_name": "Python 3",
   "language": "python",
   "name": "python3"
  },
  "language_info": {
   "codemirror_mode": {
    "name": "ipython",
    "version": 3
   },
   "file_extension": ".py",
   "mimetype": "text/x-python",
   "name": "python",
   "nbconvert_exporter": "python",
   "pygments_lexer": "ipython3",
   "version": "3.8.8"
  }
 },
 "nbformat": 4,
 "nbformat_minor": 5
}
