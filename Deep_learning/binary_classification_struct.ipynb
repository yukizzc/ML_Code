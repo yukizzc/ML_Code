{
 "cells": [
  {
   "cell_type": "code",
   "execution_count": 2,
   "metadata": {},
   "outputs": [],
   "source": [
    "import torch\n",
    "from torch.utils.data import Dataset\n",
    "from torch.utils.data import DataLoader\n",
    "from torch import nn\n",
    "from torch.nn import functional as F\n",
    "from torch import optim\n",
    "\n",
    "import numpy as np\n",
    "import pandas as pd\n",
    "import matplotlib.pyplot as plt\n",
    "from sklearn.datasets import make_classification"
   ]
  },
  {
   "cell_type": "code",
   "execution_count": 4,
   "metadata": {},
   "outputs": [],
   "source": [
    "X,Y = make_classification(n_samples=1000,n_features=16,n_classes=2)"
   ]
  },
  {
   "cell_type": "code",
   "execution_count": 7,
   "metadata": {},
   "outputs": [],
   "source": [
    "Y= Y.reshape(-1,1)"
   ]
  },
  {
   "cell_type": "code",
   "execution_count": 36,
   "metadata": {},
   "outputs": [
    {
     "data": {
      "text/plain": [
       "((1000, 16),\n",
       " (1000, 1),\n",
       " array([[ 0.09746659, -0.92047125,  0.24777324,  0.67787059, -0.13692098,\n",
       "         -1.39142208,  0.29069977,  0.31368041,  0.62104336,  0.56792336,\n",
       "          0.22786059, -0.30298162,  0.65325609, -0.33254188, -2.34684868,\n",
       "          0.10869357],\n",
       "        [ 0.73140171, -0.01458245,  0.13410256, -1.06409572, -1.52624856,\n",
       "         -0.48079001, -0.75185376, -0.20263266,  1.15502683, -0.78376276,\n",
       "         -0.30530528,  0.62627747, -1.39539359, -1.27262034, -2.5910644 ,\n",
       "         -0.88052991],\n",
       "        [-0.27929825,  0.33571878, -1.39250085, -0.02264971, -0.27276476,\n",
       "         -0.20796883,  0.26922866, -0.49917626, -0.28436934, -0.65474016,\n",
       "         -1.12181408, -1.25327386, -0.45811138,  0.77988883,  0.77975413,\n",
       "          0.31106297],\n",
       "        [-0.69332156, -0.04587563,  0.60131044, -0.23728221, -0.12263886,\n",
       "         -0.83272037,  1.43087416,  1.27831888,  0.32366909,  1.50846544,\n",
       "         -0.7843675 ,  0.33598538,  0.780358  ,  0.5960006 , -0.26952243,\n",
       "         -1.12357714],\n",
       "        [ 0.51260105,  1.23921627,  0.42481153, -2.00408912, -0.20254346,\n",
       "         -0.99391979, -0.9396692 , -1.08617237, -1.98612165, -1.11227728,\n",
       "         -0.21394547, -1.20302522, -0.26741841,  0.41166883, -1.35391883,\n",
       "          1.2840462 ],\n",
       "        [ 0.73579304,  0.65277058,  0.12695869,  0.73951695,  0.46074351,\n",
       "          1.08211084, -1.79137486,  1.86536004, -1.59279447,  2.28365831,\n",
       "         -0.85334955,  1.0477745 ,  1.33126024,  0.08202697, -2.18423007,\n",
       "         -1.47927548],\n",
       "        [-0.30100991, -0.45873332,  1.25058742,  0.21727732,  1.41033411,\n",
       "         -0.09259696,  0.79387348,  0.37146476, -0.45126418, -0.48582603,\n",
       "          0.46358113,  0.18388382, -1.93107103, -0.08126517,  0.65970263,\n",
       "         -2.12280632],\n",
       "        [-1.64324867, -0.6735716 ,  0.92459787, -0.32727458, -0.35699858,\n",
       "          0.28044495, -0.90122204,  1.79563125, -0.81219596,  2.26080901,\n",
       "          0.99072522, -0.30527386,  1.42746433,  0.40390723,  0.89584714,\n",
       "         -1.30246673],\n",
       "        [-0.32569562,  0.88476444,  0.12372813,  1.15020131,  0.52186144,\n",
       "         -0.38357056, -0.98173933,  2.24234383,  1.66528927,  2.7241505 ,\n",
       "         -0.74825905,  0.19258753,  1.55120487,  0.62487858,  0.76287173,\n",
       "         -1.81910574],\n",
       "        [-0.74582463, -0.47572308,  0.21309755, -0.07629292, -1.6859863 ,\n",
       "         -1.39933068, -0.19622629, -0.38624465, -2.00096947,  0.17084777,\n",
       "         -2.60298509, -0.65650705,  1.22733083, -1.29109522, -0.04673216,\n",
       "          1.55747329]]),\n",
       " array([[1],\n",
       "        [0],\n",
       "        [1],\n",
       "        [1],\n",
       "        [0],\n",
       "        [1],\n",
       "        [0],\n",
       "        [1],\n",
       "        [1],\n",
       "        [0]]))"
      ]
     },
     "execution_count": 36,
     "metadata": {},
     "output_type": "execute_result"
    }
   ],
   "source": [
    "X.shape,Y.shape,X[:10],Y[:10]"
   ]
  },
  {
   "cell_type": "markdown",
   "metadata": {},
   "source": [
    "# 机器学习方法"
   ]
  },
  {
   "cell_type": "code",
   "execution_count": 62,
   "metadata": {},
   "outputs": [],
   "source": [
    "from sklearn.svm import SVC\n",
    "from sklearn.metrics import accuracy_score"
   ]
  },
  {
   "cell_type": "code",
   "execution_count": 63,
   "metadata": {},
   "outputs": [
    {
     "data": {
      "text/plain": [
       "SVC()"
      ]
     },
     "execution_count": 63,
     "metadata": {},
     "output_type": "execute_result"
    }
   ],
   "source": [
    "reg = SVC()\n",
    "reg.fit(X,Y.ravel())"
   ]
  },
  {
   "cell_type": "code",
   "execution_count": 64,
   "metadata": {},
   "outputs": [
    {
     "data": {
      "text/plain": [
       "0.922"
      ]
     },
     "execution_count": 64,
     "metadata": {},
     "output_type": "execute_result"
    }
   ],
   "source": [
    "accuracy_score(reg.predict(X),Y)"
   ]
  },
  {
   "cell_type": "markdown",
   "metadata": {},
   "source": [
    "# 用来做随机batch的模块"
   ]
  },
  {
   "cell_type": "code",
   "execution_count": 65,
   "metadata": {},
   "outputs": [],
   "source": [
    "class DiabetesDataset(Dataset):\n",
    "    def __init__(self, x_, y_):\n",
    "        self.len = x_.shape[0]\n",
    "        self.x_data = torch.from_numpy(x_)\n",
    "        # 这部很关键， 特征类型要求float类型\n",
    "        self.x_data = self.x_data.float()\n",
    "\n",
    "        self.y_data = torch.from_numpy(y_)\n",
    "        self.y_data = self.y_data.float()\n",
    "\n",
    "\n",
    "    def __getitem__(self, item):\n",
    "        return self.x_data[item], self.y_data[item]\n",
    "\n",
    "    def __len__(self):\n",
    "        return self.len"
   ]
  },
  {
   "cell_type": "code",
   "execution_count": 66,
   "metadata": {},
   "outputs": [],
   "source": [
    "dataset = DiabetesDataset(X, Y)\n",
    "train_loader = DataLoader(dataset=dataset, batch_size=100, shuffle=True)"
   ]
  },
  {
   "cell_type": "markdown",
   "metadata": {},
   "source": [
    "# 网络结构"
   ]
  },
  {
   "cell_type": "code",
   "execution_count": 67,
   "metadata": {},
   "outputs": [],
   "source": [
    "#网络结构\n",
    "class NeuralNet(nn.Module):\n",
    "    def __init__(self, input_size_, hidden_size_, num_classes_):\n",
    "        super().__init__()\n",
    "        self.fc1 = nn.Linear(input_size_, hidden_size_) \n",
    "        self.fc2 = nn.Linear(hidden_size_, num_classes_)  \n",
    "    \n",
    "    def forward(self, x):\n",
    "        out = self.fc1(x)\n",
    "        out = F.relu(out)\n",
    "        out = self.fc2(out)\n",
    "        #二分类最后一步进行sigmoid\n",
    "        out = torch.sigmoid(out)\n",
    "        return out"
   ]
  },
  {
   "cell_type": "markdown",
   "metadata": {},
   "source": [
    "# 建立模型训练"
   ]
  },
  {
   "cell_type": "code",
   "execution_count": 68,
   "metadata": {},
   "outputs": [],
   "source": [
    "model = NeuralNet(16, 8, 1)\n",
    "#损失函数\n",
    "criterion = nn.BCELoss(reduction='mean')\n",
    "#优化算法\n",
    "optimizer = optim.Adam(model.parameters(), lr=0.01)"
   ]
  },
  {
   "cell_type": "code",
   "execution_count": 69,
   "metadata": {},
   "outputs": [
    {
     "name": "stdout",
     "output_type": "stream",
     "text": [
      "Epoch [1/1000], Step [1/10], Loss: 0.7150\n",
      "Epoch [21/1000], Step [1/10], Loss: 0.1926\n",
      "Epoch [41/1000], Step [1/10], Loss: 0.1919\n",
      "Epoch [61/1000], Step [1/10], Loss: 0.1778\n",
      "Epoch [81/1000], Step [1/10], Loss: 0.1212\n",
      "Epoch [101/1000], Step [1/10], Loss: 0.2404\n",
      "Epoch [121/1000], Step [1/10], Loss: 0.1861\n",
      "Epoch [141/1000], Step [1/10], Loss: 0.1254\n",
      "Epoch [161/1000], Step [1/10], Loss: 0.1421\n",
      "Epoch [181/1000], Step [1/10], Loss: 0.1265\n",
      "Epoch [201/1000], Step [1/10], Loss: 0.1603\n",
      "Epoch [221/1000], Step [1/10], Loss: 0.0616\n",
      "Epoch [241/1000], Step [1/10], Loss: 0.0944\n",
      "Epoch [261/1000], Step [1/10], Loss: 0.0835\n",
      "Epoch [281/1000], Step [1/10], Loss: 0.1321\n",
      "Epoch [301/1000], Step [1/10], Loss: 0.1165\n",
      "Epoch [321/1000], Step [1/10], Loss: 0.0792\n",
      "Epoch [341/1000], Step [1/10], Loss: 0.1228\n",
      "Epoch [361/1000], Step [1/10], Loss: 0.0760\n",
      "Epoch [381/1000], Step [1/10], Loss: 0.0845\n",
      "Epoch [401/1000], Step [1/10], Loss: 0.0700\n",
      "Epoch [421/1000], Step [1/10], Loss: 0.0766\n",
      "Epoch [441/1000], Step [1/10], Loss: 0.1177\n",
      "Epoch [461/1000], Step [1/10], Loss: 0.1221\n",
      "Epoch [481/1000], Step [1/10], Loss: 0.1208\n",
      "Epoch [501/1000], Step [1/10], Loss: 0.0542\n",
      "Epoch [521/1000], Step [1/10], Loss: 0.0672\n",
      "Epoch [541/1000], Step [1/10], Loss: 0.0632\n",
      "Epoch [561/1000], Step [1/10], Loss: 0.0769\n",
      "Epoch [581/1000], Step [1/10], Loss: 0.0961\n",
      "Epoch [601/1000], Step [1/10], Loss: 0.1340\n",
      "Epoch [621/1000], Step [1/10], Loss: 0.0893\n",
      "Epoch [641/1000], Step [1/10], Loss: 0.1748\n",
      "Epoch [661/1000], Step [1/10], Loss: 0.1707\n",
      "Epoch [681/1000], Step [1/10], Loss: 0.0901\n",
      "Epoch [701/1000], Step [1/10], Loss: 0.1018\n",
      "Epoch [721/1000], Step [1/10], Loss: 0.0819\n",
      "Epoch [741/1000], Step [1/10], Loss: 0.1015\n",
      "Epoch [761/1000], Step [1/10], Loss: 0.1126\n",
      "Epoch [781/1000], Step [1/10], Loss: 0.1044\n",
      "Epoch [801/1000], Step [1/10], Loss: 0.0646\n",
      "Epoch [821/1000], Step [1/10], Loss: 0.1037\n",
      "Epoch [841/1000], Step [1/10], Loss: 0.2108\n",
      "Epoch [861/1000], Step [1/10], Loss: 0.1149\n",
      "Epoch [881/1000], Step [1/10], Loss: 0.1250\n",
      "Epoch [901/1000], Step [1/10], Loss: 0.0990\n",
      "Epoch [921/1000], Step [1/10], Loss: 0.0914\n",
      "Epoch [941/1000], Step [1/10], Loss: 0.0851\n",
      "Epoch [961/1000], Step [1/10], Loss: 0.1233\n",
      "Epoch [981/1000], Step [1/10], Loss: 0.1338\n"
     ]
    }
   ],
   "source": [
    "total_step = len(train_loader)\n",
    "num_epochs = 1000\n",
    "for epoch in range(num_epochs):\n",
    "    for i, (x, y) in enumerate(train_loader):\n",
    "        # Reshape images to (batch_size, input_size)\n",
    "        x = x.reshape(-1, 16)\n",
    "        # Forward pass\n",
    "        outputs = model(x)\n",
    "        loss = criterion(outputs, y)\n",
    "\n",
    "        # Backward and optimize\n",
    "        optimizer.zero_grad()\n",
    "        loss.backward()\n",
    "        optimizer.step()\n",
    "        #输出中间信息\n",
    "        if i % 50 == 0 and epoch%20==0:\n",
    "            print('Epoch [{}/{}], Step [{}/{}], Loss: {:.4f}'\n",
    "                  .format(epoch + 1, num_epochs, i + 1, total_step, loss.item()))"
   ]
  },
  {
   "cell_type": "markdown",
   "metadata": {},
   "source": [
    "# 预测"
   ]
  },
  {
   "cell_type": "code",
   "execution_count": 70,
   "metadata": {},
   "outputs": [],
   "source": [
    "predicted = model(torch.from_numpy(X).float())"
   ]
  },
  {
   "cell_type": "code",
   "execution_count": 71,
   "metadata": {},
   "outputs": [],
   "source": [
    "# 预测出来的结果要转换01分布\n",
    "predicted_01 = torch.where(predicted>0.5,torch.tensor(1),torch.tensor(0))"
   ]
  },
  {
   "cell_type": "code",
   "execution_count": 72,
   "metadata": {},
   "outputs": [
    {
     "data": {
      "text/plain": [
       "0.962"
      ]
     },
     "execution_count": 72,
     "metadata": {},
     "output_type": "execute_result"
    }
   ],
   "source": [
    "accuracy_score(predicted_01.detach().numpy(),Y)"
   ]
  },
  {
   "cell_type": "code",
   "execution_count": null,
   "metadata": {},
   "outputs": [],
   "source": []
  },
  {
   "cell_type": "code",
   "execution_count": null,
   "metadata": {},
   "outputs": [],
   "source": []
  },
  {
   "cell_type": "code",
   "execution_count": null,
   "metadata": {},
   "outputs": [],
   "source": []
  }
 ],
 "metadata": {
  "kernelspec": {
   "display_name": "Python 3",
   "language": "python",
   "name": "python3"
  },
  "language_info": {
   "codemirror_mode": {
    "name": "ipython",
    "version": 3
   },
   "file_extension": ".py",
   "mimetype": "text/x-python",
   "name": "python",
   "nbconvert_exporter": "python",
   "pygments_lexer": "ipython3",
   "version": "3.7.5"
  }
 },
 "nbformat": 4,
 "nbformat_minor": 4
}
