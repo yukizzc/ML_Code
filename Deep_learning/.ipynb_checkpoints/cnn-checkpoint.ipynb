{
 "cells": [
  {
   "cell_type": "code",
   "execution_count": 2,
   "metadata": {},
   "outputs": [],
   "source": [
    "import torch\n",
    "import torch.nn as nn\n",
    "from torch.nn import functional as F"
   ]
  },
  {
   "cell_type": "markdown",
   "metadata": {},
   "source": [
    "# 卷积"
   ]
  },
  {
   "cell_type": "markdown",
   "metadata": {},
   "source": [
    "做卷积的时候，输入3通道那一个卷积核也要RGB三通道。一个卷积核和输入图层做点乘计算，计算完后再把RGB三通道加合成一个矩阵，这样有几个卷积核最后就有这样几个矩阵。"
   ]
  },
  {
   "cell_type": "markdown",
   "metadata": {},
   "source": [
    "![avatar](image/cnn1.png)\n",
    "![avatar](image/cnn2.png)\n",
    "![avatar](image/cnn1.gif)"
   ]
  },
  {
   "cell_type": "markdown",
   "metadata": {},
   "source": [
    "# 卷积操作"
   ]
  },
  {
   "cell_type": "code",
   "execution_count": 2,
   "metadata": {},
   "outputs": [],
   "source": [
    "x = torch.rand(5,1,28,28)\n",
    "layer = nn.Conv2d(in_channels=1,out_channels=3,kernel_size=3,stride=1,padding=0)\n",
    "out = layer(x)"
   ]
  },
  {
   "cell_type": "markdown",
   "metadata": {},
   "source": [
    "x是输入数据，第一个参数表示5个图片，第二个参数表示一个通道，28*28表示图片大小。  \n",
    "Conv2d里，第一个参数表示输入通道，第二个参数表示输出通道也就是卷积核数目，第三个表示卷积核尺寸"
   ]
  },
  {
   "cell_type": "code",
   "execution_count": 15,
   "metadata": {},
   "outputs": [],
   "source": [
    "in_channels, out_channels = 5, 10\n",
    "width, height = 100, 100\n",
    "kernel_size = 3\n",
    "batch_size = 1\n",
    "stride = 1\n",
    "padding = 0\n",
    "input_data = torch.randn(batch_size,\n",
    "                        in_channels,\n",
    "                        width,\n",
    "                        height)\n",
    "cnn_layer = nn.Conv2d(in_channels = in_channels,\n",
    "                      out_channels = out_channels,\n",
    "                      kernel_size = kernel_size,\n",
    "                      stride = stride,\n",
    "                      padding = padding)\n",
    "out = cnn_layer(input_data)"
   ]
  },
  {
   "cell_type": "code",
   "execution_count": 20,
   "metadata": {},
   "outputs": [
    {
     "data": {
      "text/plain": [
       "98.0"
      ]
     },
     "execution_count": 20,
     "metadata": {},
     "output_type": "execute_result"
    }
   ],
   "source": [
    "# 卷积输出的维度计算公式：输入图片宽度 - 卷积核宽度 + 2* padding / stride  + 1\n",
    "(width-kernel_size + 2*padding / stride) +1"
   ]
  },
  {
   "cell_type": "code",
   "execution_count": 21,
   "metadata": {},
   "outputs": [
    {
     "data": {
      "text/plain": [
       "(torch.Size([1, 5, 100, 100]), torch.Size([1, 10, 98, 98]))"
      ]
     },
     "execution_count": 21,
     "metadata": {},
     "output_type": "execute_result"
    }
   ],
   "source": [
    "input_data.shape,out.shape"
   ]
  },
  {
   "cell_type": "code",
   "execution_count": 22,
   "metadata": {
    "scrolled": true
   },
   "outputs": [
    {
     "data": {
      "text/plain": [
       "(torch.Size([10, 5, 3, 3]), torch.Size([10]))"
      ]
     },
     "execution_count": 22,
     "metadata": {},
     "output_type": "execute_result"
    }
   ],
   "source": [
    "cnn_layer.weight.shape,cnn_layer.bias.shape"
   ]
  },
  {
   "cell_type": "markdown",
   "metadata": {},
   "source": [
    "weight的维度分别代表:out_channels,in_channels,kernel_size  \n",
    "bias的维度表示：out_channels"
   ]
  },
  {
   "cell_type": "markdown",
   "metadata": {},
   "source": [
    "# 池化"
   ]
  },
  {
   "cell_type": "code",
   "execution_count": 23,
   "metadata": {},
   "outputs": [],
   "source": [
    "x = out\n",
    "layer = nn.MaxPool2d(kernel_size=2,stride=2)\n",
    "out2 = layer(x)"
   ]
  },
  {
   "cell_type": "markdown",
   "metadata": {},
   "source": [
    "池化相当于把图片缩放了"
   ]
  },
  {
   "cell_type": "code",
   "execution_count": 24,
   "metadata": {},
   "outputs": [
    {
     "data": {
      "text/plain": [
       "torch.Size([1, 10, 49, 49])"
      ]
     },
     "execution_count": 24,
     "metadata": {},
     "output_type": "execute_result"
    }
   ],
   "source": [
    "out2.shape"
   ]
  },
  {
   "cell_type": "markdown",
   "metadata": {},
   "source": [
    "# 上采样"
   ]
  },
  {
   "cell_type": "markdown",
   "metadata": {},
   "source": [
    "![avatar](image/interpolate.png)"
   ]
  },
  {
   "cell_type": "code",
   "execution_count": 16,
   "metadata": {},
   "outputs": [],
   "source": [
    "x = out2\n",
    "out3 = F.interpolate(input=x,scale_factor=2,mode='nearest')\n",
    "out4 = F.interpolate(input=x,scale_factor=3,mode='nearest')"
   ]
  },
  {
   "cell_type": "markdown",
   "metadata": {},
   "source": [
    "相当于把图片给放大了,看上面图就是把像素给重复了而已"
   ]
  },
  {
   "cell_type": "code",
   "execution_count": 17,
   "metadata": {},
   "outputs": [
    {
     "data": {
      "text/plain": [
       "(torch.Size([5, 3, 26, 26]), torch.Size([5, 3, 39, 39]))"
      ]
     },
     "execution_count": 17,
     "metadata": {},
     "output_type": "execute_result"
    }
   ],
   "source": [
    "out3.shape,out4.shape"
   ]
  },
  {
   "cell_type": "markdown",
   "metadata": {},
   "source": [
    "# BatchNorm"
   ]
  },
  {
   "cell_type": "code",
   "execution_count": 18,
   "metadata": {},
   "outputs": [],
   "source": [
    "x = torch.rand(100,16,784)\n",
    "layer = nn.BatchNorm1d(16)\n",
    "out = layer(x)"
   ]
  },
  {
   "cell_type": "markdown",
   "metadata": {},
   "source": [
    "这里100表示数量，16表示16通道和下面Normal时候的通道数要保持一致  \n"
   ]
  },
  {
   "cell_type": "code",
   "execution_count": 19,
   "metadata": {},
   "outputs": [
    {
     "data": {
      "text/plain": [
       "(tensor([0.0500, 0.0501, 0.0499, 0.0500, 0.0499, 0.0500, 0.0502, 0.0498, 0.0500,\n",
       "         0.0500, 0.0499, 0.0500, 0.0500, 0.0500, 0.0498, 0.0500]),\n",
       " tensor([0.9083, 0.9083, 0.9083, 0.9083, 0.9083, 0.9083, 0.9083, 0.9084, 0.9084,\n",
       "         0.9083, 0.9084, 0.9084, 0.9083, 0.9083, 0.9084, 0.9083]))"
      ]
     },
     "execution_count": 19,
     "metadata": {},
     "output_type": "execute_result"
    }
   ],
   "source": [
    "layer.running_mean,layer.running_var"
   ]
  },
  {
   "cell_type": "code",
   "execution_count": null,
   "metadata": {},
   "outputs": [],
   "source": []
  }
 ],
 "metadata": {
  "kernelspec": {
   "display_name": "Python 3",
   "language": "python",
   "name": "python3"
  },
  "language_info": {
   "codemirror_mode": {
    "name": "ipython",
    "version": 3
   },
   "file_extension": ".py",
   "mimetype": "text/x-python",
   "name": "python",
   "nbconvert_exporter": "python",
   "pygments_lexer": "ipython3",
   "version": "3.8.8"
  }
 },
 "nbformat": 4,
 "nbformat_minor": 4
}
