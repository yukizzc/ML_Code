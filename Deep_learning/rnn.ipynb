{
 "cells": [
  {
   "cell_type": "code",
   "execution_count": 2,
   "metadata": {},
   "outputs": [],
   "source": [
    "import torch\n",
    "import torch.nn as nn\n",
    "import pandas as pd\n",
    "import numpy as np"
   ]
  },
  {
   "cell_type": "markdown",
   "metadata": {},
   "source": [
    "# RNN介绍"
   ]
  },
  {
   "cell_type": "markdown",
   "metadata": {},
   "source": [
    "| x1  | x2  | x3  | y |\n",
    "| --- | --- | --- | - |\n",
    "| 001 | 010 | 100 | 1 |\n",
    "| 100 | 111 | 000 | 0 |\n",
    "| 001 | 010 | 100 | 1 |\n",
    "| 100 | 000 | 111 | 1 |\n",
    "| 111 | 010 | 100 | 0 |\n",
    "| 100 | 010 | 000 | 0 |"
   ]
  },
  {
   "cell_type": "markdown",
   "metadata": {},
   "source": [
    "x1,x2,x3就是$\\color{#FF0000}{seq len}$序列的长度，每个下面由一个长度为3的向量组成，这个向量就是$\\color{#FF0000}{input size}$。  \n",
    "对于语句一行数据就是一句话，每句话有三个单词组成，每个单词用001这样的one-hot编码。  "
   ]
  },
  {
   "cell_type": "markdown",
   "metadata": {},
   "source": [
    "![avatar](image/rnn.jpg)"
   ]
  },
  {
   "cell_type": "markdown",
   "metadata": {},
   "source": [
    "![avatar](image/rnn_nlp.png)"
   ]
  },
  {
   "cell_type": "markdown",
   "metadata": {},
   "source": [
    "# 建立输入到输出"
   ]
  },
  {
   "cell_type": "markdown",
   "metadata": {},
   "source": [
    "out输出的是所有h1到h_N的隐层结果，hidden输出的就是最后一次计算后的结果值。这里N个RNN层其实就是同一个"
   ]
  },
  {
   "cell_type": "markdown",
   "metadata": {},
   "source": [
    "batch_size是输入多少条数据  \n",
    "seq_len是循环的长度，比如根据前n天天气的n，前n天股票信息的n  \n",
    "input_size是每一天的信息维度  \n",
    "hidden_size是输出的数据维度"
   ]
  },
  {
   "cell_type": "code",
   "execution_count": 35,
   "metadata": {},
   "outputs": [],
   "source": [
    "batch_size = 5\n",
    "seq_len = 3\n",
    "input_size = 4\n",
    "hidden_size = 2\n",
    "num_layers = 1"
   ]
  },
  {
   "cell_type": "code",
   "execution_count": 39,
   "metadata": {},
   "outputs": [],
   "source": [
    "cell = nn.RNN(input_size = input_size,hidden_size = hidden_size,num_layers = num_layers,batch_first=True)"
   ]
  },
  {
   "cell_type": "markdown",
   "metadata": {},
   "source": [
    "batch_first设置为True后，输入数据的要把batch_size放在第一维"
   ]
  },
  {
   "cell_type": "code",
   "execution_count": 40,
   "metadata": {},
   "outputs": [],
   "source": [
    "inputs = torch.ones(batch_size,seq_len,input_size)\n",
    "hidden = torch.zeros(num_layers,batch_size,hidden_size)"
   ]
  },
  {
   "cell_type": "code",
   "execution_count": 41,
   "metadata": {},
   "outputs": [
    {
     "data": {
      "text/plain": [
       "(torch.Size([5, 3, 4]), torch.Size([1, 5, 2]))"
      ]
     },
     "execution_count": 41,
     "metadata": {},
     "output_type": "execute_result"
    }
   ],
   "source": [
    "inputs.shape,hidden.shape"
   ]
  },
  {
   "cell_type": "code",
   "execution_count": 45,
   "metadata": {},
   "outputs": [
    {
     "data": {
      "text/plain": [
       "tensor([[1., 1., 1., 1.],\n",
       "        [1., 1., 1., 1.],\n",
       "        [1., 1., 1., 1.]])"
      ]
     },
     "execution_count": 45,
     "metadata": {},
     "output_type": "execute_result"
    }
   ],
   "source": [
    "inputs[0]"
   ]
  },
  {
   "cell_type": "markdown",
   "metadata": {},
   "source": [
    "第一个数据的维度是3，4"
   ]
  },
  {
   "cell_type": "code",
   "execution_count": 43,
   "metadata": {},
   "outputs": [
    {
     "data": {
      "text/plain": [
       "(torch.Size([5, 3, 2]), torch.Size([1, 5, 2]))"
      ]
     },
     "execution_count": 43,
     "metadata": {},
     "output_type": "execute_result"
    }
   ],
   "source": [
    "out,hidden = cell(inputs,hidden)\n",
    "out.shape,hidden.shape"
   ]
  },
  {
   "cell_type": "code",
   "execution_count": 44,
   "metadata": {},
   "outputs": [
    {
     "data": {
      "text/plain": [
       "(tensor([[[-0.7220,  0.9815],\n",
       "          [-0.3707,  0.9855],\n",
       "          [-0.4992,  0.9907]],\n",
       " \n",
       "         [[-0.7220,  0.9815],\n",
       "          [-0.3707,  0.9855],\n",
       "          [-0.4992,  0.9907]],\n",
       " \n",
       "         [[-0.7220,  0.9815],\n",
       "          [-0.3707,  0.9855],\n",
       "          [-0.4992,  0.9907]],\n",
       " \n",
       "         [[-0.7220,  0.9815],\n",
       "          [-0.3707,  0.9855],\n",
       "          [-0.4992,  0.9907]],\n",
       " \n",
       "         [[-0.7220,  0.9815],\n",
       "          [-0.3707,  0.9855],\n",
       "          [-0.4992,  0.9907]]], grad_fn=<TransposeBackward1>),\n",
       " tensor([[[-0.4992,  0.9907],\n",
       "          [-0.4992,  0.9907],\n",
       "          [-0.4992,  0.9907],\n",
       "          [-0.4992,  0.9907],\n",
       "          [-0.4992,  0.9907]]], grad_fn=<StackBackward>))"
      ]
     },
     "execution_count": 44,
     "metadata": {},
     "output_type": "execute_result"
    }
   ],
   "source": [
    "out,hidden"
   ]
  },
  {
   "cell_type": "code",
   "execution_count": null,
   "metadata": {},
   "outputs": [],
   "source": []
  }
 ],
 "metadata": {
  "kernelspec": {
   "display_name": "Python 3",
   "language": "python",
   "name": "python3"
  },
  "language_info": {
   "codemirror_mode": {
    "name": "ipython",
    "version": 3
   },
   "file_extension": ".py",
   "mimetype": "text/x-python",
   "name": "python",
   "nbconvert_exporter": "python",
   "pygments_lexer": "ipython3",
   "version": "3.7.5"
  }
 },
 "nbformat": 4,
 "nbformat_minor": 4
}
