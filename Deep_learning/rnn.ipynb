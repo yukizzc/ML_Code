{
 "cells": [
  {
   "cell_type": "code",
   "execution_count": 1,
   "metadata": {},
   "outputs": [],
   "source": [
    "import torch\n",
    "import torch.nn as nn\n",
    "import pandas as pd\n",
    "import numpy as np"
   ]
  },
  {
   "cell_type": "markdown",
   "metadata": {},
   "source": [
    "# RNN介绍"
   ]
  },
  {
   "cell_type": "markdown",
   "metadata": {},
   "source": [
    "| x1  | x2  | x3  | y |\n",
    "| --- | --- | --- | - |\n",
    "| 001 | 010 | 100 | 1 |\n",
    "| 100 | 111 | 000 | 0 |\n",
    "| 001 | 010 | 100 | 1 |\n",
    "| 100 | 000 | 111 | 1 |\n",
    "| 111 | 010 | 100 | 0 |\n",
    "| 100 | 010 | 000 | 0 |"
   ]
  },
  {
   "cell_type": "markdown",
   "metadata": {},
   "source": [
    "x1,x2,x3就是$\\color{#FF0000}{seq len}$序列的长度，每个下面由一个长度为3的向量组成，这个向量就是$\\color{#FF0000}{input size}$。  \n",
    "对于语句一行数据就是一句话，每句话有三个单词组成，每个单词用001这样的one-hot编码。  "
   ]
  },
  {
   "cell_type": "markdown",
   "metadata": {},
   "source": [
    "![avatar](image/rnn.jpg)"
   ]
  },
  {
   "cell_type": "markdown",
   "metadata": {},
   "source": [
    "![avatar](image/rnn_nlp.png)"
   ]
  },
  {
   "cell_type": "markdown",
   "metadata": {},
   "source": [
    "![avatar](image/rnn2.jpg)"
   ]
  },
  {
   "cell_type": "markdown",
   "metadata": {},
   "source": [
    "从上面图可以看出torch.ones(seq_len,batch_size,input_size)，这样一个输入数据第一个维度是序列 也就是I,hate,this这三  \n",
    "batch_size相当于该序列位置上所有批次数据，input_size是该序列特征维度。  \n",
    "[batch_size,input_size] * [input_size,out_size] 就是X*W的"
   ]
  },
  {
   "cell_type": "code",
   "execution_count": null,
   "metadata": {},
   "outputs": [],
   "source": []
  },
  {
   "cell_type": "code",
   "execution_count": null,
   "metadata": {},
   "outputs": [],
   "source": []
  },
  {
   "cell_type": "code",
   "execution_count": null,
   "metadata": {},
   "outputs": [],
   "source": []
  },
  {
   "cell_type": "code",
   "execution_count": null,
   "metadata": {},
   "outputs": [],
   "source": []
  },
  {
   "cell_type": "markdown",
   "metadata": {},
   "source": [
    "# 建立输入到输出"
   ]
  },
  {
   "cell_type": "markdown",
   "metadata": {},
   "source": [
    "out输出的是所有h1到h_N的隐层结果，hidden输出的就是最后一次计算后的结果值。这里N个RNN层其实就是同一个"
   ]
  },
  {
   "cell_type": "markdown",
   "metadata": {},
   "source": [
    "batch_size是输入多少条数据  \n",
    "seq_len是循环的长度，比如根据前n天天气的n，前n天股票信息的n  \n",
    "input_size是每一天的信息维度  \n",
    "hidden_size是神经元数量"
   ]
  },
  {
   "cell_type": "code",
   "execution_count": 49,
   "metadata": {},
   "outputs": [],
   "source": [
    "class Net(nn.Module):\n",
    "    def __init__(self,input_size,hidden_size,num_layers,num_classes):\n",
    "        super().__init__()\n",
    "        self.input_size = input_size\n",
    "        self.hidden_size = hidden_size\n",
    "        self.num_layers = num_layers\n",
    "        self.output_size = num_classes\n",
    "        self.rnn = nn.RNN(\n",
    "            input_size=self.input_size,\n",
    "            hidden_size=self.hidden_size,\n",
    "            num_layers=self.num_layers,\n",
    "            batch_first=False,\n",
    "        )\n",
    "        for p in self.rnn.parameters():\n",
    "          nn.init.normal_(p, mean=0.0, std=0.001)\n",
    "\n",
    "        self.linear = nn.Linear(self.hidden_size, self.output_size)\n",
    "\n",
    "    def forward(self, x):\n",
    "       # x维度是[seq,batch,feature] \n",
    "       # h0维度是[num_layers,batch,hidden_size]\n",
    "       h0 = torch.zeros(self.num_layers, x.size(1), self.hidden_size)\n",
    "       out, hidden = self.rnn(x, h0)\n",
    "       out = out.view(-1, self.hidden_size)\n",
    "       out = self.linear(out)\n",
    "       out = out.unsqueeze(dim=0)\n",
    "       return out, hidden"
   ]
  },
  {
   "cell_type": "markdown",
   "metadata": {},
   "source": [
    "batch_first设置为True后，输入数据的要把batch_size放在第一维"
   ]
  },
  {
   "cell_type": "code",
   "execution_count": 54,
   "metadata": {},
   "outputs": [],
   "source": [
    "batch_size = 5\n",
    "seq_len = 3\n",
    "input_size = 4\n",
    "hidden_size = 2\n",
    "num_layers = 2\n",
    "num_classes = 1\n",
    "model = Net(input_size,hidden_size,num_layers,num_classes)"
   ]
  },
  {
   "cell_type": "code",
   "execution_count": 55,
   "metadata": {},
   "outputs": [],
   "source": [
    "x = torch.ones(seq_len,batch_size,input_size)"
   ]
  },
  {
   "cell_type": "code",
   "execution_count": 56,
   "metadata": {},
   "outputs": [],
   "source": [
    "output,hidden = model(x)"
   ]
  },
  {
   "cell_type": "code",
   "execution_count": 57,
   "metadata": {},
   "outputs": [
    {
     "data": {
      "text/plain": [
       "(torch.Size([1, 15, 1]), torch.Size([2, 5, 2]))"
      ]
     },
     "execution_count": 57,
     "metadata": {},
     "output_type": "execute_result"
    }
   ],
   "source": [
    "output.shape,hidden.shape"
   ]
  },
  {
   "cell_type": "code",
   "execution_count": null,
   "metadata": {},
   "outputs": [],
   "source": []
  },
  {
   "cell_type": "code",
   "execution_count": null,
   "metadata": {},
   "outputs": [],
   "source": []
  },
  {
   "cell_type": "code",
   "execution_count": null,
   "metadata": {},
   "outputs": [],
   "source": []
  },
  {
   "cell_type": "code",
   "execution_count": null,
   "metadata": {},
   "outputs": [],
   "source": []
  },
  {
   "cell_type": "code",
   "execution_count": null,
   "metadata": {},
   "outputs": [],
   "source": []
  }
 ],
 "metadata": {
  "kernelspec": {
   "display_name": "Python 3",
   "language": "python",
   "name": "python3"
  },
  "language_info": {
   "codemirror_mode": {
    "name": "ipython",
    "version": 3
   },
   "file_extension": ".py",
   "mimetype": "text/x-python",
   "name": "python",
   "nbconvert_exporter": "python",
   "pygments_lexer": "ipython3",
   "version": "3.7.5"
  }
 },
 "nbformat": 4,
 "nbformat_minor": 4
}
