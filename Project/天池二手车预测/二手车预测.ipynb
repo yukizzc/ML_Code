{
 "cells": [
  {
   "cell_type": "code",
   "execution_count": 1,
   "metadata": {},
   "outputs": [],
   "source": [
    "# 查看数据文件目录  list datalab files\n",
    "train_file = './used_car_train_20200313.csv'\n",
    "test_file = './used_car_testB_20200421.csv'"
   ]
  },
  {
   "cell_type": "code",
   "execution_count": 2,
   "metadata": {},
   "outputs": [],
   "source": [
    "import torch\n",
    "import numpy as np \n",
    "import pandas as pd\n",
    "import matplotlib.pyplot as plt"
   ]
  },
  {
   "cell_type": "code",
   "execution_count": 3,
   "metadata": {},
   "outputs": [],
   "source": [
    "#df_submit = pd.read_csv(submit)\n",
    "df = pd.read_csv(train_file,sep=' ' )\n"
   ]
  },
  {
   "cell_type": "markdown",
   "metadata": {},
   "source": [
    "# 数据分析"
   ]
  },
  {
   "cell_type": "code",
   "execution_count": 4,
   "metadata": {},
   "outputs": [
    {
     "data": {
      "text/html": [
       "<div>\n",
       "<style scoped>\n",
       "    .dataframe tbody tr th:only-of-type {\n",
       "        vertical-align: middle;\n",
       "    }\n",
       "\n",
       "    .dataframe tbody tr th {\n",
       "        vertical-align: top;\n",
       "    }\n",
       "\n",
       "    .dataframe thead th {\n",
       "        text-align: right;\n",
       "    }\n",
       "</style>\n",
       "<table border=\"1\" class=\"dataframe\">\n",
       "  <thead>\n",
       "    <tr style=\"text-align: right;\">\n",
       "      <th></th>\n",
       "      <th>SaleID</th>\n",
       "      <th>name</th>\n",
       "      <th>regDate</th>\n",
       "      <th>model</th>\n",
       "      <th>brand</th>\n",
       "      <th>bodyType</th>\n",
       "      <th>fuelType</th>\n",
       "      <th>gearbox</th>\n",
       "      <th>power</th>\n",
       "      <th>kilometer</th>\n",
       "      <th>...</th>\n",
       "      <th>v_5</th>\n",
       "      <th>v_6</th>\n",
       "      <th>v_7</th>\n",
       "      <th>v_8</th>\n",
       "      <th>v_9</th>\n",
       "      <th>v_10</th>\n",
       "      <th>v_11</th>\n",
       "      <th>v_12</th>\n",
       "      <th>v_13</th>\n",
       "      <th>v_14</th>\n",
       "    </tr>\n",
       "  </thead>\n",
       "  <tbody>\n",
       "    <tr>\n",
       "      <th>count</th>\n",
       "      <td>150000.000000</td>\n",
       "      <td>150000.000000</td>\n",
       "      <td>1.500000e+05</td>\n",
       "      <td>149999.000000</td>\n",
       "      <td>150000.000000</td>\n",
       "      <td>145494.000000</td>\n",
       "      <td>141320.000000</td>\n",
       "      <td>144019.000000</td>\n",
       "      <td>150000.000000</td>\n",
       "      <td>150000.000000</td>\n",
       "      <td>...</td>\n",
       "      <td>150000.000000</td>\n",
       "      <td>150000.000000</td>\n",
       "      <td>150000.000000</td>\n",
       "      <td>150000.000000</td>\n",
       "      <td>150000.000000</td>\n",
       "      <td>150000.000000</td>\n",
       "      <td>150000.000000</td>\n",
       "      <td>150000.000000</td>\n",
       "      <td>150000.000000</td>\n",
       "      <td>150000.000000</td>\n",
       "    </tr>\n",
       "    <tr>\n",
       "      <th>mean</th>\n",
       "      <td>74999.500000</td>\n",
       "      <td>68349.172873</td>\n",
       "      <td>2.003417e+07</td>\n",
       "      <td>47.129021</td>\n",
       "      <td>8.052733</td>\n",
       "      <td>1.792369</td>\n",
       "      <td>0.375842</td>\n",
       "      <td>0.224943</td>\n",
       "      <td>119.316547</td>\n",
       "      <td>12.597160</td>\n",
       "      <td>...</td>\n",
       "      <td>0.248204</td>\n",
       "      <td>0.044923</td>\n",
       "      <td>0.124692</td>\n",
       "      <td>0.058144</td>\n",
       "      <td>0.061996</td>\n",
       "      <td>-0.001000</td>\n",
       "      <td>0.009035</td>\n",
       "      <td>0.004813</td>\n",
       "      <td>0.000313</td>\n",
       "      <td>-0.000688</td>\n",
       "    </tr>\n",
       "    <tr>\n",
       "      <th>std</th>\n",
       "      <td>43301.414527</td>\n",
       "      <td>61103.875095</td>\n",
       "      <td>5.364988e+04</td>\n",
       "      <td>49.536040</td>\n",
       "      <td>7.864956</td>\n",
       "      <td>1.760640</td>\n",
       "      <td>0.548677</td>\n",
       "      <td>0.417546</td>\n",
       "      <td>177.168419</td>\n",
       "      <td>3.919576</td>\n",
       "      <td>...</td>\n",
       "      <td>0.045804</td>\n",
       "      <td>0.051743</td>\n",
       "      <td>0.201410</td>\n",
       "      <td>0.029186</td>\n",
       "      <td>0.035692</td>\n",
       "      <td>3.772386</td>\n",
       "      <td>3.286071</td>\n",
       "      <td>2.517478</td>\n",
       "      <td>1.288988</td>\n",
       "      <td>1.038685</td>\n",
       "    </tr>\n",
       "    <tr>\n",
       "      <th>min</th>\n",
       "      <td>0.000000</td>\n",
       "      <td>0.000000</td>\n",
       "      <td>1.991000e+07</td>\n",
       "      <td>0.000000</td>\n",
       "      <td>0.000000</td>\n",
       "      <td>0.000000</td>\n",
       "      <td>0.000000</td>\n",
       "      <td>0.000000</td>\n",
       "      <td>0.000000</td>\n",
       "      <td>0.500000</td>\n",
       "      <td>...</td>\n",
       "      <td>0.000000</td>\n",
       "      <td>0.000000</td>\n",
       "      <td>0.000000</td>\n",
       "      <td>0.000000</td>\n",
       "      <td>0.000000</td>\n",
       "      <td>-9.168192</td>\n",
       "      <td>-5.558207</td>\n",
       "      <td>-9.639552</td>\n",
       "      <td>-4.153899</td>\n",
       "      <td>-6.546556</td>\n",
       "    </tr>\n",
       "    <tr>\n",
       "      <th>25%</th>\n",
       "      <td>37499.750000</td>\n",
       "      <td>11156.000000</td>\n",
       "      <td>1.999091e+07</td>\n",
       "      <td>10.000000</td>\n",
       "      <td>1.000000</td>\n",
       "      <td>0.000000</td>\n",
       "      <td>0.000000</td>\n",
       "      <td>0.000000</td>\n",
       "      <td>75.000000</td>\n",
       "      <td>12.500000</td>\n",
       "      <td>...</td>\n",
       "      <td>0.243615</td>\n",
       "      <td>0.000038</td>\n",
       "      <td>0.062474</td>\n",
       "      <td>0.035334</td>\n",
       "      <td>0.033930</td>\n",
       "      <td>-3.722303</td>\n",
       "      <td>-1.951543</td>\n",
       "      <td>-1.871846</td>\n",
       "      <td>-1.057789</td>\n",
       "      <td>-0.437034</td>\n",
       "    </tr>\n",
       "    <tr>\n",
       "      <th>50%</th>\n",
       "      <td>74999.500000</td>\n",
       "      <td>51638.000000</td>\n",
       "      <td>2.003091e+07</td>\n",
       "      <td>30.000000</td>\n",
       "      <td>6.000000</td>\n",
       "      <td>1.000000</td>\n",
       "      <td>0.000000</td>\n",
       "      <td>0.000000</td>\n",
       "      <td>110.000000</td>\n",
       "      <td>15.000000</td>\n",
       "      <td>...</td>\n",
       "      <td>0.257798</td>\n",
       "      <td>0.000812</td>\n",
       "      <td>0.095866</td>\n",
       "      <td>0.057014</td>\n",
       "      <td>0.058484</td>\n",
       "      <td>1.624076</td>\n",
       "      <td>-0.358053</td>\n",
       "      <td>-0.130753</td>\n",
       "      <td>-0.036245</td>\n",
       "      <td>0.141246</td>\n",
       "    </tr>\n",
       "    <tr>\n",
       "      <th>75%</th>\n",
       "      <td>112499.250000</td>\n",
       "      <td>118841.250000</td>\n",
       "      <td>2.007111e+07</td>\n",
       "      <td>66.000000</td>\n",
       "      <td>13.000000</td>\n",
       "      <td>3.000000</td>\n",
       "      <td>1.000000</td>\n",
       "      <td>0.000000</td>\n",
       "      <td>150.000000</td>\n",
       "      <td>15.000000</td>\n",
       "      <td>...</td>\n",
       "      <td>0.265297</td>\n",
       "      <td>0.102009</td>\n",
       "      <td>0.125243</td>\n",
       "      <td>0.079382</td>\n",
       "      <td>0.087491</td>\n",
       "      <td>2.844357</td>\n",
       "      <td>1.255022</td>\n",
       "      <td>1.776933</td>\n",
       "      <td>0.942813</td>\n",
       "      <td>0.680378</td>\n",
       "    </tr>\n",
       "    <tr>\n",
       "      <th>max</th>\n",
       "      <td>149999.000000</td>\n",
       "      <td>196812.000000</td>\n",
       "      <td>2.015121e+07</td>\n",
       "      <td>247.000000</td>\n",
       "      <td>39.000000</td>\n",
       "      <td>7.000000</td>\n",
       "      <td>6.000000</td>\n",
       "      <td>1.000000</td>\n",
       "      <td>19312.000000</td>\n",
       "      <td>15.000000</td>\n",
       "      <td>...</td>\n",
       "      <td>0.291838</td>\n",
       "      <td>0.151420</td>\n",
       "      <td>1.404936</td>\n",
       "      <td>0.160791</td>\n",
       "      <td>0.222787</td>\n",
       "      <td>12.357011</td>\n",
       "      <td>18.819042</td>\n",
       "      <td>13.847792</td>\n",
       "      <td>11.147669</td>\n",
       "      <td>8.658418</td>\n",
       "    </tr>\n",
       "  </tbody>\n",
       "</table>\n",
       "<p>8 rows × 30 columns</p>\n",
       "</div>"
      ],
      "text/plain": [
       "              SaleID           name       regDate          model  \\\n",
       "count  150000.000000  150000.000000  1.500000e+05  149999.000000   \n",
       "mean    74999.500000   68349.172873  2.003417e+07      47.129021   \n",
       "std     43301.414527   61103.875095  5.364988e+04      49.536040   \n",
       "min         0.000000       0.000000  1.991000e+07       0.000000   \n",
       "25%     37499.750000   11156.000000  1.999091e+07      10.000000   \n",
       "50%     74999.500000   51638.000000  2.003091e+07      30.000000   \n",
       "75%    112499.250000  118841.250000  2.007111e+07      66.000000   \n",
       "max    149999.000000  196812.000000  2.015121e+07     247.000000   \n",
       "\n",
       "               brand       bodyType       fuelType        gearbox  \\\n",
       "count  150000.000000  145494.000000  141320.000000  144019.000000   \n",
       "mean        8.052733       1.792369       0.375842       0.224943   \n",
       "std         7.864956       1.760640       0.548677       0.417546   \n",
       "min         0.000000       0.000000       0.000000       0.000000   \n",
       "25%         1.000000       0.000000       0.000000       0.000000   \n",
       "50%         6.000000       1.000000       0.000000       0.000000   \n",
       "75%        13.000000       3.000000       1.000000       0.000000   \n",
       "max        39.000000       7.000000       6.000000       1.000000   \n",
       "\n",
       "               power      kilometer  ...            v_5            v_6  \\\n",
       "count  150000.000000  150000.000000  ...  150000.000000  150000.000000   \n",
       "mean      119.316547      12.597160  ...       0.248204       0.044923   \n",
       "std       177.168419       3.919576  ...       0.045804       0.051743   \n",
       "min         0.000000       0.500000  ...       0.000000       0.000000   \n",
       "25%        75.000000      12.500000  ...       0.243615       0.000038   \n",
       "50%       110.000000      15.000000  ...       0.257798       0.000812   \n",
       "75%       150.000000      15.000000  ...       0.265297       0.102009   \n",
       "max     19312.000000      15.000000  ...       0.291838       0.151420   \n",
       "\n",
       "                 v_7            v_8            v_9           v_10  \\\n",
       "count  150000.000000  150000.000000  150000.000000  150000.000000   \n",
       "mean        0.124692       0.058144       0.061996      -0.001000   \n",
       "std         0.201410       0.029186       0.035692       3.772386   \n",
       "min         0.000000       0.000000       0.000000      -9.168192   \n",
       "25%         0.062474       0.035334       0.033930      -3.722303   \n",
       "50%         0.095866       0.057014       0.058484       1.624076   \n",
       "75%         0.125243       0.079382       0.087491       2.844357   \n",
       "max         1.404936       0.160791       0.222787      12.357011   \n",
       "\n",
       "                v_11           v_12           v_13           v_14  \n",
       "count  150000.000000  150000.000000  150000.000000  150000.000000  \n",
       "mean        0.009035       0.004813       0.000313      -0.000688  \n",
       "std         3.286071       2.517478       1.288988       1.038685  \n",
       "min        -5.558207      -9.639552      -4.153899      -6.546556  \n",
       "25%        -1.951543      -1.871846      -1.057789      -0.437034  \n",
       "50%        -0.358053      -0.130753      -0.036245       0.141246  \n",
       "75%         1.255022       1.776933       0.942813       0.680378  \n",
       "max        18.819042      13.847792      11.147669       8.658418  \n",
       "\n",
       "[8 rows x 30 columns]"
      ]
     },
     "execution_count": 4,
     "metadata": {},
     "output_type": "execute_result"
    }
   ],
   "source": [
    "df.describe()"
   ]
  },
  {
   "cell_type": "code",
   "execution_count": 5,
   "metadata": {},
   "outputs": [
    {
     "name": "stdout",
     "output_type": "stream",
     "text": [
      "<class 'pandas.core.frame.DataFrame'>\n",
      "RangeIndex: 150000 entries, 0 to 149999\n",
      "Data columns (total 31 columns):\n",
      " #   Column             Non-Null Count   Dtype  \n",
      "---  ------             --------------   -----  \n",
      " 0   SaleID             150000 non-null  int64  \n",
      " 1   name               150000 non-null  int64  \n",
      " 2   regDate            150000 non-null  int64  \n",
      " 3   model              149999 non-null  float64\n",
      " 4   brand              150000 non-null  int64  \n",
      " 5   bodyType           145494 non-null  float64\n",
      " 6   fuelType           141320 non-null  float64\n",
      " 7   gearbox            144019 non-null  float64\n",
      " 8   power              150000 non-null  int64  \n",
      " 9   kilometer          150000 non-null  float64\n",
      " 10  notRepairedDamage  150000 non-null  object \n",
      " 11  regionCode         150000 non-null  int64  \n",
      " 12  seller             150000 non-null  int64  \n",
      " 13  offerType          150000 non-null  int64  \n",
      " 14  creatDate          150000 non-null  int64  \n",
      " 15  price              150000 non-null  int64  \n",
      " 16  v_0                150000 non-null  float64\n",
      " 17  v_1                150000 non-null  float64\n",
      " 18  v_2                150000 non-null  float64\n",
      " 19  v_3                150000 non-null  float64\n",
      " 20  v_4                150000 non-null  float64\n",
      " 21  v_5                150000 non-null  float64\n",
      " 22  v_6                150000 non-null  float64\n",
      " 23  v_7                150000 non-null  float64\n",
      " 24  v_8                150000 non-null  float64\n",
      " 25  v_9                150000 non-null  float64\n",
      " 26  v_10               150000 non-null  float64\n",
      " 27  v_11               150000 non-null  float64\n",
      " 28  v_12               150000 non-null  float64\n",
      " 29  v_13               150000 non-null  float64\n",
      " 30  v_14               150000 non-null  float64\n",
      "dtypes: float64(20), int64(10), object(1)\n",
      "memory usage: 35.5+ MB\n"
     ]
    }
   ],
   "source": [
    "df.info()"
   ]
  },
  {
   "cell_type": "code",
   "execution_count": 6,
   "metadata": {},
   "outputs": [
    {
     "data": {
      "text/plain": [
       "count     150000\n",
       "unique         3\n",
       "top          0.0\n",
       "freq      111361\n",
       "Name: notRepairedDamage, dtype: object"
      ]
     },
     "execution_count": 6,
     "metadata": {},
     "output_type": "execute_result"
    }
   ],
   "source": [
    "df.notRepairedDamage.describe(include='object')"
   ]
  },
  {
   "cell_type": "code",
   "execution_count": 7,
   "metadata": {},
   "outputs": [
    {
     "data": {
      "text/plain": [
       "array(['0.0', '-', '1.0'], dtype=object)"
      ]
     },
     "execution_count": 7,
     "metadata": {},
     "output_type": "execute_result"
    }
   ],
   "source": [
    "df.notRepairedDamage.unique()"
   ]
  },
  {
   "cell_type": "code",
   "execution_count": 8,
   "metadata": {},
   "outputs": [
    {
     "data": {
      "text/plain": [
       "array(['0.0', nan, '1.0'], dtype=object)"
      ]
     },
     "execution_count": 8,
     "metadata": {},
     "output_type": "execute_result"
    }
   ],
   "source": [
    "df.notRepairedDamage.replace('-', np.NaN,inplace=True) \n",
    "df.notRepairedDamage.unique()"
   ]
  },
  {
   "cell_type": "code",
   "execution_count": 9,
   "metadata": {},
   "outputs": [
    {
     "data": {
      "text/plain": [
       "array([ 0., nan,  1.])"
      ]
     },
     "execution_count": 9,
     "metadata": {},
     "output_type": "execute_result"
    }
   ],
   "source": [
    "df.notRepairedDamage = df.notRepairedDamage.astype(float)\n",
    "df.notRepairedDamage.unique()"
   ]
  },
  {
   "cell_type": "code",
   "execution_count": 10,
   "metadata": {},
   "outputs": [
    {
     "name": "stdout",
     "output_type": "stream",
     "text": [
      "<class 'pandas.core.frame.DataFrame'>\n",
      "RangeIndex: 150000 entries, 0 to 149999\n",
      "Data columns (total 31 columns):\n",
      " #   Column             Non-Null Count   Dtype  \n",
      "---  ------             --------------   -----  \n",
      " 0   SaleID             150000 non-null  int64  \n",
      " 1   name               150000 non-null  int64  \n",
      " 2   regDate            150000 non-null  int64  \n",
      " 3   model              149999 non-null  float64\n",
      " 4   brand              150000 non-null  int64  \n",
      " 5   bodyType           145494 non-null  float64\n",
      " 6   fuelType           141320 non-null  float64\n",
      " 7   gearbox            144019 non-null  float64\n",
      " 8   power              150000 non-null  int64  \n",
      " 9   kilometer          150000 non-null  float64\n",
      " 10  notRepairedDamage  125676 non-null  float64\n",
      " 11  regionCode         150000 non-null  int64  \n",
      " 12  seller             150000 non-null  int64  \n",
      " 13  offerType          150000 non-null  int64  \n",
      " 14  creatDate          150000 non-null  int64  \n",
      " 15  price              150000 non-null  int64  \n",
      " 16  v_0                150000 non-null  float64\n",
      " 17  v_1                150000 non-null  float64\n",
      " 18  v_2                150000 non-null  float64\n",
      " 19  v_3                150000 non-null  float64\n",
      " 20  v_4                150000 non-null  float64\n",
      " 21  v_5                150000 non-null  float64\n",
      " 22  v_6                150000 non-null  float64\n",
      " 23  v_7                150000 non-null  float64\n",
      " 24  v_8                150000 non-null  float64\n",
      " 25  v_9                150000 non-null  float64\n",
      " 26  v_10               150000 non-null  float64\n",
      " 27  v_11               150000 non-null  float64\n",
      " 28  v_12               150000 non-null  float64\n",
      " 29  v_13               150000 non-null  float64\n",
      " 30  v_14               150000 non-null  float64\n",
      "dtypes: float64(21), int64(10)\n",
      "memory usage: 35.5 MB\n"
     ]
    }
   ],
   "source": [
    "df.info()"
   ]
  },
  {
   "cell_type": "markdown",
   "metadata": {},
   "source": [
    "上面发现有一个特征是object类型，汽车有尚未修复的损坏  \n",
    "这个字段很容易改成数字类型就行了"
   ]
  },
  {
   "cell_type": "code",
   "execution_count": 11,
   "metadata": {},
   "outputs": [
    {
     "data": {
      "text/plain": [
       "0.0    111361\n",
       "1.0     14315\n",
       "Name: notRepairedDamage, dtype: int64"
      ]
     },
     "execution_count": 11,
     "metadata": {},
     "output_type": "execute_result"
    }
   ],
   "source": [
    "df.notRepairedDamage.value_counts()"
   ]
  },
  {
   "cell_type": "markdown",
   "metadata": {},
   "source": [
    "缺失值处理，先把所有缺失行都进行删除"
   ]
  },
  {
   "cell_type": "code",
   "execution_count": 12,
   "metadata": {},
   "outputs": [],
   "source": [
    "df2 = df.dropna(axis=0)"
   ]
  },
  {
   "cell_type": "code",
   "execution_count": 13,
   "metadata": {},
   "outputs": [
    {
     "name": "stdout",
     "output_type": "stream",
     "text": [
      "<class 'pandas.core.frame.DataFrame'>\n",
      "Int64Index: 118326 entries, 0 to 149999\n",
      "Data columns (total 31 columns):\n",
      " #   Column             Non-Null Count   Dtype  \n",
      "---  ------             --------------   -----  \n",
      " 0   SaleID             118326 non-null  int64  \n",
      " 1   name               118326 non-null  int64  \n",
      " 2   regDate            118326 non-null  int64  \n",
      " 3   model              118326 non-null  float64\n",
      " 4   brand              118326 non-null  int64  \n",
      " 5   bodyType           118326 non-null  float64\n",
      " 6   fuelType           118326 non-null  float64\n",
      " 7   gearbox            118326 non-null  float64\n",
      " 8   power              118326 non-null  int64  \n",
      " 9   kilometer          118326 non-null  float64\n",
      " 10  notRepairedDamage  118326 non-null  float64\n",
      " 11  regionCode         118326 non-null  int64  \n",
      " 12  seller             118326 non-null  int64  \n",
      " 13  offerType          118326 non-null  int64  \n",
      " 14  creatDate          118326 non-null  int64  \n",
      " 15  price              118326 non-null  int64  \n",
      " 16  v_0                118326 non-null  float64\n",
      " 17  v_1                118326 non-null  float64\n",
      " 18  v_2                118326 non-null  float64\n",
      " 19  v_3                118326 non-null  float64\n",
      " 20  v_4                118326 non-null  float64\n",
      " 21  v_5                118326 non-null  float64\n",
      " 22  v_6                118326 non-null  float64\n",
      " 23  v_7                118326 non-null  float64\n",
      " 24  v_8                118326 non-null  float64\n",
      " 25  v_9                118326 non-null  float64\n",
      " 26  v_10               118326 non-null  float64\n",
      " 27  v_11               118326 non-null  float64\n",
      " 28  v_12               118326 non-null  float64\n",
      " 29  v_13               118326 non-null  float64\n",
      " 30  v_14               118326 non-null  float64\n",
      "dtypes: float64(21), int64(10)\n",
      "memory usage: 28.9 MB\n"
     ]
    }
   ],
   "source": [
    "df2.info()"
   ]
  },
  {
   "cell_type": "markdown",
   "metadata": {},
   "source": [
    "# 直接上神经网络"
   ]
  },
  {
   "cell_type": "code",
   "execution_count": 14,
   "metadata": {},
   "outputs": [],
   "source": [
    "y = df2.price\n",
    "x = df2.iloc[:,df2.columns != \"price\"]"
   ]
  },
  {
   "cell_type": "code",
   "execution_count": 15,
   "metadata": {},
   "outputs": [],
   "source": [
    "from sklearn import preprocessing\n",
    "min_max_scaler = preprocessing.MinMaxScaler()\n",
    "min_max_scaler.fit(x)\n",
    "x = min_max_scaler.transform(x)"
   ]
  },
  {
   "cell_type": "code",
   "execution_count": 16,
   "metadata": {},
   "outputs": [],
   "source": [
    "import torch\n",
    "import torch.nn as nn\n",
    "from torch.utils.data import Dataset\n",
    "from torch.utils.data import DataLoader\n",
    "\n",
    "# Hyper-parameters\n",
    "input_size = x.shape[1]\n",
    "hidden1_size = 300\n",
    "hidden2_size = 100\n",
    "hidden3_size = 50\n",
    "num_classes = 1\n",
    "num_epochs = 50\n",
    "batch_size = 1000\n",
    "learning_rate = 0.001\n",
    "\n",
    "\n",
    "\n",
    "\n",
    "\n"
   ]
  },
  {
   "cell_type": "code",
   "execution_count": 17,
   "metadata": {},
   "outputs": [],
   "source": [
    "class DiabetesDataset(Dataset):\n",
    "    def __init__(self, a,b):\n",
    "        self.len = a.shape[0]\n",
    "        self.x_data = torch.from_numpy(a)\n",
    "        # 这部很关键， 特征类型要求float类型\n",
    "        self.x_data = self.x_data.float()\n",
    "        # 标签需要一维的，并且必须是整形，所以不需要one-hot编码\n",
    "        self.y_data = torch.from_numpy(b.values)\n",
    "        self.y_data = self.y_data.float()\n",
    "\n",
    "    def __getitem__(self, item):\n",
    "        return self.x_data[item], self.y_data[item]\n",
    "\n",
    "    def __len__(self):\n",
    "        return self.len\n",
    "\n",
    "\n",
    "dataset = DiabetesDataset(x,y)\n",
    "train_loader = DataLoader(dataset=dataset, batch_size=batch_size, shuffle=True)"
   ]
  },
  {
   "cell_type": "code",
   "execution_count": 18,
   "metadata": {},
   "outputs": [],
   "source": [
    "class NeuralNet(nn.Module):\n",
    "    def __init__(self, input_size_, hidden1_size_, hidden2_size_, hidden3_size_, num_classes_):\n",
    "        super().__init__()\n",
    "        self.fc1 = nn.Linear(input_size_, hidden1_size_)\n",
    "        self.relu = nn.ReLU()\n",
    "        self.fc2 = nn.Linear(hidden1_size_, hidden2_size_)\n",
    "        self.fc3 = nn.Linear(hidden2_size_, hidden3_size_)\n",
    "        self.fc4 = nn.Linear(hidden3_size_, num_classes_)\n",
    "    def forward(self, x):\n",
    "        out = self.fc1(x)\n",
    "        out = self.relu(out)\n",
    "        out = self.fc2(out)\n",
    "        out = self.relu(out)\n",
    "        out = self.fc3(out)\n",
    "        out = self.relu(out)\n",
    "        out = self.fc4(out)\n",
    "        return out\n",
    "\n",
    "\n"
   ]
  },
  {
   "cell_type": "code",
   "execution_count": 19,
   "metadata": {},
   "outputs": [
    {
     "name": "stdout",
     "output_type": "stream",
     "text": [
      "Epoch [1/50], Step [1/119], Loss: 6603.1675\n",
      "Epoch [1/50], Step [51/119], Loss: 6431.6226\n",
      "Epoch [1/50], Step [101/119], Loss: 4820.9429\n",
      "Epoch [2/50], Step [1/119], Loss: 4418.2837\n",
      "Epoch [2/50], Step [51/119], Loss: 4543.1089\n",
      "Epoch [2/50], Step [101/119], Loss: 4088.7249\n",
      "Epoch [3/50], Step [1/119], Loss: 3937.4136\n",
      "Epoch [3/50], Step [51/119], Loss: 2567.8728\n",
      "Epoch [3/50], Step [101/119], Loss: 1953.0823\n",
      "Epoch [4/50], Step [1/119], Loss: 1854.9615\n",
      "Epoch [4/50], Step [51/119], Loss: 1610.1473\n",
      "Epoch [4/50], Step [101/119], Loss: 1375.2108\n",
      "Epoch [5/50], Step [1/119], Loss: 1314.7456\n",
      "Epoch [5/50], Step [51/119], Loss: 1290.2574\n",
      "Epoch [5/50], Step [101/119], Loss: 1345.1211\n",
      "Epoch [6/50], Step [1/119], Loss: 1123.0205\n",
      "Epoch [6/50], Step [51/119], Loss: 1255.4387\n",
      "Epoch [6/50], Step [101/119], Loss: 1219.3850\n",
      "Epoch [7/50], Step [1/119], Loss: 1209.6556\n",
      "Epoch [7/50], Step [51/119], Loss: 1088.3679\n",
      "Epoch [7/50], Step [101/119], Loss: 1133.3220\n",
      "Epoch [8/50], Step [1/119], Loss: 1209.7212\n",
      "Epoch [8/50], Step [51/119], Loss: 999.0340\n",
      "Epoch [8/50], Step [101/119], Loss: 954.6904\n",
      "Epoch [9/50], Step [1/119], Loss: 1005.4771\n",
      "Epoch [9/50], Step [51/119], Loss: 1096.9077\n",
      "Epoch [9/50], Step [101/119], Loss: 1014.2809\n",
      "Epoch [10/50], Step [1/119], Loss: 952.8607\n",
      "Epoch [10/50], Step [51/119], Loss: 1003.0401\n",
      "Epoch [10/50], Step [101/119], Loss: 967.1743\n",
      "Epoch [11/50], Step [1/119], Loss: 941.1332\n",
      "Epoch [11/50], Step [51/119], Loss: 919.2209\n",
      "Epoch [11/50], Step [101/119], Loss: 918.9268\n",
      "Epoch [12/50], Step [1/119], Loss: 943.5439\n",
      "Epoch [12/50], Step [51/119], Loss: 868.0203\n",
      "Epoch [12/50], Step [101/119], Loss: 893.0327\n",
      "Epoch [13/50], Step [1/119], Loss: 1006.6193\n",
      "Epoch [13/50], Step [51/119], Loss: 906.6787\n",
      "Epoch [13/50], Step [101/119], Loss: 829.6622\n",
      "Epoch [14/50], Step [1/119], Loss: 943.5167\n",
      "Epoch [14/50], Step [51/119], Loss: 962.5283\n",
      "Epoch [14/50], Step [101/119], Loss: 990.8505\n",
      "Epoch [15/50], Step [1/119], Loss: 900.3746\n",
      "Epoch [15/50], Step [51/119], Loss: 946.2780\n",
      "Epoch [15/50], Step [101/119], Loss: 849.7144\n",
      "Epoch [16/50], Step [1/119], Loss: 967.5109\n",
      "Epoch [16/50], Step [51/119], Loss: 866.7513\n",
      "Epoch [16/50], Step [101/119], Loss: 744.9568\n",
      "Epoch [17/50], Step [1/119], Loss: 813.9564\n",
      "Epoch [17/50], Step [51/119], Loss: 879.8676\n",
      "Epoch [17/50], Step [101/119], Loss: 867.4799\n",
      "Epoch [18/50], Step [1/119], Loss: 867.4584\n",
      "Epoch [18/50], Step [51/119], Loss: 857.4376\n",
      "Epoch [18/50], Step [101/119], Loss: 919.3564\n",
      "Epoch [19/50], Step [1/119], Loss: 760.7255\n",
      "Epoch [19/50], Step [51/119], Loss: 797.3055\n",
      "Epoch [19/50], Step [101/119], Loss: 866.4736\n",
      "Epoch [20/50], Step [1/119], Loss: 813.7318\n",
      "Epoch [20/50], Step [51/119], Loss: 848.2393\n",
      "Epoch [20/50], Step [101/119], Loss: 850.6273\n",
      "Epoch [21/50], Step [1/119], Loss: 792.7279\n",
      "Epoch [21/50], Step [51/119], Loss: 771.4491\n",
      "Epoch [21/50], Step [101/119], Loss: 836.6971\n",
      "Epoch [22/50], Step [1/119], Loss: 790.1602\n",
      "Epoch [22/50], Step [51/119], Loss: 831.2606\n",
      "Epoch [22/50], Step [101/119], Loss: 906.3530\n",
      "Epoch [23/50], Step [1/119], Loss: 764.6082\n",
      "Epoch [23/50], Step [51/119], Loss: 868.5596\n",
      "Epoch [23/50], Step [101/119], Loss: 831.7175\n",
      "Epoch [24/50], Step [1/119], Loss: 755.3846\n",
      "Epoch [24/50], Step [51/119], Loss: 760.5209\n",
      "Epoch [24/50], Step [101/119], Loss: 743.8225\n",
      "Epoch [25/50], Step [1/119], Loss: 763.2273\n",
      "Epoch [25/50], Step [51/119], Loss: 800.2676\n",
      "Epoch [25/50], Step [101/119], Loss: 664.0306\n",
      "Epoch [26/50], Step [1/119], Loss: 729.0447\n",
      "Epoch [26/50], Step [51/119], Loss: 787.2049\n",
      "Epoch [26/50], Step [101/119], Loss: 673.9509\n",
      "Epoch [27/50], Step [1/119], Loss: 844.3328\n",
      "Epoch [27/50], Step [51/119], Loss: 818.7560\n",
      "Epoch [27/50], Step [101/119], Loss: 842.4438\n",
      "Epoch [28/50], Step [1/119], Loss: 710.8415\n",
      "Epoch [28/50], Step [51/119], Loss: 778.8323\n",
      "Epoch [28/50], Step [101/119], Loss: 791.7686\n",
      "Epoch [29/50], Step [1/119], Loss: 844.9811\n",
      "Epoch [29/50], Step [51/119], Loss: 747.8668\n",
      "Epoch [29/50], Step [101/119], Loss: 682.1599\n",
      "Epoch [30/50], Step [1/119], Loss: 675.6057\n",
      "Epoch [30/50], Step [51/119], Loss: 814.7061\n",
      "Epoch [30/50], Step [101/119], Loss: 717.1913\n",
      "Epoch [31/50], Step [1/119], Loss: 718.5452\n",
      "Epoch [31/50], Step [51/119], Loss: 785.6509\n",
      "Epoch [31/50], Step [101/119], Loss: 743.6089\n",
      "Epoch [32/50], Step [1/119], Loss: 697.1101\n",
      "Epoch [32/50], Step [51/119], Loss: 739.9249\n",
      "Epoch [32/50], Step [101/119], Loss: 638.2614\n",
      "Epoch [33/50], Step [1/119], Loss: 773.6510\n",
      "Epoch [33/50], Step [51/119], Loss: 776.9088\n",
      "Epoch [33/50], Step [101/119], Loss: 768.4708\n",
      "Epoch [34/50], Step [1/119], Loss: 722.5352\n",
      "Epoch [34/50], Step [51/119], Loss: 674.5958\n",
      "Epoch [34/50], Step [101/119], Loss: 630.5214\n",
      "Epoch [35/50], Step [1/119], Loss: 730.0115\n",
      "Epoch [35/50], Step [51/119], Loss: 700.5594\n",
      "Epoch [35/50], Step [101/119], Loss: 685.7342\n",
      "Epoch [36/50], Step [1/119], Loss: 624.4697\n",
      "Epoch [36/50], Step [51/119], Loss: 837.6951\n",
      "Epoch [36/50], Step [101/119], Loss: 646.9417\n",
      "Epoch [37/50], Step [1/119], Loss: 679.4445\n",
      "Epoch [37/50], Step [51/119], Loss: 716.9826\n",
      "Epoch [37/50], Step [101/119], Loss: 687.5354\n",
      "Epoch [38/50], Step [1/119], Loss: 763.8710\n",
      "Epoch [38/50], Step [51/119], Loss: 709.6359\n",
      "Epoch [38/50], Step [101/119], Loss: 765.1758\n",
      "Epoch [39/50], Step [1/119], Loss: 687.1945\n",
      "Epoch [39/50], Step [51/119], Loss: 659.6854\n",
      "Epoch [39/50], Step [101/119], Loss: 734.6995\n",
      "Epoch [40/50], Step [1/119], Loss: 648.0222\n",
      "Epoch [40/50], Step [51/119], Loss: 666.3669\n",
      "Epoch [40/50], Step [101/119], Loss: 671.0885\n",
      "Epoch [41/50], Step [1/119], Loss: 603.3915\n",
      "Epoch [41/50], Step [51/119], Loss: 652.7562\n",
      "Epoch [41/50], Step [101/119], Loss: 668.5405\n",
      "Epoch [42/50], Step [1/119], Loss: 664.2257\n",
      "Epoch [42/50], Step [51/119], Loss: 641.2111\n",
      "Epoch [42/50], Step [101/119], Loss: 657.1051\n",
      "Epoch [43/50], Step [1/119], Loss: 747.8281\n",
      "Epoch [43/50], Step [51/119], Loss: 652.4094\n",
      "Epoch [43/50], Step [101/119], Loss: 673.3071\n",
      "Epoch [44/50], Step [1/119], Loss: 657.6046\n",
      "Epoch [44/50], Step [51/119], Loss: 612.4234\n",
      "Epoch [44/50], Step [101/119], Loss: 630.4929\n",
      "Epoch [45/50], Step [1/119], Loss: 704.2333\n",
      "Epoch [45/50], Step [51/119], Loss: 579.9050\n",
      "Epoch [45/50], Step [101/119], Loss: 631.9424\n",
      "Epoch [46/50], Step [1/119], Loss: 568.9473\n",
      "Epoch [46/50], Step [51/119], Loss: 749.1361\n",
      "Epoch [46/50], Step [101/119], Loss: 616.6927\n",
      "Epoch [47/50], Step [1/119], Loss: 611.8932\n",
      "Epoch [47/50], Step [51/119], Loss: 642.1841\n",
      "Epoch [47/50], Step [101/119], Loss: 713.2573\n",
      "Epoch [48/50], Step [1/119], Loss: 646.8547\n",
      "Epoch [48/50], Step [51/119], Loss: 720.9956\n",
      "Epoch [48/50], Step [101/119], Loss: 698.1926\n",
      "Epoch [49/50], Step [1/119], Loss: 669.2870\n",
      "Epoch [49/50], Step [51/119], Loss: 663.4589\n",
      "Epoch [49/50], Step [101/119], Loss: 570.3214\n",
      "Epoch [50/50], Step [1/119], Loss: 647.8792\n",
      "Epoch [50/50], Step [51/119], Loss: 677.1185\n",
      "Epoch [50/50], Step [101/119], Loss: 693.8719\n"
     ]
    }
   ],
   "source": [
    "# Logistic regression model\n",
    "model = NeuralNet(input_size, hidden1_size, hidden2_size, hidden2_size, num_classes)\n",
    "\n",
    "# Loss and optimizer\n",
    "# nn.CrossEntropyLoss() computes softmax internally\n",
    "criterion = nn.L1Loss()\n",
    "optimizer = torch.optim.Adam(model.parameters(), lr=learning_rate)\n",
    "\n",
    "# Train the model\n",
    "total_step = len(train_loader)\n",
    "for epoch in range(num_epochs):\n",
    "    for i, (images, labels) in enumerate(train_loader):\n",
    "        # Reshape images to (batch_size, input_size)\n",
    "        images = images.reshape(-1, input_size)\n",
    "        # Forward pass\n",
    "        \n",
    "        outputs = model(images)\n",
    "        loss = criterion(outputs.squeeze(1), labels)\n",
    "\n",
    "        # Backward and optimize\n",
    "        optimizer.zero_grad()\n",
    "        loss.backward()\n",
    "        optimizer.step()\n",
    "        if i % 50 == 0:\n",
    "            print('Epoch [{}/{}], Step [{}/{}], Loss: {:.4f}'\n",
    "                  .format(epoch + 1, num_epochs, i + 1, total_step, loss.item()))"
   ]
  },
  {
   "cell_type": "markdown",
   "metadata": {},
   "source": [
    "# 测试"
   ]
  },
  {
   "cell_type": "code",
   "execution_count": 34,
   "metadata": {},
   "outputs": [],
   "source": [
    "df_test = pd.read_csv(test_file,sep=' ' )"
   ]
  },
  {
   "cell_type": "code",
   "execution_count": 21,
   "metadata": {},
   "outputs": [],
   "source": [
    "df_test.notRepairedDamage.replace('-', np.NaN,inplace=True) \n",
    "df_test.notRepairedDamage = df_test.notRepairedDamage.astype(float)"
   ]
  },
  {
   "cell_type": "code",
   "execution_count": 23,
   "metadata": {},
   "outputs": [],
   "source": [
    "from sklearn.impute import SimpleImputer\n"
   ]
  },
  {
   "cell_type": "code",
   "execution_count": 24,
   "metadata": {},
   "outputs": [],
   "source": [
    "imp = SimpleImputer(missing_values=np.nan, strategy='mean')\n",
    "df_test = imp.fit_transform(df_test)"
   ]
  },
  {
   "cell_type": "code",
   "execution_count": 25,
   "metadata": {},
   "outputs": [],
   "source": [
    "df_test = min_max_scaler.transform(df_test)"
   ]
  },
  {
   "cell_type": "code",
   "execution_count": 26,
   "metadata": {},
   "outputs": [
    {
     "name": "stdout",
     "output_type": "stream",
     "text": [
      "[    0     0     0 ... 37500 37500 37500]\n"
     ]
    }
   ],
   "source": [
    "predicted = model(torch.from_numpy(df_test).float())\n",
    "predicted_label = predicted.argmax(dim=1).detach().numpy()\n",
    "print(predicted_label)\n"
   ]
  },
  {
   "cell_type": "code",
   "execution_count": 27,
   "metadata": {},
   "outputs": [],
   "source": [
    "out = predicted.detach().numpy()"
   ]
  },
  {
   "cell_type": "code",
   "execution_count": 29,
   "metadata": {},
   "outputs": [
    {
     "data": {
      "text/plain": [
       "(50000,)"
      ]
     },
     "execution_count": 29,
     "metadata": {},
     "output_type": "execute_result"
    }
   ],
   "source": [
    "out.reshape(-1).shape"
   ]
  },
  {
   "cell_type": "code",
   "execution_count": null,
   "metadata": {},
   "outputs": [],
   "source": []
  },
  {
   "cell_type": "code",
   "execution_count": 35,
   "metadata": {},
   "outputs": [],
   "source": [
    "result = pd.DataFrame({'SaleID': df_test['SaleID'], 'price': out.reshape(-1)})\n",
    "result.to_csv('./ft.csv', index=False)"
   ]
  },
  {
   "cell_type": "code",
   "execution_count": null,
   "metadata": {},
   "outputs": [],
   "source": []
  }
 ],
 "metadata": {
  "kernelspec": {
   "display_name": "Python 3",
   "language": "python",
   "name": "python3"
  },
  "language_info": {
   "codemirror_mode": {
    "name": "ipython",
    "version": 3
   },
   "file_extension": ".py",
   "mimetype": "text/x-python",
   "name": "python",
   "nbconvert_exporter": "python",
   "pygments_lexer": "ipython3",
   "version": "3.7.5"
  }
 },
 "nbformat": 4,
 "nbformat_minor": 4
}
