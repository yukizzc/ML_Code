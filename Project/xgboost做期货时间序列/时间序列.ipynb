{
 "cells": [
  {
   "cell_type": "code",
   "execution_count": 3,
   "metadata": {},
   "outputs": [],
   "source": [
    "# finalize model andmake a prediction for monthly births with xgboost\n",
    "from numpy import asarray\n",
    "from pandas import read_csv\n",
    "from pandas import DataFrame\n",
    "from pandas import concat\n",
    "#from xgboost import XGBRegressor\n",
    "\n",
    " \n"
   ]
  },
  {
   "cell_type": "code",
   "execution_count": 4,
   "metadata": {},
   "outputs": [],
   "source": [
    " \n",
    "# transform a timeseries dataset into a supervised learning dataset\n",
    "def series_to_supervised(data, n_in=1, n_out=1, dropnan=True):\n",
    "       n_vars = 1 if type(data) is list else data.shape[1]\n",
    "       df = DataFrame(data)\n",
    "       cols = list()\n",
    "       # input sequence (t-n, ... t-1)\n",
    "       for i in range(n_in, 0, -1):\n",
    "              cols.append(df.shift(i))\n",
    "       # forecast sequence (t, t+1, ... t+n)\n",
    "       for i in range(0, n_out):\n",
    "              cols.append(df.shift(-i))\n",
    "       # put it all together\n",
    "       agg = concat(cols, axis=1)\n",
    "       # drop rows with NaN values\n",
    "       if dropnan:\n",
    "              agg.dropna(inplace=True)\n",
    "       return agg.values"
   ]
  },
  {
   "cell_type": "code",
   "execution_count": 14,
   "metadata": {},
   "outputs": [
    {
     "data": {
      "text/plain": [
       "(10713, 1)"
      ]
     },
     "execution_count": 14,
     "metadata": {},
     "output_type": "execute_result"
    }
   ],
   "source": [
    "# load the dataset\n",
    "series =read_csv('./ft.csv', header=0, index_col=0,encoding='GB2312')\n",
    "values = series.values\n",
    "# transform the timeseries data into supervised learning\n",
    "values.shape"
   ]
  },
  {
   "cell_type": "code",
   "execution_count": 16,
   "metadata": {},
   "outputs": [
    {
     "data": {
      "text/plain": [
       "array([[2387.489258],\n",
       "       [2383.365479],\n",
       "       [2388.100098],\n",
       "       [2412.537109],\n",
       "       [2453.316406],\n",
       "       [2439.112305],\n",
       "       [2417.118896],\n",
       "       [2449.192383],\n",
       "       [2507.688477],\n",
       "       [2526.321533]])"
      ]
     },
     "execution_count": 16,
     "metadata": {},
     "output_type": "execute_result"
    }
   ],
   "source": [
    "values[:10]"
   ]
  },
  {
   "cell_type": "code",
   "execution_count": 10,
   "metadata": {},
   "outputs": [
    {
     "data": {
      "text/plain": [
       "((10710, 3), (10710,))"
      ]
     },
     "execution_count": 10,
     "metadata": {},
     "output_type": "execute_result"
    }
   ],
   "source": [
    "train =series_to_supervised(values, n_in=3)\n",
    "# split into input andoutput columns\n",
    "trainX, trainy =train[:, :-1], train[:, -1]\n",
    "trainX.shape,trainy.shape"
   ]
  },
  {
   "cell_type": "code",
   "execution_count": 12,
   "metadata": {},
   "outputs": [
    {
     "data": {
      "text/plain": [
       "(array([[2387.489258, 2383.365479, 2388.100098],\n",
       "        [2383.365479, 2388.100098, 2412.537109],\n",
       "        [2388.100098, 2412.537109, 2453.316406],\n",
       "        [2412.537109, 2453.316406, 2439.112305],\n",
       "        [2453.316406, 2439.112305, 2417.118896]]),\n",
       " array([2412.537109, 2453.316406, 2439.112305, 2417.118896, 2449.192383]))"
      ]
     },
     "execution_count": 12,
     "metadata": {},
     "output_type": "execute_result"
    }
   ],
   "source": [
    "trainX[:5],trainy[:5]"
   ]
  },
  {
   "cell_type": "markdown",
   "metadata": {},
   "source": [
    "# 训练模型"
   ]
  },
  {
   "cell_type": "code",
   "execution_count": null,
   "metadata": {},
   "outputs": [],
   "source": [
    "# fit model\n",
    "model =XGBRegressor(objective='reg:squarederror', n_estimators=1000)\n",
    "model.fit(trainX,trainy)\n"
   ]
  },
  {
   "cell_type": "code",
   "execution_count": 9,
   "metadata": {},
   "outputs": [
    {
     "name": "stdout",
     "output_type": "stream",
     "text": [
      "Input: [3281.399902 3279.800049 3280.199951],Predicted: 3271.301\n"
     ]
    }
   ],
   "source": [
    "# construct an inputfor a new preduction\n",
    "row = values[-3:].flatten()\n",
    "# make a one-stepprediction\n",
    "yhat =model.predict(asarray([row]))\n",
    "print('Input: %s,Predicted: %.3f' % (row, yhat[0]))"
   ]
  }
 ],
 "metadata": {
  "kernelspec": {
   "display_name": "Python 3",
   "language": "python",
   "name": "python3"
  },
  "language_info": {
   "codemirror_mode": {
    "name": "ipython",
    "version": 3
   },
   "file_extension": ".py",
   "mimetype": "text/x-python",
   "name": "python",
   "nbconvert_exporter": "python",
   "pygments_lexer": "ipython3",
   "version": "3.7.5"
  }
 },
 "nbformat": 4,
 "nbformat_minor": 4
}
