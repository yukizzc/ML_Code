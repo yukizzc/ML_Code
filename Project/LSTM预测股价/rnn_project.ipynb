{
 "cells": [
  {
   "cell_type": "code",
   "execution_count": 128,
   "metadata": {},
   "outputs": [],
   "source": [
    "import torch\n",
    "import torch.nn as nn\n",
    "import pandas as pd\n",
    "import numpy as np\n",
    "from torch.utils.data import Dataset\n",
    "from torch.utils.data import DataLoader\n",
    "from sklearn import preprocessing"
   ]
  },
  {
   "cell_type": "code",
   "execution_count": 129,
   "metadata": {},
   "outputs": [],
   "source": [
    "# transform a timeseries dataset into a supervised learning dataset\n",
    "def series_to_supervised(data, n_in=1, n_out=1, dropnan=True):\n",
    "    n_vars = 1 if type(data) is list else data.shape[1]\n",
    "    df = pd.DataFrame(data)\n",
    "    cols = list()\n",
    "    # input sequence (t-n, ... t-1)\n",
    "    for i in range(n_in, 0, -1):\n",
    "        cols.append(df.shift(i))\n",
    "    # forecast sequence (t, t+1, ... t+n)\n",
    "    for i in range(0, n_out):\n",
    "        cols.append(df.shift(-i))\n",
    "            # put it all together\n",
    "    agg = pd.concat(cols, axis=1)\n",
    "        # drop rows with NaN values\n",
    "    if dropnan:\n",
    "        agg.dropna(inplace=True)\n",
    "    return agg.values"
   ]
  },
  {
   "cell_type": "code",
   "execution_count": 130,
   "metadata": {},
   "outputs": [
    {
     "data": {
      "text/plain": [
       "(10713, 1)"
      ]
     },
     "execution_count": 130,
     "metadata": {},
     "output_type": "execute_result"
    }
   ],
   "source": [
    "# load the dataset\n",
    "series = pd.read_csv('./ft.csv', header=0, index_col=0,encoding='GB2312')\n",
    "values = series.iloc[:,0].values\n",
    "values = values.reshape(-1,1)\n",
    "# transform the timeseries data into supervised learning\n",
    "values.shape"
   ]
  },
  {
   "cell_type": "code",
   "execution_count": 131,
   "metadata": {},
   "outputs": [],
   "source": [
    "scaler = preprocessing.StandardScaler().fit(values)\n",
    "values = scaler.transform(values)"
   ]
  },
  {
   "cell_type": "code",
   "execution_count": 132,
   "metadata": {},
   "outputs": [
    {
     "data": {
      "text/plain": [
       "((10683, 30), (10683, 1))"
      ]
     },
     "execution_count": 132,
     "metadata": {},
     "output_type": "execute_result"
    }
   ],
   "source": [
    "train = series_to_supervised(values, n_in=30)\n",
    "# split into input andoutput columns\n",
    "trainX, trainy =train[:, :-1], train[:, -1].reshape(-1,1)\n",
    "trainX.shape,trainy.shape"
   ]
  },
  {
   "cell_type": "code",
   "execution_count": 133,
   "metadata": {},
   "outputs": [
    {
     "data": {
      "text/plain": [
       "((10683, 30), (10683, 1))"
      ]
     },
     "execution_count": 133,
     "metadata": {},
     "output_type": "execute_result"
    }
   ],
   "source": [
    "trainX.shape,trainy.shape"
   ]
  },
  {
   "cell_type": "code",
   "execution_count": 134,
   "metadata": {},
   "outputs": [
    {
     "data": {
      "text/plain": [
       "(array([[-0.05379352, -0.06475081, -0.05217045,  0.01276114,  0.12111583,\n",
       "          0.0833741 ,  0.02493541,  0.11015788,  0.26558788,  0.31509778,\n",
       "          0.30941641,  0.21973019,  0.27289231,  0.22622309,  0.20714983,\n",
       "          0.25422449,  0.31063404,  0.20512068,  0.27573364,  0.23109293,\n",
       "          0.26112413,  0.28384961,  0.30373505,  0.19943866,  0.12152127,\n",
       "          0.05943036, -0.01239958,  0.06795241,  0.03508117,  0.06511238],\n",
       "        [-0.06475081, -0.05217045,  0.01276114,  0.12111583,  0.0833741 ,\n",
       "          0.02493541,  0.11015788,  0.26558788,  0.31509778,  0.30941641,\n",
       "          0.21973019,  0.27289231,  0.22622309,  0.20714983,  0.25422449,\n",
       "          0.31063404,  0.20512068,  0.27573364,  0.23109293,  0.26112413,\n",
       "          0.28384961,  0.30373505,  0.19943866,  0.12152127,  0.05943036,\n",
       "         -0.01239958,  0.06795241,  0.03508117,  0.06511238,  0.10569414],\n",
       "        [-0.05217045,  0.01276114,  0.12111583,  0.0833741 ,  0.02493541,\n",
       "          0.11015788,  0.26558788,  0.31509778,  0.30941641,  0.21973019,\n",
       "          0.27289231,  0.22622309,  0.20714983,  0.25422449,  0.31063404,\n",
       "          0.20512068,  0.27573364,  0.23109293,  0.26112413,  0.28384961,\n",
       "          0.30373505,  0.19943866,  0.12152127,  0.05943036, -0.01239958,\n",
       "          0.06795241,  0.03508117,  0.06511238,  0.10569414,  0.10244736],\n",
       "        [ 0.01276114,  0.12111583,  0.0833741 ,  0.02493541,  0.11015788,\n",
       "          0.26558788,  0.31509778,  0.30941641,  0.21973019,  0.27289231,\n",
       "          0.22622309,  0.20714983,  0.25422449,  0.31063404,  0.20512068,\n",
       "          0.27573364,  0.23109293,  0.26112413,  0.28384961,  0.30373505,\n",
       "          0.19943866,  0.12152127,  0.05943036, -0.01239958,  0.06795241,\n",
       "          0.03508117,  0.06511238,  0.10569414,  0.10244736,  0.10123039],\n",
       "        [ 0.12111583,  0.0833741 ,  0.02493541,  0.11015788,  0.26558788,\n",
       "          0.31509778,  0.30941641,  0.21973019,  0.27289231,  0.22622309,\n",
       "          0.20714983,  0.25422449,  0.31063404,  0.20512068,  0.27573364,\n",
       "          0.23109293,  0.26112413,  0.28384961,  0.30373505,  0.19943866,\n",
       "          0.12152127,  0.05943036, -0.01239958,  0.06795241,  0.03508117,\n",
       "          0.06511238,  0.10569414,  0.10244736,  0.10123039,  0.08053342]]),\n",
       " array([[0.10569414],\n",
       "        [0.10244736],\n",
       "        [0.10123039],\n",
       "        [0.08053342],\n",
       "        [0.11340466]]))"
      ]
     },
     "execution_count": 134,
     "metadata": {},
     "output_type": "execute_result"
    }
   ],
   "source": [
    "trainX[:5],trainy[:5]"
   ]
  },
  {
   "cell_type": "markdown",
   "metadata": {},
   "source": [
    "#  数据模块"
   ]
  },
  {
   "cell_type": "code",
   "execution_count": 135,
   "metadata": {},
   "outputs": [],
   "source": [
    "class DiabetesDataset(Dataset):\n",
    "    def __init__(self, x_, y_):\n",
    "        self.len = x_.shape[0]\n",
    "        self.x_data = torch.from_numpy(x_)\n",
    "        # 这部很关键， 特征类型要求float类型\n",
    "        self.x_data = self.x_data.float()\n",
    "        self.y_data = torch.from_numpy(y_)\n",
    "        self.y_data = self.y_data.float()\n",
    "        \n",
    "\n",
    "    def __getitem__(self, item):\n",
    "        return self.x_data[item], self.y_data[item]\n",
    "\n",
    "    def __len__(self):\n",
    "        return self.len"
   ]
  },
  {
   "cell_type": "code",
   "execution_count": 136,
   "metadata": {},
   "outputs": [],
   "source": [
    "dataset = DiabetesDataset(trainX, trainy)\n",
    "train_loader = DataLoader(dataset=dataset, batch_size=512, shuffle=False)"
   ]
  },
  {
   "cell_type": "code",
   "execution_count": null,
   "metadata": {},
   "outputs": [],
   "source": []
  },
  {
   "cell_type": "code",
   "execution_count": null,
   "metadata": {},
   "outputs": [],
   "source": []
  },
  {
   "cell_type": "markdown",
   "metadata": {},
   "source": [
    "# 网络结构"
   ]
  },
  {
   "cell_type": "code",
   "execution_count": 137,
   "metadata": {},
   "outputs": [],
   "source": [
    "# input_size 输入特征的大小\n",
    "# hidden_size 神经元模块额数量\n",
    "# num_layer 几层隐藏层\n",
    "# lstm默认输入的维度是 (seq_len,batch,feature)\n",
    "class LSTM(nn.Module):\n",
    "    def __init__(self):\n",
    "        super().__init__()\n",
    "        self.lstm = torch.nn.LSTM(\n",
    "            input_size = 1,\n",
    "            hidden_size = 64,\n",
    "            num_layers = 1,\n",
    "            batch_first = True\n",
    "        )\n",
    "        self.out = nn.Linear(in_features = 64,out_features = 1)\n",
    "\n",
    "    def forward(self, x):\n",
    "        output,(h_n,c_n) = self.lstm(x)\n",
    "        out = self.out(output[:,-1,:])\n",
    "        return out"
   ]
  },
  {
   "cell_type": "code",
   "execution_count": 138,
   "metadata": {},
   "outputs": [],
   "source": [
    "device = torch.device('cuda')\n",
    "model = LSTM().to(device)"
   ]
  },
  {
   "cell_type": "markdown",
   "metadata": {},
   "source": [
    "# 训练"
   ]
  },
  {
   "cell_type": "code",
   "execution_count": 141,
   "metadata": {},
   "outputs": [],
   "source": [
    "criterion = nn.MSELoss()\n",
    "optimizer = torch.optim.Adam(model.parameters(), lr=0.0001)"
   ]
  },
  {
   "cell_type": "code",
   "execution_count": 143,
   "metadata": {},
   "outputs": [
    {
     "name": "stdout",
     "output_type": "stream",
     "text": [
      "Epoch [1/100], Step [5/21], Loss: 0.0004\n",
      "Epoch [1/100], Step [10/21], Loss: 0.0003\n",
      "Epoch [1/100], Step [15/21], Loss: 0.0008\n",
      "Epoch [1/100], Step [20/21], Loss: 0.0012\n",
      "Epoch [2/100], Step [5/21], Loss: 0.0004\n",
      "Epoch [2/100], Step [10/21], Loss: 0.0003\n",
      "Epoch [2/100], Step [15/21], Loss: 0.0008\n",
      "Epoch [2/100], Step [20/21], Loss: 0.0012\n",
      "Epoch [3/100], Step [5/21], Loss: 0.0004\n",
      "Epoch [3/100], Step [10/21], Loss: 0.0003\n",
      "Epoch [3/100], Step [15/21], Loss: 0.0008\n",
      "Epoch [3/100], Step [20/21], Loss: 0.0012\n",
      "Epoch [4/100], Step [5/21], Loss: 0.0004\n",
      "Epoch [4/100], Step [10/21], Loss: 0.0003\n",
      "Epoch [4/100], Step [15/21], Loss: 0.0008\n",
      "Epoch [4/100], Step [20/21], Loss: 0.0012\n",
      "Epoch [5/100], Step [5/21], Loss: 0.0004\n",
      "Epoch [5/100], Step [10/21], Loss: 0.0003\n",
      "Epoch [5/100], Step [15/21], Loss: 0.0008\n",
      "Epoch [5/100], Step [20/21], Loss: 0.0012\n",
      "Epoch [6/100], Step [5/21], Loss: 0.0004\n",
      "Epoch [6/100], Step [10/21], Loss: 0.0003\n",
      "Epoch [6/100], Step [15/21], Loss: 0.0008\n",
      "Epoch [6/100], Step [20/21], Loss: 0.0012\n",
      "Epoch [7/100], Step [5/21], Loss: 0.0004\n",
      "Epoch [7/100], Step [10/21], Loss: 0.0003\n",
      "Epoch [7/100], Step [15/21], Loss: 0.0008\n",
      "Epoch [7/100], Step [20/21], Loss: 0.0012\n",
      "Epoch [8/100], Step [5/21], Loss: 0.0004\n",
      "Epoch [8/100], Step [10/21], Loss: 0.0003\n",
      "Epoch [8/100], Step [15/21], Loss: 0.0008\n",
      "Epoch [8/100], Step [20/21], Loss: 0.0012\n",
      "Epoch [9/100], Step [5/21], Loss: 0.0004\n",
      "Epoch [9/100], Step [10/21], Loss: 0.0003\n",
      "Epoch [9/100], Step [15/21], Loss: 0.0008\n",
      "Epoch [9/100], Step [20/21], Loss: 0.0012\n",
      "Epoch [10/100], Step [5/21], Loss: 0.0004\n",
      "Epoch [10/100], Step [10/21], Loss: 0.0003\n",
      "Epoch [10/100], Step [15/21], Loss: 0.0008\n",
      "Epoch [10/100], Step [20/21], Loss: 0.0012\n",
      "Epoch [11/100], Step [5/21], Loss: 0.0004\n",
      "Epoch [11/100], Step [10/21], Loss: 0.0003\n",
      "Epoch [11/100], Step [15/21], Loss: 0.0008\n",
      "Epoch [11/100], Step [20/21], Loss: 0.0012\n",
      "Epoch [12/100], Step [5/21], Loss: 0.0004\n",
      "Epoch [12/100], Step [10/21], Loss: 0.0003\n",
      "Epoch [12/100], Step [15/21], Loss: 0.0008\n",
      "Epoch [12/100], Step [20/21], Loss: 0.0012\n",
      "Epoch [13/100], Step [5/21], Loss: 0.0004\n",
      "Epoch [13/100], Step [10/21], Loss: 0.0003\n",
      "Epoch [13/100], Step [15/21], Loss: 0.0008\n",
      "Epoch [13/100], Step [20/21], Loss: 0.0012\n",
      "Epoch [14/100], Step [5/21], Loss: 0.0004\n",
      "Epoch [14/100], Step [10/21], Loss: 0.0003\n",
      "Epoch [14/100], Step [15/21], Loss: 0.0008\n",
      "Epoch [14/100], Step [20/21], Loss: 0.0012\n",
      "Epoch [15/100], Step [5/21], Loss: 0.0004\n",
      "Epoch [15/100], Step [10/21], Loss: 0.0003\n",
      "Epoch [15/100], Step [15/21], Loss: 0.0008\n",
      "Epoch [15/100], Step [20/21], Loss: 0.0012\n",
      "Epoch [16/100], Step [5/21], Loss: 0.0004\n",
      "Epoch [16/100], Step [10/21], Loss: 0.0003\n",
      "Epoch [16/100], Step [15/21], Loss: 0.0008\n",
      "Epoch [16/100], Step [20/21], Loss: 0.0012\n",
      "Epoch [17/100], Step [5/21], Loss: 0.0004\n",
      "Epoch [17/100], Step [10/21], Loss: 0.0003\n",
      "Epoch [17/100], Step [15/21], Loss: 0.0008\n",
      "Epoch [17/100], Step [20/21], Loss: 0.0012\n",
      "Epoch [18/100], Step [5/21], Loss: 0.0004\n",
      "Epoch [18/100], Step [10/21], Loss: 0.0003\n",
      "Epoch [18/100], Step [15/21], Loss: 0.0008\n",
      "Epoch [18/100], Step [20/21], Loss: 0.0012\n",
      "Epoch [19/100], Step [5/21], Loss: 0.0004\n",
      "Epoch [19/100], Step [10/21], Loss: 0.0003\n",
      "Epoch [19/100], Step [15/21], Loss: 0.0008\n",
      "Epoch [19/100], Step [20/21], Loss: 0.0012\n",
      "Epoch [20/100], Step [5/21], Loss: 0.0004\n",
      "Epoch [20/100], Step [10/21], Loss: 0.0003\n",
      "Epoch [20/100], Step [15/21], Loss: 0.0008\n",
      "Epoch [20/100], Step [20/21], Loss: 0.0012\n",
      "Epoch [21/100], Step [5/21], Loss: 0.0004\n",
      "Epoch [21/100], Step [10/21], Loss: 0.0003\n",
      "Epoch [21/100], Step [15/21], Loss: 0.0008\n",
      "Epoch [21/100], Step [20/21], Loss: 0.0012\n",
      "Epoch [22/100], Step [5/21], Loss: 0.0004\n",
      "Epoch [22/100], Step [10/21], Loss: 0.0003\n",
      "Epoch [22/100], Step [15/21], Loss: 0.0008\n",
      "Epoch [22/100], Step [20/21], Loss: 0.0012\n",
      "Epoch [23/100], Step [5/21], Loss: 0.0004\n",
      "Epoch [23/100], Step [10/21], Loss: 0.0003\n",
      "Epoch [23/100], Step [15/21], Loss: 0.0008\n",
      "Epoch [23/100], Step [20/21], Loss: 0.0012\n",
      "Epoch [24/100], Step [5/21], Loss: 0.0004\n",
      "Epoch [24/100], Step [10/21], Loss: 0.0003\n",
      "Epoch [24/100], Step [15/21], Loss: 0.0008\n",
      "Epoch [24/100], Step [20/21], Loss: 0.0012\n",
      "Epoch [25/100], Step [5/21], Loss: 0.0004\n",
      "Epoch [25/100], Step [10/21], Loss: 0.0003\n",
      "Epoch [25/100], Step [15/21], Loss: 0.0008\n",
      "Epoch [25/100], Step [20/21], Loss: 0.0012\n",
      "Epoch [26/100], Step [5/21], Loss: 0.0004\n",
      "Epoch [26/100], Step [10/21], Loss: 0.0003\n",
      "Epoch [26/100], Step [15/21], Loss: 0.0008\n",
      "Epoch [26/100], Step [20/21], Loss: 0.0011\n",
      "Epoch [27/100], Step [5/21], Loss: 0.0004\n",
      "Epoch [27/100], Step [10/21], Loss: 0.0003\n",
      "Epoch [27/100], Step [15/21], Loss: 0.0008\n",
      "Epoch [27/100], Step [20/21], Loss: 0.0011\n",
      "Epoch [28/100], Step [5/21], Loss: 0.0004\n",
      "Epoch [28/100], Step [10/21], Loss: 0.0003\n",
      "Epoch [28/100], Step [15/21], Loss: 0.0008\n",
      "Epoch [28/100], Step [20/21], Loss: 0.0011\n",
      "Epoch [29/100], Step [5/21], Loss: 0.0004\n",
      "Epoch [29/100], Step [10/21], Loss: 0.0003\n",
      "Epoch [29/100], Step [15/21], Loss: 0.0008\n",
      "Epoch [29/100], Step [20/21], Loss: 0.0011\n",
      "Epoch [30/100], Step [5/21], Loss: 0.0004\n",
      "Epoch [30/100], Step [10/21], Loss: 0.0003\n",
      "Epoch [30/100], Step [15/21], Loss: 0.0008\n",
      "Epoch [30/100], Step [20/21], Loss: 0.0011\n",
      "Epoch [31/100], Step [5/21], Loss: 0.0004\n",
      "Epoch [31/100], Step [10/21], Loss: 0.0003\n",
      "Epoch [31/100], Step [15/21], Loss: 0.0008\n",
      "Epoch [31/100], Step [20/21], Loss: 0.0011\n",
      "Epoch [32/100], Step [5/21], Loss: 0.0004\n",
      "Epoch [32/100], Step [10/21], Loss: 0.0003\n",
      "Epoch [32/100], Step [15/21], Loss: 0.0008\n",
      "Epoch [32/100], Step [20/21], Loss: 0.0011\n",
      "Epoch [33/100], Step [5/21], Loss: 0.0004\n",
      "Epoch [33/100], Step [10/21], Loss: 0.0003\n",
      "Epoch [33/100], Step [15/21], Loss: 0.0008\n",
      "Epoch [33/100], Step [20/21], Loss: 0.0011\n",
      "Epoch [34/100], Step [5/21], Loss: 0.0004\n",
      "Epoch [34/100], Step [10/21], Loss: 0.0003\n",
      "Epoch [34/100], Step [15/21], Loss: 0.0008\n",
      "Epoch [34/100], Step [20/21], Loss: 0.0011\n",
      "Epoch [35/100], Step [5/21], Loss: 0.0004\n",
      "Epoch [35/100], Step [10/21], Loss: 0.0003\n",
      "Epoch [35/100], Step [15/21], Loss: 0.0008\n",
      "Epoch [35/100], Step [20/21], Loss: 0.0011\n",
      "Epoch [36/100], Step [5/21], Loss: 0.0004\n",
      "Epoch [36/100], Step [10/21], Loss: 0.0003\n",
      "Epoch [36/100], Step [15/21], Loss: 0.0008\n",
      "Epoch [36/100], Step [20/21], Loss: 0.0011\n",
      "Epoch [37/100], Step [5/21], Loss: 0.0004\n",
      "Epoch [37/100], Step [10/21], Loss: 0.0003\n",
      "Epoch [37/100], Step [15/21], Loss: 0.0008\n",
      "Epoch [37/100], Step [20/21], Loss: 0.0012\n",
      "Epoch [38/100], Step [5/21], Loss: 0.0004\n",
      "Epoch [38/100], Step [10/21], Loss: 0.0003\n",
      "Epoch [38/100], Step [15/21], Loss: 0.0008\n",
      "Epoch [38/100], Step [20/21], Loss: 0.0012\n",
      "Epoch [39/100], Step [5/21], Loss: 0.0005\n",
      "Epoch [39/100], Step [10/21], Loss: 0.0004\n",
      "Epoch [39/100], Step [15/21], Loss: 0.0009\n",
      "Epoch [39/100], Step [20/21], Loss: 0.0012\n",
      "Epoch [40/100], Step [5/21], Loss: 0.0005\n",
      "Epoch [40/100], Step [10/21], Loss: 0.0004\n",
      "Epoch [40/100], Step [15/21], Loss: 0.0009\n",
      "Epoch [40/100], Step [20/21], Loss: 0.0012\n",
      "Epoch [41/100], Step [5/21], Loss: 0.0007\n",
      "Epoch [41/100], Step [10/21], Loss: 0.0005\n",
      "Epoch [41/100], Step [15/21], Loss: 0.0009\n",
      "Epoch [41/100], Step [20/21], Loss: 0.0014\n",
      "Epoch [42/100], Step [5/21], Loss: 0.0009\n",
      "Epoch [42/100], Step [10/21], Loss: 0.0004\n",
      "Epoch [42/100], Step [15/21], Loss: 0.0009\n",
      "Epoch [42/100], Step [20/21], Loss: 0.0014\n",
      "Epoch [43/100], Step [5/21], Loss: 0.0013\n",
      "Epoch [43/100], Step [10/21], Loss: 0.0005\n",
      "Epoch [43/100], Step [15/21], Loss: 0.0010\n",
      "Epoch [43/100], Step [20/21], Loss: 0.0015\n",
      "Epoch [44/100], Step [5/21], Loss: 0.0016\n",
      "Epoch [44/100], Step [10/21], Loss: 0.0004\n",
      "Epoch [44/100], Step [15/21], Loss: 0.0009\n",
      "Epoch [44/100], Step [20/21], Loss: 0.0014\n",
      "Epoch [45/100], Step [5/21], Loss: 0.0015\n",
      "Epoch [45/100], Step [10/21], Loss: 0.0004\n",
      "Epoch [45/100], Step [15/21], Loss: 0.0009\n",
      "Epoch [45/100], Step [20/21], Loss: 0.0014\n",
      "Epoch [46/100], Step [5/21], Loss: 0.0012\n",
      "Epoch [46/100], Step [10/21], Loss: 0.0003\n",
      "Epoch [46/100], Step [15/21], Loss: 0.0008\n",
      "Epoch [46/100], Step [20/21], Loss: 0.0012\n",
      "Epoch [47/100], Step [5/21], Loss: 0.0009\n",
      "Epoch [47/100], Step [10/21], Loss: 0.0003\n",
      "Epoch [47/100], Step [15/21], Loss: 0.0008\n",
      "Epoch [47/100], Step [20/21], Loss: 0.0012\n",
      "Epoch [48/100], Step [5/21], Loss: 0.0006\n",
      "Epoch [48/100], Step [10/21], Loss: 0.0003\n",
      "Epoch [48/100], Step [15/21], Loss: 0.0008\n",
      "Epoch [48/100], Step [20/21], Loss: 0.0012\n",
      "Epoch [49/100], Step [5/21], Loss: 0.0005\n",
      "Epoch [49/100], Step [10/21], Loss: 0.0003\n"
     ]
    },
    {
     "name": "stdout",
     "output_type": "stream",
     "text": [
      "Epoch [49/100], Step [15/21], Loss: 0.0008\n",
      "Epoch [49/100], Step [20/21], Loss: 0.0012\n",
      "Epoch [50/100], Step [5/21], Loss: 0.0004\n",
      "Epoch [50/100], Step [10/21], Loss: 0.0003\n",
      "Epoch [50/100], Step [15/21], Loss: 0.0008\n",
      "Epoch [50/100], Step [20/21], Loss: 0.0011\n",
      "Epoch [51/100], Step [5/21], Loss: 0.0004\n",
      "Epoch [51/100], Step [10/21], Loss: 0.0003\n",
      "Epoch [51/100], Step [15/21], Loss: 0.0008\n",
      "Epoch [51/100], Step [20/21], Loss: 0.0011\n",
      "Epoch [52/100], Step [5/21], Loss: 0.0004\n",
      "Epoch [52/100], Step [10/21], Loss: 0.0003\n",
      "Epoch [52/100], Step [15/21], Loss: 0.0008\n",
      "Epoch [52/100], Step [20/21], Loss: 0.0011\n",
      "Epoch [53/100], Step [5/21], Loss: 0.0004\n",
      "Epoch [53/100], Step [10/21], Loss: 0.0003\n",
      "Epoch [53/100], Step [15/21], Loss: 0.0008\n",
      "Epoch [53/100], Step [20/21], Loss: 0.0011\n",
      "Epoch [54/100], Step [5/21], Loss: 0.0004\n",
      "Epoch [54/100], Step [10/21], Loss: 0.0003\n",
      "Epoch [54/100], Step [15/21], Loss: 0.0008\n",
      "Epoch [54/100], Step [20/21], Loss: 0.0011\n",
      "Epoch [55/100], Step [5/21], Loss: 0.0004\n",
      "Epoch [55/100], Step [10/21], Loss: 0.0003\n",
      "Epoch [55/100], Step [15/21], Loss: 0.0008\n",
      "Epoch [55/100], Step [20/21], Loss: 0.0011\n",
      "Epoch [56/100], Step [5/21], Loss: 0.0004\n",
      "Epoch [56/100], Step [10/21], Loss: 0.0003\n",
      "Epoch [56/100], Step [15/21], Loss: 0.0008\n",
      "Epoch [56/100], Step [20/21], Loss: 0.0011\n",
      "Epoch [57/100], Step [5/21], Loss: 0.0004\n",
      "Epoch [57/100], Step [10/21], Loss: 0.0003\n",
      "Epoch [57/100], Step [15/21], Loss: 0.0008\n",
      "Epoch [57/100], Step [20/21], Loss: 0.0011\n",
      "Epoch [58/100], Step [5/21], Loss: 0.0004\n",
      "Epoch [58/100], Step [10/21], Loss: 0.0003\n",
      "Epoch [58/100], Step [15/21], Loss: 0.0008\n",
      "Epoch [58/100], Step [20/21], Loss: 0.0011\n",
      "Epoch [59/100], Step [5/21], Loss: 0.0004\n",
      "Epoch [59/100], Step [10/21], Loss: 0.0003\n",
      "Epoch [59/100], Step [15/21], Loss: 0.0008\n",
      "Epoch [59/100], Step [20/21], Loss: 0.0011\n",
      "Epoch [60/100], Step [5/21], Loss: 0.0004\n",
      "Epoch [60/100], Step [10/21], Loss: 0.0003\n",
      "Epoch [60/100], Step [15/21], Loss: 0.0008\n",
      "Epoch [60/100], Step [20/21], Loss: 0.0011\n",
      "Epoch [61/100], Step [5/21], Loss: 0.0004\n",
      "Epoch [61/100], Step [10/21], Loss: 0.0003\n",
      "Epoch [61/100], Step [15/21], Loss: 0.0008\n",
      "Epoch [61/100], Step [20/21], Loss: 0.0011\n",
      "Epoch [62/100], Step [5/21], Loss: 0.0004\n",
      "Epoch [62/100], Step [10/21], Loss: 0.0003\n",
      "Epoch [62/100], Step [15/21], Loss: 0.0008\n",
      "Epoch [62/100], Step [20/21], Loss: 0.0011\n",
      "Epoch [63/100], Step [5/21], Loss: 0.0004\n",
      "Epoch [63/100], Step [10/21], Loss: 0.0003\n",
      "Epoch [63/100], Step [15/21], Loss: 0.0008\n",
      "Epoch [63/100], Step [20/21], Loss: 0.0011\n",
      "Epoch [64/100], Step [5/21], Loss: 0.0004\n",
      "Epoch [64/100], Step [10/21], Loss: 0.0003\n",
      "Epoch [64/100], Step [15/21], Loss: 0.0008\n",
      "Epoch [64/100], Step [20/21], Loss: 0.0011\n",
      "Epoch [65/100], Step [5/21], Loss: 0.0004\n",
      "Epoch [65/100], Step [10/21], Loss: 0.0003\n",
      "Epoch [65/100], Step [15/21], Loss: 0.0008\n",
      "Epoch [65/100], Step [20/21], Loss: 0.0011\n",
      "Epoch [66/100], Step [5/21], Loss: 0.0004\n",
      "Epoch [66/100], Step [10/21], Loss: 0.0003\n",
      "Epoch [66/100], Step [15/21], Loss: 0.0008\n",
      "Epoch [66/100], Step [20/21], Loss: 0.0011\n",
      "Epoch [67/100], Step [5/21], Loss: 0.0004\n",
      "Epoch [67/100], Step [10/21], Loss: 0.0003\n",
      "Epoch [67/100], Step [15/21], Loss: 0.0008\n",
      "Epoch [67/100], Step [20/21], Loss: 0.0011\n",
      "Epoch [68/100], Step [5/21], Loss: 0.0004\n",
      "Epoch [68/100], Step [10/21], Loss: 0.0003\n",
      "Epoch [68/100], Step [15/21], Loss: 0.0008\n",
      "Epoch [68/100], Step [20/21], Loss: 0.0011\n",
      "Epoch [69/100], Step [5/21], Loss: 0.0004\n",
      "Epoch [69/100], Step [10/21], Loss: 0.0003\n",
      "Epoch [69/100], Step [15/21], Loss: 0.0008\n",
      "Epoch [69/100], Step [20/21], Loss: 0.0011\n",
      "Epoch [70/100], Step [5/21], Loss: 0.0004\n",
      "Epoch [70/100], Step [10/21], Loss: 0.0003\n",
      "Epoch [70/100], Step [15/21], Loss: 0.0008\n",
      "Epoch [70/100], Step [20/21], Loss: 0.0011\n",
      "Epoch [71/100], Step [5/21], Loss: 0.0004\n",
      "Epoch [71/100], Step [10/21], Loss: 0.0003\n",
      "Epoch [71/100], Step [15/21], Loss: 0.0008\n",
      "Epoch [71/100], Step [20/21], Loss: 0.0011\n",
      "Epoch [72/100], Step [5/21], Loss: 0.0004\n",
      "Epoch [72/100], Step [10/21], Loss: 0.0003\n",
      "Epoch [72/100], Step [15/21], Loss: 0.0008\n",
      "Epoch [72/100], Step [20/21], Loss: 0.0011\n",
      "Epoch [73/100], Step [5/21], Loss: 0.0004\n",
      "Epoch [73/100], Step [10/21], Loss: 0.0003\n",
      "Epoch [73/100], Step [15/21], Loss: 0.0008\n",
      "Epoch [73/100], Step [20/21], Loss: 0.0011\n",
      "Epoch [74/100], Step [5/21], Loss: 0.0004\n",
      "Epoch [74/100], Step [10/21], Loss: 0.0003\n",
      "Epoch [74/100], Step [15/21], Loss: 0.0008\n",
      "Epoch [74/100], Step [20/21], Loss: 0.0011\n",
      "Epoch [75/100], Step [5/21], Loss: 0.0004\n",
      "Epoch [75/100], Step [10/21], Loss: 0.0003\n",
      "Epoch [75/100], Step [15/21], Loss: 0.0008\n",
      "Epoch [75/100], Step [20/21], Loss: 0.0011\n",
      "Epoch [76/100], Step [5/21], Loss: 0.0004\n",
      "Epoch [76/100], Step [10/21], Loss: 0.0003\n",
      "Epoch [76/100], Step [15/21], Loss: 0.0008\n",
      "Epoch [76/100], Step [20/21], Loss: 0.0011\n",
      "Epoch [77/100], Step [5/21], Loss: 0.0004\n",
      "Epoch [77/100], Step [10/21], Loss: 0.0003\n",
      "Epoch [77/100], Step [15/21], Loss: 0.0008\n",
      "Epoch [77/100], Step [20/21], Loss: 0.0011\n",
      "Epoch [78/100], Step [5/21], Loss: 0.0004\n",
      "Epoch [78/100], Step [10/21], Loss: 0.0003\n",
      "Epoch [78/100], Step [15/21], Loss: 0.0008\n",
      "Epoch [78/100], Step [20/21], Loss: 0.0011\n",
      "Epoch [79/100], Step [5/21], Loss: 0.0004\n",
      "Epoch [79/100], Step [10/21], Loss: 0.0003\n",
      "Epoch [79/100], Step [15/21], Loss: 0.0008\n",
      "Epoch [79/100], Step [20/21], Loss: 0.0011\n",
      "Epoch [80/100], Step [5/21], Loss: 0.0004\n",
      "Epoch [80/100], Step [10/21], Loss: 0.0003\n",
      "Epoch [80/100], Step [15/21], Loss: 0.0008\n",
      "Epoch [80/100], Step [20/21], Loss: 0.0011\n",
      "Epoch [81/100], Step [5/21], Loss: 0.0004\n",
      "Epoch [81/100], Step [10/21], Loss: 0.0003\n",
      "Epoch [81/100], Step [15/21], Loss: 0.0008\n",
      "Epoch [81/100], Step [20/21], Loss: 0.0011\n",
      "Epoch [82/100], Step [5/21], Loss: 0.0004\n",
      "Epoch [82/100], Step [10/21], Loss: 0.0003\n",
      "Epoch [82/100], Step [15/21], Loss: 0.0008\n",
      "Epoch [82/100], Step [20/21], Loss: 0.0011\n",
      "Epoch [83/100], Step [5/21], Loss: 0.0004\n",
      "Epoch [83/100], Step [10/21], Loss: 0.0003\n",
      "Epoch [83/100], Step [15/21], Loss: 0.0008\n",
      "Epoch [83/100], Step [20/21], Loss: 0.0011\n",
      "Epoch [84/100], Step [5/21], Loss: 0.0004\n",
      "Epoch [84/100], Step [10/21], Loss: 0.0003\n",
      "Epoch [84/100], Step [15/21], Loss: 0.0008\n",
      "Epoch [84/100], Step [20/21], Loss: 0.0011\n",
      "Epoch [85/100], Step [5/21], Loss: 0.0004\n",
      "Epoch [85/100], Step [10/21], Loss: 0.0003\n",
      "Epoch [85/100], Step [15/21], Loss: 0.0008\n",
      "Epoch [85/100], Step [20/21], Loss: 0.0011\n",
      "Epoch [86/100], Step [5/21], Loss: 0.0004\n",
      "Epoch [86/100], Step [10/21], Loss: 0.0003\n",
      "Epoch [86/100], Step [15/21], Loss: 0.0008\n",
      "Epoch [86/100], Step [20/21], Loss: 0.0011\n",
      "Epoch [87/100], Step [5/21], Loss: 0.0004\n",
      "Epoch [87/100], Step [10/21], Loss: 0.0003\n",
      "Epoch [87/100], Step [15/21], Loss: 0.0008\n",
      "Epoch [87/100], Step [20/21], Loss: 0.0011\n",
      "Epoch [88/100], Step [5/21], Loss: 0.0004\n",
      "Epoch [88/100], Step [10/21], Loss: 0.0003\n",
      "Epoch [88/100], Step [15/21], Loss: 0.0008\n",
      "Epoch [88/100], Step [20/21], Loss: 0.0011\n",
      "Epoch [89/100], Step [5/21], Loss: 0.0005\n",
      "Epoch [89/100], Step [10/21], Loss: 0.0004\n",
      "Epoch [89/100], Step [15/21], Loss: 0.0008\n",
      "Epoch [89/100], Step [20/21], Loss: 0.0012\n",
      "Epoch [90/100], Step [5/21], Loss: 0.0006\n",
      "Epoch [90/100], Step [10/21], Loss: 0.0004\n",
      "Epoch [90/100], Step [15/21], Loss: 0.0008\n",
      "Epoch [90/100], Step [20/21], Loss: 0.0012\n",
      "Epoch [91/100], Step [5/21], Loss: 0.0008\n",
      "Epoch [91/100], Step [10/21], Loss: 0.0004\n",
      "Epoch [91/100], Step [15/21], Loss: 0.0009\n",
      "Epoch [91/100], Step [20/21], Loss: 0.0013\n",
      "Epoch [92/100], Step [5/21], Loss: 0.0009\n",
      "Epoch [92/100], Step [10/21], Loss: 0.0004\n",
      "Epoch [92/100], Step [15/21], Loss: 0.0009\n",
      "Epoch [92/100], Step [20/21], Loss: 0.0013\n",
      "Epoch [93/100], Step [5/21], Loss: 0.0011\n",
      "Epoch [93/100], Step [10/21], Loss: 0.0005\n",
      "Epoch [93/100], Step [15/21], Loss: 0.0009\n",
      "Epoch [93/100], Step [20/21], Loss: 0.0014\n",
      "Epoch [94/100], Step [5/21], Loss: 0.0012\n",
      "Epoch [94/100], Step [10/21], Loss: 0.0004\n",
      "Epoch [94/100], Step [15/21], Loss: 0.0008\n",
      "Epoch [94/100], Step [20/21], Loss: 0.0013\n",
      "Epoch [95/100], Step [5/21], Loss: 0.0011\n",
      "Epoch [95/100], Step [10/21], Loss: 0.0004\n",
      "Epoch [95/100], Step [15/21], Loss: 0.0008\n",
      "Epoch [95/100], Step [20/21], Loss: 0.0013\n",
      "Epoch [96/100], Step [5/21], Loss: 0.0009\n",
      "Epoch [96/100], Step [10/21], Loss: 0.0003\n",
      "Epoch [96/100], Step [15/21], Loss: 0.0008\n",
      "Epoch [96/100], Step [20/21], Loss: 0.0012\n",
      "Epoch [97/100], Step [5/21], Loss: 0.0008\n"
     ]
    },
    {
     "name": "stdout",
     "output_type": "stream",
     "text": [
      "Epoch [97/100], Step [10/21], Loss: 0.0003\n",
      "Epoch [97/100], Step [15/21], Loss: 0.0008\n",
      "Epoch [97/100], Step [20/21], Loss: 0.0012\n",
      "Epoch [98/100], Step [5/21], Loss: 0.0006\n",
      "Epoch [98/100], Step [10/21], Loss: 0.0003\n",
      "Epoch [98/100], Step [15/21], Loss: 0.0008\n",
      "Epoch [98/100], Step [20/21], Loss: 0.0011\n",
      "Epoch [99/100], Step [5/21], Loss: 0.0005\n",
      "Epoch [99/100], Step [10/21], Loss: 0.0003\n",
      "Epoch [99/100], Step [15/21], Loss: 0.0008\n",
      "Epoch [99/100], Step [20/21], Loss: 0.0011\n",
      "Epoch [100/100], Step [5/21], Loss: 0.0004\n",
      "Epoch [100/100], Step [10/21], Loss: 0.0003\n",
      "Epoch [100/100], Step [15/21], Loss: 0.0008\n",
      "Epoch [100/100], Step [20/21], Loss: 0.0011\n"
     ]
    }
   ],
   "source": [
    "total_step = len(train_loader)\n",
    "epochs = 100\n",
    "for epoch in range(epochs):\n",
    "    for i, (images, labels) in enumerate(train_loader):\n",
    "        images = images.reshape(-1,30,1)\n",
    "        images = images.to(device)\n",
    "        labels = labels.to(device)\n",
    "        outputs = model(images)\n",
    "        #rint(outputs.shape,labels.shape)\n",
    "        loss = criterion(outputs, labels)\n",
    "        \n",
    "        # Backward and optimize\n",
    "        optimizer.zero_grad()\n",
    "        loss.backward()\n",
    "        optimizer.step()\n",
    "        \n",
    "        if (i+1) % 5 == 0 :\n",
    "            print ('Epoch [{}/{}], Step [{}/{}], Loss: {:.4f}' \n",
    "                   .format(epoch+1, epochs, i+1, total_step, loss.item()))"
   ]
  },
  {
   "cell_type": "markdown",
   "metadata": {},
   "source": [
    "# 预测"
   ]
  },
  {
   "cell_type": "code",
   "execution_count": 152,
   "metadata": {},
   "outputs": [],
   "source": [
    "predicted = model(torch.FloatTensor(trainX.reshape(-1,30,1)).to(device))"
   ]
  },
  {
   "cell_type": "code",
   "execution_count": 154,
   "metadata": {},
   "outputs": [
    {
     "data": {
      "text/plain": [
       "(torch.Size([10683, 1]), (10683, 1))"
      ]
     },
     "execution_count": 154,
     "metadata": {},
     "output_type": "execute_result"
    }
   ],
   "source": [
    "predicted.shape,trainy.shape"
   ]
  },
  {
   "cell_type": "code",
   "execution_count": 155,
   "metadata": {},
   "outputs": [],
   "source": [
    "import matplotlib.pyplot as plt"
   ]
  },
  {
   "cell_type": "code",
   "execution_count": 174,
   "metadata": {},
   "outputs": [
    {
     "data": {
      "image/png": "[encoded data removed]",
      "text/plain": [
       "<Figure size 1440x360 with 1 Axes>"
      ]
     },
     "metadata": {
      "needs_background": "light"
     },
     "output_type": "display_data"
    },
    {
     "data": {
      "text/plain": [
       "<matplotlib.legend.Legend at 0x25fb1bad548>"
      ]
     },
     "execution_count": 174,
     "metadata": {},
     "output_type": "execute_result"
    },
    {
     "data": {
      "image/png": "[encoded data removed]",
      "text/plain": [
       "<Figure size 1440x360 with 1 Axes>"
      ]
     },
     "metadata": {
      "needs_background": "light"
     },
     "output_type": "display_data"
    }
   ],
   "source": [
    "plt.figure(figsize=(20, 5))\n",
    "plt.plot(predicted.cpu().detach().numpy(),label='pre')\n",
    "plt.legend(loc='best')\n",
    "plt.show()\n",
    "plt.figure(figsize=(20, 5))\n",
    "plt.plot(trainy,label = 'real')\n",
    "plt.legend(loc='best')"
   ]
  },
  {
   "cell_type": "code",
   "execution_count": 161,
   "metadata": {},
   "outputs": [
    {
     "data": {
      "text/plain": [
       "array([[0.04821348],\n",
       "       [0.08661271],\n",
       "       [0.09967358],\n",
       "       ...,\n",
       "       [2.27239   ],\n",
       "       [2.3132393 ],\n",
       "       [2.3263865 ]], dtype=float32)"
      ]
     },
     "execution_count": 161,
     "metadata": {},
     "output_type": "execute_result"
    }
   ],
   "source": [
    "predicted.cpu().detach().numpy()"
   ]
  },
  {
   "cell_type": "code",
   "execution_count": 162,
   "metadata": {},
   "outputs": [
    {
     "data": {
      "text/plain": [
       "array([[0.10569414],\n",
       "       [0.10244736],\n",
       "       [0.10123039],\n",
       "       ...,\n",
       "       [2.32141685],\n",
       "       [2.31716587],\n",
       "       [2.31822845]])"
      ]
     },
     "execution_count": 162,
     "metadata": {},
     "output_type": "execute_result"
    }
   ],
   "source": [
    "trainy"
   ]
  },
  {
   "cell_type": "code",
   "execution_count": null,
   "metadata": {},
   "outputs": [],
   "source": []
  },
  {
   "cell_type": "markdown",
   "metadata": {},
   "source": [
    "# 保存模型"
   ]
  },
  {
   "cell_type": "code",
   "execution_count": 175,
   "metadata": {},
   "outputs": [],
   "source": [
    "path = './lst_ft.pth'\n",
    "torch.save(model.state_dict(),path)"
   ]
  }
 ],
 "metadata": {
  "kernelspec": {
   "display_name": "Python 3",
   "language": "python",
   "name": "python3"
  },
  "language_info": {
   "codemirror_mode": {
    "name": "ipython",
    "version": 3
   },
   "file_extension": ".py",
   "mimetype": "text/x-python",
   "name": "python",
   "nbconvert_exporter": "python",
   "pygments_lexer": "ipython3",
   "version": "3.7.5"
  }
 },
 "nbformat": 4,
 "nbformat_minor": 4
}
