{
 "cells": [
  {
   "cell_type": "code",
   "execution_count": 5,
   "metadata": {},
   "outputs": [],
   "source": [
    "import torch\n",
    "import torch.nn as nn\n",
    "import pandas as pd\n",
    "import numpy as np\n",
    "from torch.utils.data import Dataset\n",
    "from torch.utils.data import DataLoader\n",
    "from sklearn import preprocessing"
   ]
  },
  {
   "cell_type": "code",
   "execution_count": 6,
   "metadata": {},
   "outputs": [],
   "source": [
    "# transform a timeseries dataset into a supervised learning dataset\n",
    "def series_to_supervised(data, n_in=1, n_out=1, dropnan=True):\n",
    "    n_vars = 1 if type(data) is list else data.shape[1]\n",
    "    df = pd.DataFrame(data)\n",
    "    cols = list()\n",
    "    # input sequence (t-n, ... t-1)\n",
    "    for i in range(n_in, 0, -1):\n",
    "        cols.append(df.shift(i))\n",
    "    # forecast sequence (t, t+1, ... t+n)\n",
    "    for i in range(0, n_out):\n",
    "        cols.append(df.shift(-i))\n",
    "            # put it all together\n",
    "    agg = pd.concat(cols, axis=1)\n",
    "        # drop rows with NaN values\n",
    "    if dropnan:\n",
    "        agg.dropna(inplace=True)\n",
    "    return agg.values"
   ]
  },
  {
   "cell_type": "code",
   "execution_count": 7,
   "metadata": {},
   "outputs": [
    {
     "data": {
      "text/plain": [
       "(10848, 1)"
      ]
     },
     "execution_count": 7,
     "metadata": {},
     "output_type": "execute_result"
    }
   ],
   "source": [
    "# load the dataset\n",
    "path = './IC00.xls'\n",
    "file = pd.read_excel(path)\n",
    "values = file.loc[:, 'C_'].values\n",
    "values = values.reshape(-1,1)\n",
    "# transform the timeseries data into supervised learning\n",
    "values.shape"
   ]
  },
  {
   "cell_type": "code",
   "execution_count": 8,
   "metadata": {},
   "outputs": [],
   "source": [
    "# 用来标准\n",
    "scaler = preprocessing.StandardScaler().fit(values)\n",
    "values = scaler.transform(values)"
   ]
  },
  {
   "cell_type": "code",
   "execution_count": 9,
   "metadata": {},
   "outputs": [
    {
     "data": {
      "text/plain": [
       "((10818, 30), (10818, 1))"
      ]
     },
     "execution_count": 9,
     "metadata": {},
     "output_type": "execute_result"
    }
   ],
   "source": [
    "train = series_to_supervised(values, n_in=30)\n",
    "# split into input andoutput columns\n",
    "trainX, trainy =train[:, :-1], train[:, -1].reshape(-1,1)\n",
    "trainX.shape,trainy.shape"
   ]
  },
  {
   "cell_type": "code",
   "execution_count": 10,
   "metadata": {},
   "outputs": [
    {
     "data": {
      "text/plain": [
       "((10818, 30), (10818, 1))"
      ]
     },
     "execution_count": 10,
     "metadata": {},
     "output_type": "execute_result"
    }
   ],
   "source": [
    "trainX.shape,trainy.shape"
   ]
  },
  {
   "cell_type": "code",
   "execution_count": 11,
   "metadata": {},
   "outputs": [
    {
     "data": {
      "text/plain": [
       "(array([[-1.63174666, -1.57152829, -1.53390518, -1.54605521, -1.56875707,\n",
       "         -1.56214917, -1.61746475, -1.5999855 , -1.56918351, -1.55820555,\n",
       "         -1.52409961, -1.54935948, -1.48988706, -1.51248232, -1.54051308,\n",
       "         -1.51162976, -1.50288997, -1.54232481, -1.54360414, -1.56534651,\n",
       "         -1.52015632, -1.53315923, -1.52921562, -1.58367832, -1.59625511,\n",
       "         -1.61373436, -1.61480014, -1.57472563, -1.54147258, -1.54243175],\n",
       "        [-1.57152829, -1.53390518, -1.54605521, -1.56875707, -1.56214917,\n",
       "         -1.61746475, -1.5999855 , -1.56918351, -1.55820555, -1.52409961,\n",
       "         -1.54935948, -1.48988706, -1.51248232, -1.54051308, -1.51162976,\n",
       "         -1.50288997, -1.54232481, -1.54360414, -1.56534651, -1.52015632,\n",
       "         -1.53315923, -1.52921562, -1.58367832, -1.59625511, -1.61373436,\n",
       "         -1.61480014, -1.57472563, -1.54147258, -1.54243175, -1.48146711],\n",
       "        [-1.53390518, -1.54605521, -1.56875707, -1.56214917, -1.61746475,\n",
       "         -1.5999855 , -1.56918351, -1.55820555, -1.52409961, -1.54935948,\n",
       "         -1.48988706, -1.51248232, -1.54051308, -1.51162976, -1.50288997,\n",
       "         -1.54232481, -1.54360414, -1.56534651, -1.52015632, -1.53315923,\n",
       "         -1.52921562, -1.58367832, -1.59625511, -1.61373436, -1.61480014,\n",
       "         -1.57472563, -1.54147258, -1.54243175, -1.48146711, -1.4646272 ],\n",
       "        [-1.54605521, -1.56875707, -1.56214917, -1.61746475, -1.5999855 ,\n",
       "         -1.56918351, -1.55820555, -1.52409961, -1.54935948, -1.48988706,\n",
       "         -1.51248232, -1.54051308, -1.51162976, -1.50288997, -1.54232481,\n",
       "         -1.54360414, -1.56534651, -1.52015632, -1.53315923, -1.52921562,\n",
       "         -1.58367832, -1.59625511, -1.61373436, -1.61480014, -1.57472563,\n",
       "         -1.54147258, -1.54243175, -1.48146711, -1.4646272 , -1.43638321],\n",
       "        [-1.56875707, -1.56214917, -1.61746475, -1.5999855 , -1.56918351,\n",
       "         -1.55820555, -1.52409961, -1.54935948, -1.48988706, -1.51248232,\n",
       "         -1.54051308, -1.51162976, -1.50288997, -1.54232481, -1.54360414,\n",
       "         -1.56534651, -1.52015632, -1.53315923, -1.52921562, -1.58367832,\n",
       "         -1.59625511, -1.61373436, -1.61480014, -1.57472563, -1.54147258,\n",
       "         -1.54243175, -1.48146711, -1.4646272 , -1.43638321, -1.44224516]]),\n",
       " array([[-1.48146711],\n",
       "        [-1.4646272 ],\n",
       "        [-1.43638321],\n",
       "        [-1.44224516],\n",
       "        [-1.38032168]]))"
      ]
     },
     "execution_count": 11,
     "metadata": {},
     "output_type": "execute_result"
    }
   ],
   "source": [
    "trainX[:5],trainy[:5]"
   ]
  },
  {
   "cell_type": "markdown",
   "metadata": {},
   "source": [
    "#  数据模块"
   ]
  },
  {
   "cell_type": "code",
   "execution_count": 12,
   "metadata": {},
   "outputs": [],
   "source": [
    "class DiabetesDataset(Dataset):\n",
    "    def __init__(self, x_, y_):\n",
    "        self.len = x_.shape[0]\n",
    "        self.x_data = torch.from_numpy(x_)\n",
    "        # 这部很关键， 特征类型要求float类型\n",
    "        self.x_data = self.x_data.float()\n",
    "        self.y_data = torch.from_numpy(y_)\n",
    "        self.y_data = self.y_data.float()\n",
    "        \n",
    "\n",
    "    def __getitem__(self, item):\n",
    "        return self.x_data[item], self.y_data[item]\n",
    "\n",
    "    def __len__(self):\n",
    "        return self.len"
   ]
  },
  {
   "cell_type": "code",
   "execution_count": 13,
   "metadata": {},
   "outputs": [],
   "source": [
    "dataset = DiabetesDataset(trainX, trainy)\n",
    "train_loader = DataLoader(dataset=dataset, batch_size=512, shuffle=False)"
   ]
  },
  {
   "cell_type": "code",
   "execution_count": null,
   "metadata": {},
   "outputs": [],
   "source": []
  },
  {
   "cell_type": "code",
   "execution_count": null,
   "metadata": {},
   "outputs": [],
   "source": []
  },
  {
   "cell_type": "markdown",
   "metadata": {},
   "source": [
    "# 网络结构"
   ]
  },
  {
   "cell_type": "code",
   "execution_count": 14,
   "metadata": {},
   "outputs": [],
   "source": [
    "# input_size 输入特征的大小\n",
    "# hidden_size 神经元模块额数量\n",
    "# num_layer 几层隐藏层\n",
    "# lstm默认输入的维度是 (seq_len,batch,feature)\n",
    "class LSTM(nn.Module):\n",
    "    def __init__(self):\n",
    "        super().__init__()\n",
    "        self.lstm = torch.nn.LSTM(\n",
    "            input_size = 1,\n",
    "            hidden_size = 64,\n",
    "            num_layers = 1,\n",
    "            batch_first = True\n",
    "        )\n",
    "        self.out = nn.Linear(in_features = 64,out_features = 1)\n",
    "    def forward(self, x):\n",
    "        output,(h_n,c_n) = self.lstm(x)\n",
    "        out = self.out(output[:,-1,:])\n",
    "        return out"
   ]
  },
  {
   "cell_type": "code",
   "execution_count": 15,
   "metadata": {},
   "outputs": [],
   "source": [
    "device = torch.device('cuda')\n",
    "model = LSTM().to(device)"
   ]
  },
  {
   "cell_type": "markdown",
   "metadata": {},
   "source": [
    "# 训练"
   ]
  },
  {
   "cell_type": "code",
   "execution_count": 18,
   "metadata": {},
   "outputs": [],
   "source": [
    "criterion = nn.MSELoss()\n",
    "optimizer = torch.optim.Adam(model.parameters(), lr=0.001)"
   ]
  },
  {
   "cell_type": "code",
   "execution_count": 19,
   "metadata": {},
   "outputs": [
    {
     "name": "stdout",
     "output_type": "stream",
     "text": [
      "Epoch [1/100], Step [5/22], Loss: 0.0009\n",
      "Epoch [1/100], Step [10/22], Loss: 0.0004\n",
      "Epoch [1/100], Step [15/22], Loss: 0.0009\n",
      "Epoch [1/100], Step [20/22], Loss: 0.0014\n",
      "Epoch [2/100], Step [5/22], Loss: 0.0009\n",
      "Epoch [2/100], Step [10/22], Loss: 0.0005\n",
      "Epoch [2/100], Step [15/22], Loss: 0.0009\n",
      "Epoch [2/100], Step [20/22], Loss: 0.0015\n",
      "Epoch [3/100], Step [5/22], Loss: 0.0009\n",
      "Epoch [3/100], Step [10/22], Loss: 0.0021\n",
      "Epoch [3/100], Step [15/22], Loss: 0.0032\n",
      "Epoch [3/100], Step [20/22], Loss: 0.0016\n",
      "Epoch [4/100], Step [5/22], Loss: 0.0014\n",
      "Epoch [4/100], Step [10/22], Loss: 0.0047\n",
      "Epoch [4/100], Step [15/22], Loss: 0.0010\n",
      "Epoch [4/100], Step [20/22], Loss: 0.0016\n",
      "Epoch [5/100], Step [5/22], Loss: 0.0009\n",
      "Epoch [5/100], Step [10/22], Loss: 0.0043\n",
      "Epoch [5/100], Step [15/22], Loss: 0.0014\n",
      "Epoch [5/100], Step [20/22], Loss: 0.0033\n",
      "Epoch [6/100], Step [5/22], Loss: 0.0011\n",
      "Epoch [6/100], Step [10/22], Loss: 0.0035\n",
      "Epoch [6/100], Step [15/22], Loss: 0.0031\n",
      "Epoch [6/100], Step [20/22], Loss: 0.0045\n",
      "Epoch [7/100], Step [5/22], Loss: 0.0016\n",
      "Epoch [7/100], Step [10/22], Loss: 0.0046\n",
      "Epoch [7/100], Step [15/22], Loss: 0.0023\n",
      "Epoch [7/100], Step [20/22], Loss: 0.0076\n",
      "Epoch [8/100], Step [5/22], Loss: 0.0013\n",
      "Epoch [8/100], Step [10/22], Loss: 0.0029\n",
      "Epoch [8/100], Step [15/22], Loss: 0.0028\n",
      "Epoch [8/100], Step [20/22], Loss: 0.0064\n",
      "Epoch [9/100], Step [5/22], Loss: 0.0013\n",
      "Epoch [9/100], Step [10/22], Loss: 0.0019\n",
      "Epoch [9/100], Step [15/22], Loss: 0.0033\n",
      "Epoch [9/100], Step [20/22], Loss: 0.0057\n",
      "Epoch [10/100], Step [5/22], Loss: 0.0010\n",
      "Epoch [10/100], Step [10/22], Loss: 0.0010\n",
      "Epoch [10/100], Step [15/22], Loss: 0.0039\n",
      "Epoch [10/100], Step [20/22], Loss: 0.0047\n",
      "Epoch [11/100], Step [5/22], Loss: 0.0011\n",
      "Epoch [11/100], Step [10/22], Loss: 0.0011\n",
      "Epoch [11/100], Step [15/22], Loss: 0.0037\n",
      "Epoch [11/100], Step [20/22], Loss: 0.0041\n",
      "Epoch [12/100], Step [5/22], Loss: 0.0009\n",
      "Epoch [12/100], Step [10/22], Loss: 0.0007\n",
      "Epoch [12/100], Step [15/22], Loss: 0.0038\n",
      "Epoch [12/100], Step [20/22], Loss: 0.0036\n",
      "Epoch [13/100], Step [5/22], Loss: 0.0010\n",
      "Epoch [13/100], Step [10/22], Loss: 0.0007\n",
      "Epoch [13/100], Step [15/22], Loss: 0.0035\n",
      "Epoch [13/100], Step [20/22], Loss: 0.0031\n",
      "Epoch [14/100], Step [5/22], Loss: 0.0009\n",
      "Epoch [14/100], Step [10/22], Loss: 0.0006\n",
      "Epoch [14/100], Step [15/22], Loss: 0.0037\n",
      "Epoch [14/100], Step [20/22], Loss: 0.0031\n",
      "Epoch [15/100], Step [5/22], Loss: 0.0009\n",
      "Epoch [15/100], Step [10/22], Loss: 0.0007\n",
      "Epoch [15/100], Step [15/22], Loss: 0.0033\n",
      "Epoch [15/100], Step [20/22], Loss: 0.0028\n",
      "Epoch [16/100], Step [5/22], Loss: 0.0009\n",
      "Epoch [16/100], Step [10/22], Loss: 0.0006\n",
      "Epoch [16/100], Step [15/22], Loss: 0.0035\n",
      "Epoch [16/100], Step [20/22], Loss: 0.0030\n",
      "Epoch [17/100], Step [5/22], Loss: 0.0009\n",
      "Epoch [17/100], Step [10/22], Loss: 0.0007\n",
      "Epoch [17/100], Step [15/22], Loss: 0.0030\n",
      "Epoch [17/100], Step [20/22], Loss: 0.0028\n",
      "Epoch [18/100], Step [5/22], Loss: 0.0009\n",
      "Epoch [18/100], Step [10/22], Loss: 0.0007\n",
      "Epoch [18/100], Step [15/22], Loss: 0.0033\n",
      "Epoch [18/100], Step [20/22], Loss: 0.0029\n",
      "Epoch [19/100], Step [5/22], Loss: 0.0009\n",
      "Epoch [19/100], Step [10/22], Loss: 0.0007\n",
      "Epoch [19/100], Step [15/22], Loss: 0.0029\n",
      "Epoch [19/100], Step [20/22], Loss: 0.0028\n",
      "Epoch [20/100], Step [5/22], Loss: 0.0009\n",
      "Epoch [20/100], Step [10/22], Loss: 0.0007\n",
      "Epoch [20/100], Step [15/22], Loss: 0.0032\n",
      "Epoch [20/100], Step [20/22], Loss: 0.0030\n",
      "Epoch [21/100], Step [5/22], Loss: 0.0009\n",
      "Epoch [21/100], Step [10/22], Loss: 0.0008\n",
      "Epoch [21/100], Step [15/22], Loss: 0.0028\n",
      "Epoch [21/100], Step [20/22], Loss: 0.0029\n",
      "Epoch [22/100], Step [5/22], Loss: 0.0009\n",
      "Epoch [22/100], Step [10/22], Loss: 0.0007\n",
      "Epoch [22/100], Step [15/22], Loss: 0.0031\n",
      "Epoch [22/100], Step [20/22], Loss: 0.0030\n",
      "Epoch [23/100], Step [5/22], Loss: 0.0009\n",
      "Epoch [23/100], Step [10/22], Loss: 0.0008\n",
      "Epoch [23/100], Step [15/22], Loss: 0.0028\n",
      "Epoch [23/100], Step [20/22], Loss: 0.0029\n",
      "Epoch [24/100], Step [5/22], Loss: 0.0009\n",
      "Epoch [24/100], Step [10/22], Loss: 0.0007\n",
      "Epoch [24/100], Step [15/22], Loss: 0.0032\n",
      "Epoch [24/100], Step [20/22], Loss: 0.0030\n",
      "Epoch [25/100], Step [5/22], Loss: 0.0009\n",
      "Epoch [25/100], Step [10/22], Loss: 0.0008\n",
      "Epoch [25/100], Step [15/22], Loss: 0.0028\n",
      "Epoch [25/100], Step [20/22], Loss: 0.0030\n",
      "Epoch [26/100], Step [5/22], Loss: 0.0009\n",
      "Epoch [26/100], Step [10/22], Loss: 0.0008\n",
      "Epoch [26/100], Step [15/22], Loss: 0.0032\n",
      "Epoch [26/100], Step [20/22], Loss: 0.0030\n",
      "Epoch [27/100], Step [5/22], Loss: 0.0009\n",
      "Epoch [27/100], Step [10/22], Loss: 0.0008\n",
      "Epoch [27/100], Step [15/22], Loss: 0.0029\n",
      "Epoch [27/100], Step [20/22], Loss: 0.0031\n",
      "Epoch [28/100], Step [5/22], Loss: 0.0009\n",
      "Epoch [28/100], Step [10/22], Loss: 0.0008\n",
      "Epoch [28/100], Step [15/22], Loss: 0.0033\n",
      "Epoch [28/100], Step [20/22], Loss: 0.0031\n",
      "Epoch [29/100], Step [5/22], Loss: 0.0009\n",
      "Epoch [29/100], Step [10/22], Loss: 0.0009\n",
      "Epoch [29/100], Step [15/22], Loss: 0.0029\n",
      "Epoch [29/100], Step [20/22], Loss: 0.0031\n",
      "Epoch [30/100], Step [5/22], Loss: 0.0009\n",
      "Epoch [30/100], Step [10/22], Loss: 0.0008\n",
      "Epoch [30/100], Step [15/22], Loss: 0.0034\n",
      "Epoch [30/100], Step [20/22], Loss: 0.0031\n",
      "Epoch [31/100], Step [5/22], Loss: 0.0009\n",
      "Epoch [31/100], Step [10/22], Loss: 0.0009\n",
      "Epoch [31/100], Step [15/22], Loss: 0.0030\n",
      "Epoch [31/100], Step [20/22], Loss: 0.0031\n",
      "Epoch [32/100], Step [5/22], Loss: 0.0008\n",
      "Epoch [32/100], Step [10/22], Loss: 0.0008\n",
      "Epoch [32/100], Step [15/22], Loss: 0.0034\n",
      "Epoch [32/100], Step [20/22], Loss: 0.0031\n",
      "Epoch [33/100], Step [5/22], Loss: 0.0009\n",
      "Epoch [33/100], Step [10/22], Loss: 0.0009\n",
      "Epoch [33/100], Step [15/22], Loss: 0.0031\n",
      "Epoch [33/100], Step [20/22], Loss: 0.0032\n",
      "Epoch [34/100], Step [5/22], Loss: 0.0008\n",
      "Epoch [34/100], Step [10/22], Loss: 0.0008\n",
      "Epoch [34/100], Step [15/22], Loss: 0.0035\n",
      "Epoch [34/100], Step [20/22], Loss: 0.0032\n",
      "Epoch [35/100], Step [5/22], Loss: 0.0009\n",
      "Epoch [35/100], Step [10/22], Loss: 0.0009\n",
      "Epoch [35/100], Step [15/22], Loss: 0.0031\n",
      "Epoch [35/100], Step [20/22], Loss: 0.0032\n",
      "Epoch [36/100], Step [5/22], Loss: 0.0008\n",
      "Epoch [36/100], Step [10/22], Loss: 0.0008\n",
      "Epoch [36/100], Step [15/22], Loss: 0.0036\n",
      "Epoch [36/100], Step [20/22], Loss: 0.0032\n",
      "Epoch [37/100], Step [5/22], Loss: 0.0009\n",
      "Epoch [37/100], Step [10/22], Loss: 0.0009\n",
      "Epoch [37/100], Step [15/22], Loss: 0.0031\n",
      "Epoch [37/100], Step [20/22], Loss: 0.0032\n",
      "Epoch [38/100], Step [5/22], Loss: 0.0008\n",
      "Epoch [38/100], Step [10/22], Loss: 0.0008\n",
      "Epoch [38/100], Step [15/22], Loss: 0.0036\n",
      "Epoch [38/100], Step [20/22], Loss: 0.0031\n",
      "Epoch [39/100], Step [5/22], Loss: 0.0009\n",
      "Epoch [39/100], Step [10/22], Loss: 0.0009\n",
      "Epoch [39/100], Step [15/22], Loss: 0.0031\n",
      "Epoch [39/100], Step [20/22], Loss: 0.0032\n",
      "Epoch [40/100], Step [5/22], Loss: 0.0008\n",
      "Epoch [40/100], Step [10/22], Loss: 0.0008\n",
      "Epoch [40/100], Step [15/22], Loss: 0.0036\n",
      "Epoch [40/100], Step [20/22], Loss: 0.0031\n",
      "Epoch [41/100], Step [5/22], Loss: 0.0009\n",
      "Epoch [41/100], Step [10/22], Loss: 0.0009\n",
      "Epoch [41/100], Step [15/22], Loss: 0.0031\n",
      "Epoch [41/100], Step [20/22], Loss: 0.0031\n",
      "Epoch [42/100], Step [5/22], Loss: 0.0008\n",
      "Epoch [42/100], Step [10/22], Loss: 0.0008\n",
      "Epoch [42/100], Step [15/22], Loss: 0.0035\n",
      "Epoch [42/100], Step [20/22], Loss: 0.0031\n",
      "Epoch [43/100], Step [5/22], Loss: 0.0009\n",
      "Epoch [43/100], Step [10/22], Loss: 0.0008\n",
      "Epoch [43/100], Step [15/22], Loss: 0.0031\n",
      "Epoch [43/100], Step [20/22], Loss: 0.0031\n",
      "Epoch [44/100], Step [5/22], Loss: 0.0008\n",
      "Epoch [44/100], Step [10/22], Loss: 0.0008\n",
      "Epoch [44/100], Step [15/22], Loss: 0.0034\n",
      "Epoch [44/100], Step [20/22], Loss: 0.0030\n",
      "Epoch [45/100], Step [5/22], Loss: 0.0008\n",
      "Epoch [45/100], Step [10/22], Loss: 0.0008\n",
      "Epoch [45/100], Step [15/22], Loss: 0.0030\n",
      "Epoch [45/100], Step [20/22], Loss: 0.0030\n",
      "Epoch [46/100], Step [5/22], Loss: 0.0008\n",
      "Epoch [46/100], Step [10/22], Loss: 0.0008\n",
      "Epoch [46/100], Step [15/22], Loss: 0.0034\n",
      "Epoch [46/100], Step [20/22], Loss: 0.0029\n",
      "Epoch [47/100], Step [5/22], Loss: 0.0008\n",
      "Epoch [47/100], Step [10/22], Loss: 0.0008\n",
      "Epoch [47/100], Step [15/22], Loss: 0.0029\n",
      "Epoch [47/100], Step [20/22], Loss: 0.0030\n",
      "Epoch [48/100], Step [5/22], Loss: 0.0008\n",
      "Epoch [48/100], Step [10/22], Loss: 0.0007\n",
      "Epoch [48/100], Step [15/22], Loss: 0.0033\n",
      "Epoch [48/100], Step [20/22], Loss: 0.0029\n",
      "Epoch [49/100], Step [5/22], Loss: 0.0008\n",
      "Epoch [49/100], Step [10/22], Loss: 0.0008\n",
      "Epoch [49/100], Step [15/22], Loss: 0.0028\n"
     ]
    },
    {
     "name": "stdout",
     "output_type": "stream",
     "text": [
      "Epoch [49/100], Step [20/22], Loss: 0.0029\n",
      "Epoch [50/100], Step [5/22], Loss: 0.0008\n",
      "Epoch [50/100], Step [10/22], Loss: 0.0007\n",
      "Epoch [50/100], Step [15/22], Loss: 0.0032\n",
      "Epoch [50/100], Step [20/22], Loss: 0.0028\n",
      "Epoch [51/100], Step [5/22], Loss: 0.0008\n",
      "Epoch [51/100], Step [10/22], Loss: 0.0008\n",
      "Epoch [51/100], Step [15/22], Loss: 0.0028\n",
      "Epoch [51/100], Step [20/22], Loss: 0.0029\n",
      "Epoch [52/100], Step [5/22], Loss: 0.0008\n",
      "Epoch [52/100], Step [10/22], Loss: 0.0007\n",
      "Epoch [52/100], Step [15/22], Loss: 0.0029\n",
      "Epoch [52/100], Step [20/22], Loss: 0.0027\n",
      "Epoch [53/100], Step [5/22], Loss: 0.0009\n",
      "Epoch [53/100], Step [10/22], Loss: 0.0008\n",
      "Epoch [53/100], Step [15/22], Loss: 0.0027\n",
      "Epoch [53/100], Step [20/22], Loss: 0.0026\n",
      "Epoch [54/100], Step [5/22], Loss: 0.0008\n",
      "Epoch [54/100], Step [10/22], Loss: 0.0007\n",
      "Epoch [54/100], Step [15/22], Loss: 0.0025\n",
      "Epoch [54/100], Step [20/22], Loss: 0.0024\n",
      "Epoch [55/100], Step [5/22], Loss: 0.0009\n",
      "Epoch [55/100], Step [10/22], Loss: 0.0009\n",
      "Epoch [55/100], Step [15/22], Loss: 0.0024\n",
      "Epoch [55/100], Step [20/22], Loss: 0.0026\n",
      "Epoch [56/100], Step [5/22], Loss: 0.0009\n",
      "Epoch [56/100], Step [10/22], Loss: 0.0006\n",
      "Epoch [56/100], Step [15/22], Loss: 0.0020\n",
      "Epoch [56/100], Step [20/22], Loss: 0.0022\n",
      "Epoch [57/100], Step [5/22], Loss: 0.0008\n",
      "Epoch [57/100], Step [10/22], Loss: 0.0006\n",
      "Epoch [57/100], Step [15/22], Loss: 0.0017\n",
      "Epoch [57/100], Step [20/22], Loss: 0.0022\n",
      "Epoch [58/100], Step [5/22], Loss: 0.0008\n",
      "Epoch [58/100], Step [10/22], Loss: 0.0006\n",
      "Epoch [58/100], Step [15/22], Loss: 0.0019\n",
      "Epoch [58/100], Step [20/22], Loss: 0.0021\n",
      "Epoch [59/100], Step [5/22], Loss: 0.0008\n",
      "Epoch [59/100], Step [10/22], Loss: 0.0007\n",
      "Epoch [59/100], Step [15/22], Loss: 0.0018\n",
      "Epoch [59/100], Step [20/22], Loss: 0.0023\n",
      "Epoch [60/100], Step [5/22], Loss: 0.0008\n",
      "Epoch [60/100], Step [10/22], Loss: 0.0006\n",
      "Epoch [60/100], Step [15/22], Loss: 0.0021\n",
      "Epoch [60/100], Step [20/22], Loss: 0.0021\n",
      "Epoch [61/100], Step [5/22], Loss: 0.0008\n",
      "Epoch [61/100], Step [10/22], Loss: 0.0007\n",
      "Epoch [61/100], Step [15/22], Loss: 0.0019\n",
      "Epoch [61/100], Step [20/22], Loss: 0.0024\n",
      "Epoch [62/100], Step [5/22], Loss: 0.0008\n",
      "Epoch [62/100], Step [10/22], Loss: 0.0007\n",
      "Epoch [62/100], Step [15/22], Loss: 0.0022\n",
      "Epoch [62/100], Step [20/22], Loss: 0.0022\n",
      "Epoch [63/100], Step [5/22], Loss: 0.0008\n",
      "Epoch [63/100], Step [10/22], Loss: 0.0008\n",
      "Epoch [63/100], Step [15/22], Loss: 0.0020\n",
      "Epoch [63/100], Step [20/22], Loss: 0.0025\n",
      "Epoch [64/100], Step [5/22], Loss: 0.0008\n",
      "Epoch [64/100], Step [10/22], Loss: 0.0007\n",
      "Epoch [64/100], Step [15/22], Loss: 0.0024\n",
      "Epoch [64/100], Step [20/22], Loss: 0.0023\n",
      "Epoch [65/100], Step [5/22], Loss: 0.0008\n",
      "Epoch [65/100], Step [10/22], Loss: 0.0009\n",
      "Epoch [65/100], Step [15/22], Loss: 0.0022\n",
      "Epoch [65/100], Step [20/22], Loss: 0.0027\n",
      "Epoch [66/100], Step [5/22], Loss: 0.0008\n",
      "Epoch [66/100], Step [10/22], Loss: 0.0008\n",
      "Epoch [66/100], Step [15/22], Loss: 0.0027\n",
      "Epoch [66/100], Step [20/22], Loss: 0.0025\n",
      "Epoch [67/100], Step [5/22], Loss: 0.0008\n",
      "Epoch [67/100], Step [10/22], Loss: 0.0010\n",
      "Epoch [67/100], Step [15/22], Loss: 0.0025\n",
      "Epoch [67/100], Step [20/22], Loss: 0.0029\n",
      "Epoch [68/100], Step [5/22], Loss: 0.0008\n",
      "Epoch [68/100], Step [10/22], Loss: 0.0009\n",
      "Epoch [68/100], Step [15/22], Loss: 0.0030\n",
      "Epoch [68/100], Step [20/22], Loss: 0.0026\n",
      "Epoch [69/100], Step [5/22], Loss: 0.0008\n",
      "Epoch [69/100], Step [10/22], Loss: 0.0010\n",
      "Epoch [69/100], Step [15/22], Loss: 0.0027\n",
      "Epoch [69/100], Step [20/22], Loss: 0.0030\n",
      "Epoch [70/100], Step [5/22], Loss: 0.0008\n",
      "Epoch [70/100], Step [10/22], Loss: 0.0009\n",
      "Epoch [70/100], Step [15/22], Loss: 0.0034\n",
      "Epoch [70/100], Step [20/22], Loss: 0.0028\n",
      "Epoch [71/100], Step [5/22], Loss: 0.0008\n",
      "Epoch [71/100], Step [10/22], Loss: 0.0011\n",
      "Epoch [71/100], Step [15/22], Loss: 0.0031\n",
      "Epoch [71/100], Step [20/22], Loss: 0.0033\n",
      "Epoch [72/100], Step [5/22], Loss: 0.0008\n",
      "Epoch [72/100], Step [10/22], Loss: 0.0011\n",
      "Epoch [72/100], Step [15/22], Loss: 0.0036\n",
      "Epoch [72/100], Step [20/22], Loss: 0.0031\n",
      "Epoch [73/100], Step [5/22], Loss: 0.0009\n",
      "Epoch [73/100], Step [10/22], Loss: 0.0011\n",
      "Epoch [73/100], Step [15/22], Loss: 0.0033\n",
      "Epoch [73/100], Step [20/22], Loss: 0.0033\n",
      "Epoch [74/100], Step [5/22], Loss: 0.0008\n",
      "Epoch [74/100], Step [10/22], Loss: 0.0010\n",
      "Epoch [74/100], Step [15/22], Loss: 0.0036\n",
      "Epoch [74/100], Step [20/22], Loss: 0.0030\n",
      "Epoch [75/100], Step [5/22], Loss: 0.0009\n",
      "Epoch [75/100], Step [10/22], Loss: 0.0017\n",
      "Epoch [75/100], Step [15/22], Loss: 0.0039\n",
      "Epoch [75/100], Step [20/22], Loss: 0.0035\n",
      "Epoch [76/100], Step [5/22], Loss: 0.0010\n",
      "Epoch [76/100], Step [10/22], Loss: 0.0015\n",
      "Epoch [76/100], Step [15/22], Loss: 0.0026\n",
      "Epoch [76/100], Step [20/22], Loss: 0.0031\n",
      "Epoch [77/100], Step [5/22], Loss: 0.0009\n",
      "Epoch [77/100], Step [10/22], Loss: 0.0011\n",
      "Epoch [77/100], Step [15/22], Loss: 0.0024\n",
      "Epoch [77/100], Step [20/22], Loss: 0.0030\n",
      "Epoch [78/100], Step [5/22], Loss: 0.0009\n",
      "Epoch [78/100], Step [10/22], Loss: 0.0011\n",
      "Epoch [78/100], Step [15/22], Loss: 0.0030\n",
      "Epoch [78/100], Step [20/22], Loss: 0.0032\n",
      "Epoch [79/100], Step [5/22], Loss: 0.0009\n",
      "Epoch [79/100], Step [10/22], Loss: 0.0013\n",
      "Epoch [79/100], Step [15/22], Loss: 0.0032\n",
      "Epoch [79/100], Step [20/22], Loss: 0.0035\n",
      "Epoch [80/100], Step [5/22], Loss: 0.0008\n",
      "Epoch [80/100], Step [10/22], Loss: 0.0009\n",
      "Epoch [80/100], Step [15/22], Loss: 0.0036\n",
      "Epoch [80/100], Step [20/22], Loss: 0.0030\n",
      "Epoch [81/100], Step [5/22], Loss: 0.0009\n",
      "Epoch [81/100], Step [10/22], Loss: 0.0009\n",
      "Epoch [81/100], Step [15/22], Loss: 0.0032\n",
      "Epoch [81/100], Step [20/22], Loss: 0.0031\n",
      "Epoch [82/100], Step [5/22], Loss: 0.0008\n",
      "Epoch [82/100], Step [10/22], Loss: 0.0008\n",
      "Epoch [82/100], Step [15/22], Loss: 0.0035\n",
      "Epoch [82/100], Step [20/22], Loss: 0.0030\n",
      "Epoch [83/100], Step [5/22], Loss: 0.0008\n",
      "Epoch [83/100], Step [10/22], Loss: 0.0009\n",
      "Epoch [83/100], Step [15/22], Loss: 0.0033\n",
      "Epoch [83/100], Step [20/22], Loss: 0.0031\n",
      "Epoch [84/100], Step [5/22], Loss: 0.0008\n",
      "Epoch [84/100], Step [10/22], Loss: 0.0007\n",
      "Epoch [84/100], Step [15/22], Loss: 0.0033\n",
      "Epoch [84/100], Step [20/22], Loss: 0.0028\n",
      "Epoch [85/100], Step [5/22], Loss: 0.0009\n",
      "Epoch [85/100], Step [10/22], Loss: 0.0007\n",
      "Epoch [85/100], Step [15/22], Loss: 0.0027\n",
      "Epoch [85/100], Step [20/22], Loss: 0.0028\n",
      "Epoch [86/100], Step [5/22], Loss: 0.0008\n",
      "Epoch [86/100], Step [10/22], Loss: 0.0007\n",
      "Epoch [86/100], Step [15/22], Loss: 0.0030\n",
      "Epoch [86/100], Step [20/22], Loss: 0.0026\n",
      "Epoch [87/100], Step [5/22], Loss: 0.0008\n",
      "Epoch [87/100], Step [10/22], Loss: 0.0008\n",
      "Epoch [87/100], Step [15/22], Loss: 0.0026\n",
      "Epoch [87/100], Step [20/22], Loss: 0.0028\n",
      "Epoch [88/100], Step [5/22], Loss: 0.0008\n",
      "Epoch [88/100], Step [10/22], Loss: 0.0007\n",
      "Epoch [88/100], Step [15/22], Loss: 0.0029\n",
      "Epoch [88/100], Step [20/22], Loss: 0.0025\n",
      "Epoch [89/100], Step [5/22], Loss: 0.0008\n",
      "Epoch [89/100], Step [10/22], Loss: 0.0007\n",
      "Epoch [89/100], Step [15/22], Loss: 0.0024\n",
      "Epoch [89/100], Step [20/22], Loss: 0.0027\n",
      "Epoch [90/100], Step [5/22], Loss: 0.0008\n",
      "Epoch [90/100], Step [10/22], Loss: 0.0007\n",
      "Epoch [90/100], Step [15/22], Loss: 0.0027\n",
      "Epoch [90/100], Step [20/22], Loss: 0.0024\n",
      "Epoch [91/100], Step [5/22], Loss: 0.0008\n",
      "Epoch [91/100], Step [10/22], Loss: 0.0007\n",
      "Epoch [91/100], Step [15/22], Loss: 0.0023\n",
      "Epoch [91/100], Step [20/22], Loss: 0.0026\n",
      "Epoch [92/100], Step [5/22], Loss: 0.0008\n",
      "Epoch [92/100], Step [10/22], Loss: 0.0007\n",
      "Epoch [92/100], Step [15/22], Loss: 0.0027\n",
      "Epoch [92/100], Step [20/22], Loss: 0.0024\n",
      "Epoch [93/100], Step [5/22], Loss: 0.0008\n",
      "Epoch [93/100], Step [10/22], Loss: 0.0007\n",
      "Epoch [93/100], Step [15/22], Loss: 0.0022\n",
      "Epoch [93/100], Step [20/22], Loss: 0.0026\n",
      "Epoch [94/100], Step [5/22], Loss: 0.0008\n",
      "Epoch [94/100], Step [10/22], Loss: 0.0007\n",
      "Epoch [94/100], Step [15/22], Loss: 0.0025\n",
      "Epoch [94/100], Step [20/22], Loss: 0.0023\n",
      "Epoch [95/100], Step [5/22], Loss: 0.0008\n",
      "Epoch [95/100], Step [10/22], Loss: 0.0007\n",
      "Epoch [95/100], Step [15/22], Loss: 0.0022\n",
      "Epoch [95/100], Step [20/22], Loss: 0.0026\n",
      "Epoch [96/100], Step [5/22], Loss: 0.0008\n",
      "Epoch [96/100], Step [10/22], Loss: 0.0007\n",
      "Epoch [96/100], Step [15/22], Loss: 0.0025\n",
      "Epoch [96/100], Step [20/22], Loss: 0.0023\n",
      "Epoch [97/100], Step [5/22], Loss: 0.0008\n",
      "Epoch [97/100], Step [10/22], Loss: 0.0007\n",
      "Epoch [97/100], Step [15/22], Loss: 0.0021\n"
     ]
    },
    {
     "name": "stdout",
     "output_type": "stream",
     "text": [
      "Epoch [97/100], Step [20/22], Loss: 0.0025\n",
      "Epoch [98/100], Step [5/22], Loss: 0.0008\n",
      "Epoch [98/100], Step [10/22], Loss: 0.0007\n",
      "Epoch [98/100], Step [15/22], Loss: 0.0024\n",
      "Epoch [98/100], Step [20/22], Loss: 0.0022\n",
      "Epoch [99/100], Step [5/22], Loss: 0.0008\n",
      "Epoch [99/100], Step [10/22], Loss: 0.0007\n",
      "Epoch [99/100], Step [15/22], Loss: 0.0021\n",
      "Epoch [99/100], Step [20/22], Loss: 0.0025\n",
      "Epoch [100/100], Step [5/22], Loss: 0.0008\n",
      "Epoch [100/100], Step [10/22], Loss: 0.0007\n",
      "Epoch [100/100], Step [15/22], Loss: 0.0024\n",
      "Epoch [100/100], Step [20/22], Loss: 0.0022\n"
     ]
    }
   ],
   "source": [
    "total_step = len(train_loader)\n",
    "epochs = 100\n",
    "for epoch in range(epochs):\n",
    "    for i, (images, labels) in enumerate(train_loader):\n",
    "        images = images.reshape(-1,30,1)\n",
    "        images = images.to(device)\n",
    "        labels = labels.to(device)\n",
    "        outputs = model(images)\n",
    "        #rint(outputs.shape,labels.shape)\n",
    "        loss = criterion(outputs, labels)\n",
    "        \n",
    "        # Backward and optimize\n",
    "        optimizer.zero_grad()\n",
    "        loss.backward()\n",
    "        optimizer.step()\n",
    "        \n",
    "        if (i+1) % 5 == 0 :\n",
    "            print ('Epoch [{}/{}], Step [{}/{}], Loss: {:.4f}' \n",
    "                   .format(epoch+1, epochs, i+1, total_step, loss.item()))"
   ]
  },
  {
   "cell_type": "markdown",
   "metadata": {},
   "source": [
    "# 预测"
   ]
  },
  {
   "cell_type": "code",
   "execution_count": 20,
   "metadata": {},
   "outputs": [],
   "source": [
    "predicted = model(torch.FloatTensor(trainX.reshape(-1,30,1)).to(device))"
   ]
  },
  {
   "cell_type": "code",
   "execution_count": 21,
   "metadata": {},
   "outputs": [
    {
     "data": {
      "text/plain": [
       "(torch.Size([10818, 1]), (10818, 1))"
      ]
     },
     "execution_count": 21,
     "metadata": {},
     "output_type": "execute_result"
    }
   ],
   "source": [
    "predicted.shape,trainy.shape"
   ]
  },
  {
   "cell_type": "code",
   "execution_count": 22,
   "metadata": {},
   "outputs": [],
   "source": [
    "import matplotlib.pyplot as plt"
   ]
  },
  {
   "cell_type": "code",
   "execution_count": 23,
   "metadata": {},
   "outputs": [
    {
     "data": {
      "image/png": "[encoded data removed]",
      "text/plain": [
       "<Figure size 1440x360 with 1 Axes>"
      ]
     },
     "metadata": {
      "needs_background": "light"
     },
     "output_type": "display_data"
    },
    {
     "data": {
      "text/plain": [
       "<matplotlib.legend.Legend at 0x2a5385a6a88>"
      ]
     },
     "execution_count": 23,
     "metadata": {},
     "output_type": "execute_result"
    },
    {
     "data": {
      "image/png": "[encoded data removed]",
      "text/plain": [
       "<Figure size 1440x360 with 1 Axes>"
      ]
     },
     "metadata": {
      "needs_background": "light"
     },
     "output_type": "display_data"
    }
   ],
   "source": [
    "plt.figure(figsize=(20, 5))\n",
    "plt.plot(predicted.cpu().detach().numpy(),label='pre')\n",
    "plt.legend(loc='best')\n",
    "plt.show()\n",
    "plt.figure(figsize=(20, 5))\n",
    "plt.plot(trainy,label = 'real')\n",
    "plt.legend(loc='best')"
   ]
  },
  {
   "cell_type": "code",
   "execution_count": 24,
   "metadata": {},
   "outputs": [
    {
     "data": {
      "text/plain": [
       "array([[-1.5894815],\n",
       "       [-1.524079 ],\n",
       "       [-1.502182 ],\n",
       "       ...,\n",
       "       [ 2.554876 ],\n",
       "       [ 2.5541024],\n",
       "       [ 2.6107347]], dtype=float32)"
      ]
     },
     "execution_count": 24,
     "metadata": {},
     "output_type": "execute_result"
    }
   ],
   "source": [
    "predicted.cpu().detach().numpy()"
   ]
  },
  {
   "cell_type": "code",
   "execution_count": 25,
   "metadata": {},
   "outputs": [
    {
     "data": {
      "text/plain": [
       "array([[-1.48146711],\n",
       "       [-1.4646272 ],\n",
       "       [-1.43638321],\n",
       "       ...,\n",
       "       [ 2.49552844],\n",
       "       [ 2.53546838],\n",
       "       [ 2.52827932]])"
      ]
     },
     "execution_count": 25,
     "metadata": {},
     "output_type": "execute_result"
    }
   ],
   "source": [
    "trainy"
   ]
  },
  {
   "cell_type": "code",
   "execution_count": null,
   "metadata": {},
   "outputs": [],
   "source": []
  },
  {
   "cell_type": "markdown",
   "metadata": {},
   "source": [
    "# 保存模型"
   ]
  },
  {
   "cell_type": "code",
   "execution_count": 26,
   "metadata": {},
   "outputs": [],
   "source": [
    "path = './lst_ft.pth'\n",
    "torch.save(model.state_dict(),path)"
   ]
  }
 ],
 "metadata": {
  "kernelspec": {
   "display_name": "Python 3",
   "language": "python",
   "name": "python3"
  },
  "language_info": {
   "codemirror_mode": {
    "name": "ipython",
    "version": 3
   },
   "file_extension": ".py",
   "mimetype": "text/x-python",
   "name": "python",
   "nbconvert_exporter": "python",
   "pygments_lexer": "ipython3",
   "version": "3.7.5"
  }
 },
 "nbformat": 4,
 "nbformat_minor": 4
}
